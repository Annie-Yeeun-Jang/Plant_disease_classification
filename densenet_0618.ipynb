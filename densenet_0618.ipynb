{
  "nbformat": 4,
  "nbformat_minor": 0,
  "metadata": {
    "colab": {
      "name": "densenet_0618.ipynb",
      "provenance": [],
      "collapsed_sections": [],
      "machine_shape": "hm",
      "authorship_tag": "ABX9TyONG2fTnWVRetUIeqE93OMl",
      "include_colab_link": true
    },
    "kernelspec": {
      "name": "python3",
      "display_name": "Python 3"
    },
    "accelerator": "GPU"
  },
  "cells": [
    {
      "cell_type": "markdown",
      "metadata": {
        "id": "view-in-github",
        "colab_type": "text"
      },
      "source": [
        "<a href=\"https://colab.research.google.com/github/Annie-Yeeun-Jang/Plant_disease_classification/blob/master/densenet_0618.ipynb\" target=\"_parent\"><img src=\"https://colab.research.google.com/assets/colab-badge.svg\" alt=\"Open In Colab\"/></a>"
      ]
    },
    {
      "cell_type": "code",
      "metadata": {
        "_cell_guid": "79c7e3d0-c299-4dcb-8224-4455121ee9b0",
        "_uuid": "d629ff2d2480ee46fbb7e2d37f6b5fab8052498a",
        "id": "IrFxmHGmQG4A",
        "colab_type": "code",
        "colab": {
          "base_uri": "https://localhost:8080/",
          "height": 68
        },
        "outputId": "5c1e90d3-3661-4244-bc64-22e18a732f4d"
      },
      "source": [
        "import numpy as np\n",
        "import pandas as pd\n",
        "import matplotlib.pyplot as plt\n",
        "%matplotlib inline\n",
        "import seaborn as sns\n",
        "import cv2\n",
        "from tqdm import tqdm\n",
        "from sklearn.metrics import confusion_matrix\n",
        "from sklearn.model_selection import train_test_split\n",
        "from keras.utils.np_utils import to_categorical\n",
        "from keras.models import Model,Sequential, Input, load_model\n",
        "from keras.layers import Dense, Dropout, Flatten, Conv2D, MaxPooling2D, BatchNormalization, AveragePooling2D, GlobalAveragePooling2D, Activation, Dropout, Dense\n",
        "from keras.optimizers import Adam\n",
        "from keras.preprocessing.image import ImageDataGenerator\n",
        "from keras.callbacks import EarlyStopping, ModelCheckpoint, ReduceLROnPlateau\n",
        "from keras.applications import DenseNet121"
      ],
      "execution_count": 1,
      "outputs": [
        {
          "output_type": "stream",
          "text": [
            "/usr/local/lib/python3.6/dist-packages/statsmodels/tools/_testing.py:19: FutureWarning: pandas.util.testing is deprecated. Use the functions in the public API at pandas.testing instead.\n",
            "  import pandas.util.testing as tm\n",
            "Using TensorFlow backend.\n"
          ],
          "name": "stderr"
        }
      ]
    },
    {
      "cell_type": "code",
      "metadata": {
        "id": "fdgYSc4H0MFc",
        "colab_type": "code",
        "colab": {
          "base_uri": "https://localhost:8080/",
          "height": 122
        },
        "outputId": "3c0e0f91-8e98-447f-ac77-4cee0949f1dc"
      },
      "source": [
        "from google.colab import drive\n",
        "drive.mount('/content/gdrive')\n",
        "dst_path = '/content/gdrive/My Drive/dataset_split'\n",
        "\n",
        "import os\n",
        "os.chdir('/content/gdrive/My Drive/dataset_split')"
      ],
      "execution_count": 2,
      "outputs": [
        {
          "output_type": "stream",
          "text": [
            "Go to this URL in a browser: https://accounts.google.com/o/oauth2/auth?client_id=947318989803-6bn6qk8qdgf4n4g3pfee6491hc0brc4i.apps.googleusercontent.com&redirect_uri=urn%3aietf%3awg%3aoauth%3a2.0%3aoob&response_type=code&scope=email%20https%3a%2f%2fwww.googleapis.com%2fauth%2fdocs.test%20https%3a%2f%2fwww.googleapis.com%2fauth%2fdrive%20https%3a%2f%2fwww.googleapis.com%2fauth%2fdrive.photos.readonly%20https%3a%2f%2fwww.googleapis.com%2fauth%2fpeopleapi.readonly\n",
            "\n",
            "Enter your authorization code:\n",
            "··········\n",
            "Mounted at /content/gdrive\n"
          ],
          "name": "stdout"
        }
      ]
    },
    {
      "cell_type": "code",
      "metadata": {
        "id": "qq_M53ua2jPA",
        "colab_type": "code",
        "colab": {
          "base_uri": "https://localhost:8080/",
          "height": 51
        },
        "outputId": "36c91b21-27bf-4c5a-9faa-d18671585850"
      },
      "source": [
        "from tensorflow.keras.preprocessing.image import ImageDataGenerator\n",
        "\n",
        "train_dir = os.path.join(dst_path, 'train')\n",
        "validation_dir = os.path.join(dst_path, 'validation')\n",
        "test_dir = os.path.join(dst_path, 'test')\n",
        "\n",
        "train_datagen = ImageDataGenerator(rescale = 1./255,\n",
        "                                   horizontal_flip=True,\n",
        "                                   vertical_flip=True,\n",
        "                                   zoom_range=0.2)\n",
        "test_datagen = ImageDataGenerator(rescale=1./255)\n",
        "\n",
        "train_generator = train_datagen.flow_from_directory(train_dir,\n",
        "                                                    target_size=(64,64),\n",
        "                                                    batch_size=16,\n",
        "                                                    class_mode='categorical')\n",
        "\n",
        "validation_generator = test_datagen.flow_from_directory(validation_dir,\n",
        "                                                        target_size=(64,64),\n",
        "                                                        batch_size=16,\n",
        "                                                        class_mode='categorical')"
      ],
      "execution_count": 3,
      "outputs": [
        {
          "output_type": "stream",
          "text": [
            "Found 36179 images belonging to 33 classes.\n",
            "Found 7989 images belonging to 33 classes.\n"
          ],
          "name": "stdout"
        }
      ]
    },
    {
      "cell_type": "code",
      "metadata": {
        "id": "7fk2fGPe8p-m",
        "colab_type": "code",
        "colab": {}
      },
      "source": [
        "SIZE=64\n",
        "N_ch=3"
      ],
      "execution_count": 4,
      "outputs": []
    },
    {
      "cell_type": "code",
      "metadata": {
        "id": "XoxaNg0G7V5P",
        "colab_type": "code",
        "colab": {}
      },
      "source": [
        "def build_densenet():\n",
        "    densenet = DenseNet121(weights='imagenet', include_top=False)\n",
        "\n",
        "    input = Input(shape=(SIZE, SIZE, N_ch))\n",
        "    x = Conv2D(3, (3, 3), padding='same')(input)\n",
        "    \n",
        "    x = densenet(x)\n",
        "    \n",
        "    x = GlobalAveragePooling2D()(x)\n",
        "    x = BatchNormalization()(x)\n",
        "    x = Dropout(0.5)(x)\n",
        "    x = Dense(256, activation='relu')(x)\n",
        "    x = BatchNormalization()(x)\n",
        "    x = Dropout(0.5)(x)\n",
        "\n",
        "    # multi output\n",
        "    output = Dense(33, activation = 'softmax', name='root')(x)\n",
        "\n",
        "    # model\n",
        "    model = Model(input,output)\n",
        "    #layer.trainable = False\n",
        "    \n",
        "    optimizer = Adam(lr=0.002, beta_1=0.9, beta_2=0.999, epsilon=0.1, decay=0.0)\n",
        "    model.compile(loss='categorical_crossentropy', optimizer=optimizer, metrics=['accuracy'])\n",
        "    model.summary()\n",
        "\n",
        "    return model"
      ],
      "execution_count": 5,
      "outputs": []
    },
    {
      "cell_type": "code",
      "metadata": {
        "id": "pievgw5c7vwk",
        "colab_type": "code",
        "colab": {
          "base_uri": "https://localhost:8080/",
          "height": 1000
        },
        "outputId": "864baedb-d851-4a0f-95e4-5405abc8595f"
      },
      "source": [
        "model = build_densenet()\n",
        "#annealer = ReduceLROnPlateau(monitor='val_accuracy', factor=0.5, patience=5, verbose=1, min_lr=1e-3)\n",
        "\n",
        "my_callbacks = [\n",
        "    EarlyStopping(patience=10),\n",
        "    ModelCheckpoint('model.h5', save_best_only=True)\n",
        "]\n",
        "# Fits the model on batches with real-time data augmentation\n",
        "dense = model.fit_generator(train_generator,\n",
        "                            steps_per_epoch=566,\n",
        "                            epochs=20,\n",
        "                            validation_data=validation_generator,\n",
        "                            callbacks=my_callbacks)"
      ],
      "execution_count": 6,
      "outputs": [
        {
          "output_type": "stream",
          "text": [
            "Downloading data from https://github.com/keras-team/keras-applications/releases/download/densenet/densenet121_weights_tf_dim_ordering_tf_kernels_notop.h5\n",
            "29089792/29084464 [==============================] - 0s 0us/step\n",
            "Model: \"model_1\"\n",
            "_________________________________________________________________\n",
            "Layer (type)                 Output Shape              Param #   \n",
            "=================================================================\n",
            "input_2 (InputLayer)         (None, 64, 64, 3)         0         \n",
            "_________________________________________________________________\n",
            "conv2d_1 (Conv2D)            (None, 64, 64, 3)         84        \n",
            "_________________________________________________________________\n",
            "densenet121 (Model)          multiple                  7037504   \n",
            "_________________________________________________________________\n",
            "global_average_pooling2d_1 ( (None, 1024)              0         \n",
            "_________________________________________________________________\n",
            "batch_normalization_1 (Batch (None, 1024)              4096      \n",
            "_________________________________________________________________\n",
            "dropout_1 (Dropout)          (None, 1024)              0         \n",
            "_________________________________________________________________\n",
            "dense_1 (Dense)              (None, 256)               262400    \n",
            "_________________________________________________________________\n",
            "batch_normalization_2 (Batch (None, 256)               1024      \n",
            "_________________________________________________________________\n",
            "dropout_2 (Dropout)          (None, 256)               0         \n",
            "_________________________________________________________________\n",
            "root (Dense)                 (None, 33)                8481      \n",
            "=================================================================\n",
            "Total params: 7,313,589\n",
            "Trainable params: 7,227,381\n",
            "Non-trainable params: 86,208\n",
            "_________________________________________________________________\n",
            "Epoch 1/20\n",
            "566/566 [==============================] - 3910s 7s/step - loss: 3.0154 - accuracy: 0.2901 - val_loss: 1.7188 - val_accuracy: 0.4033\n",
            "Epoch 2/20\n",
            "566/566 [==============================] - 2115s 4s/step - loss: 1.4071 - accuracy: 0.6042 - val_loss: 0.2602 - val_accuracy: 0.7314\n",
            "Epoch 3/20\n",
            "566/566 [==============================] - 2076s 4s/step - loss: 0.8946 - accuracy: 0.7326 - val_loss: 1.5323 - val_accuracy: 0.8047\n",
            "Epoch 4/20\n",
            "566/566 [==============================] - 2149s 4s/step - loss: 0.6571 - accuracy: 0.7991 - val_loss: 0.0133 - val_accuracy: 0.8260\n",
            "Epoch 5/20\n",
            "566/566 [==============================] - 157s 277ms/step - loss: 0.5698 - accuracy: 0.8273 - val_loss: 0.5910 - val_accuracy: 0.8201\n",
            "Epoch 6/20\n",
            "566/566 [==============================] - 157s 278ms/step - loss: 0.4814 - accuracy: 0.8549 - val_loss: 0.8074 - val_accuracy: 0.8520\n",
            "Epoch 7/20\n",
            "566/566 [==============================] - 158s 279ms/step - loss: 0.4269 - accuracy: 0.8643 - val_loss: 1.6591 - val_accuracy: 0.8428\n",
            "Epoch 8/20\n",
            "566/566 [==============================] - 158s 280ms/step - loss: 0.3770 - accuracy: 0.8800 - val_loss: 1.0525 - val_accuracy: 0.8490\n",
            "Epoch 9/20\n",
            "566/566 [==============================] - 157s 277ms/step - loss: 0.3530 - accuracy: 0.8879 - val_loss: 0.3770 - val_accuracy: 0.9216\n",
            "Epoch 10/20\n",
            "566/566 [==============================] - 157s 277ms/step - loss: 0.3394 - accuracy: 0.8969 - val_loss: 0.2854 - val_accuracy: 0.9087\n",
            "Epoch 11/20\n",
            "566/566 [==============================] - 157s 277ms/step - loss: 0.2917 - accuracy: 0.9113 - val_loss: 0.0534 - val_accuracy: 0.9128\n",
            "Epoch 12/20\n",
            "566/566 [==============================] - 156s 275ms/step - loss: 0.2864 - accuracy: 0.9109 - val_loss: 0.0323 - val_accuracy: 0.9359\n",
            "Epoch 13/20\n",
            "566/566 [==============================] - 153s 270ms/step - loss: 0.2533 - accuracy: 0.9202 - val_loss: 1.2476 - val_accuracy: 0.8883\n",
            "Epoch 14/20\n",
            "566/566 [==============================] - 155s 274ms/step - loss: 0.2545 - accuracy: 0.9225 - val_loss: 0.0028 - val_accuracy: 0.9342\n",
            "Epoch 15/20\n",
            "566/566 [==============================] - 154s 272ms/step - loss: 0.2503 - accuracy: 0.9225 - val_loss: 0.2313 - val_accuracy: 0.9230\n",
            "Epoch 16/20\n",
            "566/566 [==============================] - 155s 274ms/step - loss: 0.2289 - accuracy: 0.9270 - val_loss: 1.1660 - val_accuracy: 0.8906\n",
            "Epoch 17/20\n",
            "566/566 [==============================] - 154s 273ms/step - loss: 0.2162 - accuracy: 0.9287 - val_loss: 0.1695 - val_accuracy: 0.9171\n",
            "Epoch 18/20\n",
            "566/566 [==============================] - 153s 270ms/step - loss: 0.2140 - accuracy: 0.9342 - val_loss: 0.0415 - val_accuracy: 0.8987\n",
            "Epoch 19/20\n",
            "566/566 [==============================] - 156s 276ms/step - loss: 0.1915 - accuracy: 0.9411 - val_loss: 0.6354 - val_accuracy: 0.9188\n",
            "Epoch 20/20\n",
            "566/566 [==============================] - 158s 279ms/step - loss: 0.1849 - accuracy: 0.9424 - val_loss: 0.5029 - val_accuracy: 0.9288\n"
          ],
          "name": "stdout"
        }
      ]
    },
    {
      "cell_type": "code",
      "metadata": {
        "id": "FQteLv5JVGC5",
        "colab_type": "code",
        "colab": {
          "base_uri": "https://localhost:8080/",
          "height": 573
        },
        "outputId": "23a77231-0f61-4d5e-a9ae-eb8839dce535"
      },
      "source": [
        "# accuracy plot \n",
        "plt.plot(dense.history['accuracy'])\n",
        "plt.plot(dense.history['val_accuracy'])\n",
        "plt.title('model accuracy')\n",
        "plt.ylabel('accuracy')\n",
        "plt.xlabel('epoch')\n",
        "plt.legend(['train', 'test'], loc='upper left')\n",
        "plt.show()\n",
        "\n",
        "# loss plot\n",
        "plt.plot(dense.history['loss'])\n",
        "plt.plot(dense.history['val_loss'])\n",
        "plt.title('model loss')\n",
        "plt.ylabel('loss')\n",
        "plt.xlabel('epoch')\n",
        "plt.legend(['train', 'test'], loc='upper left')\n",
        "plt.show()"
      ],
      "execution_count": 10,
      "outputs": [
        {
          "output_type": "display_data",
          "data": {
            "image/png": "[encoded data removed]",
            "text/plain": [
              "<Figure size 432x288 with 1 Axes>"
            ]
          },
          "metadata": {
            "tags": [],
            "needs_background": "light"
          }
        },
        {
          "output_type": "display_data",
          "data": {
            "image/png": "[encoded data removed]",
            "text/plain": [
              "<Figure size 432x288 with 1 Axes>"
            ]
          },
          "metadata": {
            "tags": [],
            "needs_background": "light"
          }
        }
      ]
    }
  ]
}