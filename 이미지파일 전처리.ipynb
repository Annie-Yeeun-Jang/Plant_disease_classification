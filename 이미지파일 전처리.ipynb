{
  "nbformat": 4,
  "nbformat_minor": 0,
  "metadata": {
    "colab": {
      "name": "Untitled4.ipynb",
      "provenance": []
    },
    "kernelspec": {
      "name": "python3",
      "display_name": "Python 3"
    }
  },
  "cells": [
    {
      "cell_type": "markdown",
      "metadata": {
        "id": "ziNuJt4edswn",
        "colab_type": "text"
      },
      "source": [
        "# 이미지파일 전처리\n",
        "  ## 방법 1\n",
        "  "
      ]
    },
    {
      "cell_type": "markdown",
      "metadata": {
        "id": "16YgXtkfeNOY",
        "colab_type": "text"
      },
      "source": [
        "출처: 캐글 데이터 커널"
      ]
    },
    {
      "cell_type": "code",
      "metadata": {
        "id": "onHgMr0ELIB4",
        "colab_type": "code",
        "outputId": "66076a04-967b-4723-e050-093d63df6750",
        "colab": {
          "base_uri": "https://localhost:8080/",
          "height": 34
        }
      },
      "source": [
        "# gdrive에 mount\n",
        "from google.colab import drive\n",
        "drive.mount('/content/gdrive')\n",
        "# 경로 설정\n",
        "import os\n",
        "os.chdir('/content/gdrive/My Drive/Plant_leaf')"
      ],
      "execution_count": 0,
      "outputs": [
        {
          "output_type": "stream",
          "text": [
            "Drive already mounted at /content/gdrive; to attempt to forcibly remount, call drive.mount(\"/content/gdrive\", force_remount=True).\n"
          ],
          "name": "stdout"
        }
      ]
    },
    {
      "cell_type": "code",
      "metadata": {
        "id": "mNw5OLIlQave",
        "colab_type": "code",
        "outputId": "830a940a-b30f-45fa-c4c4-f0d1be2c00cd",
        "colab": {
          "base_uri": "https://localhost:8080/",
          "height": 34
        }
      },
      "source": [
        "os.getcwd()"
      ],
      "execution_count": 0,
      "outputs": [
        {
          "output_type": "execute_result",
          "data": {
            "text/plain": [
              "'/content/gdrive/My Drive/Plant_leaf'"
            ]
          },
          "metadata": {
            "tags": []
          },
          "execution_count": 39
        }
      ]
    },
    {
      "cell_type": "code",
      "metadata": {
        "_cell_guid": "79c7e3d0-c299-4dcb-8224-4455121ee9b0",
        "_uuid": "d629ff2d2480ee46fbb7e2d37f6b5fab8052498a",
        "id": "IrFxmHGmQG4A",
        "colab_type": "code",
        "colab": {}
      },
      "source": [
        "import numpy as np\n",
        "import pandas as pd\n",
        "import matplotlib.pyplot as plt\n",
        "%matplotlib inline\n",
        "import seaborn as sns\n",
        "import cv2\n",
        "import os\n",
        "from tqdm import tqdm\n",
        "from sklearn.metrics import confusion_matrix\n",
        "from sklearn.model_selection import train_test_split\n",
        "from keras.utils.np_utils import to_categorical\n",
        "from keras.models import Model,Sequential, Input, load_model\n",
        "from keras.layers import Dense, Dropout, Flatten, Conv2D, MaxPool2D, BatchNormalization, AveragePooling2D, GlobalAveragePooling2D\n",
        "from keras.optimizers import Adam\n",
        "from keras.preprocessing.image import ImageDataGenerator\n",
        "from keras.callbacks import ModelCheckpoint, ReduceLROnPlateau\n",
        "from keras.applications import DenseNet121"
      ],
      "execution_count": 0,
      "outputs": []
    },
    {
      "cell_type": "code",
      "metadata": {
        "id": "KXefIBn6QG4D",
        "colab_type": "code",
        "outputId": "b82a09fe-103e-438b-e418-f4d8fc156696",
        "colab": {
          "base_uri": "https://localhost:8080/",
          "height": 34
        }
      },
      "source": [
        "disease_types = os.listdir()\n",
        "#['Pepper__bell___Bacterial_spot','Pepper__bell___healthy','Potato___Early_blight','Potato___Late_blight','Potato___healthy','Tomato_Bacterial_spot','Tomato_Early_blight','Tomato_Late_blight','Tomato_Leaf_Mold','Tomato_Septoria_leaf_spot','Tomato_Spider_mites_Two_spotted_spider_mite','Tomato__Target_Spot','Tomato__Tomato_YellowLeaf__Curl_Virus','Tomato__Tomato_mosaic_virus','Tomato_healthy']\n",
        "data_dir = '/content/gdrive/My Drive/Plant_leaf/'\n",
        "train_dir = os.path.join(data_dir)\n",
        "#test_dir = os.path.join(data_dir, 'test')\n",
        "train_dir"
      ],
      "execution_count": 0,
      "outputs": [
        {
          "output_type": "execute_result",
          "data": {
            "text/plain": [
              "'/content/gdrive/My Drive/Plant_leaf/'"
            ]
          },
          "metadata": {
            "tags": []
          },
          "execution_count": 41
        }
      ]
    },
    {
      "cell_type": "code",
      "metadata": {
        "id": "lHfrqdtqRjz7",
        "colab_type": "code",
        "outputId": "43c2aa3a-0ee6-4e91-9454-69022fd472db",
        "colab": {
          "base_uri": "https://localhost:8080/",
          "height": 615
        }
      },
      "source": [
        "os.listdir()"
      ],
      "execution_count": 0,
      "outputs": [
        {
          "output_type": "execute_result",
          "data": {
            "text/plain": [
              "['Tomato___Tomato_Yellow_Leaf_Curl_Virus',\n",
              " 'Tomato___Tomato_mosaic_virus',\n",
              " 'Tomato___Target_Spot',\n",
              " 'Tomato___Spider_mites Two-spotted_spider_mite',\n",
              " 'Tomato___Septoria_leaf_spot',\n",
              " 'Tomato___Leaf_Mold',\n",
              " 'Tomato___Late_blight',\n",
              " 'Tomato___healthy',\n",
              " 'Tomato___Early_blight',\n",
              " 'Tomato___Bacterial_spot',\n",
              " 'Strawberry___Leaf_scorch',\n",
              " 'Strawberry___healthy',\n",
              " 'Potato___Late_blight',\n",
              " 'Potato___healthy',\n",
              " 'Potato___Early_blight',\n",
              " 'Peach___healthy',\n",
              " 'Grape___Leaf_blight_(Isariopsis_Leaf_Spot)',\n",
              " 'Grape___healthy',\n",
              " 'Grape___Esca_(Black_Measles)',\n",
              " 'Grape___Black_rot',\n",
              " 'Corn___Northern_Leaf_Blight',\n",
              " 'Corn___healthy',\n",
              " 'Corn___Common_rust',\n",
              " 'Corn___Cercospora_leaf_spot Gray_leaf_spot',\n",
              " 'Cherry___Powdery_mildew',\n",
              " 'Cherry___healthy',\n",
              " 'Apple___healthy',\n",
              " 'Apple___Cedar_apple_rust',\n",
              " 'Apple___Black_rot',\n",
              " 'Apple___Apple_scab',\n",
              " 'Peach___Bacterial_spot',\n",
              " 'Pepper__bell___healthy',\n",
              " 'Pepper__bell___Bacterial_spot',\n",
              " 'obj_2.npy']"
            ]
          },
          "metadata": {
            "tags": []
          },
          "execution_count": 35
        }
      ]
    },
    {
      "cell_type": "code",
      "metadata": {
        "id": "pUmKjgVBQG4G",
        "colab_type": "code",
        "outputId": "863b0299-b693-4513-fb0c-7dddd3de0da0",
        "colab": {
          "base_uri": "https://localhost:8080/",
          "height": 195
        }
      },
      "source": [
        "train_data = []\n",
        "for defects_id, sp in enumerate(disease_types):\n",
        "    for file in os.listdir(os.path.join(train_dir, sp)):\n",
        "        train_data.append(['{}/{}'.format(sp, file), defects_id, sp])\n",
        "        \n",
        "train = pd.DataFrame(train_data, columns=['File', 'DiseaseID','Disease Type'])\n",
        "train.tail()"
      ],
      "execution_count": 0,
      "outputs": [
        {
          "output_type": "execute_result",
          "data": {
            "text/html": [
              "<div>\n",
              "<style scoped>\n",
              "    .dataframe tbody tr th:only-of-type {\n",
              "        vertical-align: middle;\n",
              "    }\n",
              "\n",
              "    .dataframe tbody tr th {\n",
              "        vertical-align: top;\n",
              "    }\n",
              "\n",
              "    .dataframe thead th {\n",
              "        text-align: right;\n",
              "    }\n",
              "</style>\n",
              "<table border=\"1\" class=\"dataframe\">\n",
              "  <thead>\n",
              "    <tr style=\"text-align: right;\">\n",
              "      <th></th>\n",
              "      <th>File</th>\n",
              "      <th>DiseaseID</th>\n",
              "      <th>Disease Type</th>\n",
              "    </tr>\n",
              "  </thead>\n",
              "  <tbody>\n",
              "    <tr>\n",
              "      <th>39995</th>\n",
              "      <td>Pepper__bell___Bacterial_spot/image (940).JPG</td>\n",
              "      <td>32</td>\n",
              "      <td>Pepper__bell___Bacterial_spot</td>\n",
              "    </tr>\n",
              "    <tr>\n",
              "      <th>39996</th>\n",
              "      <td>Pepper__bell___Bacterial_spot/image (538).JPG</td>\n",
              "      <td>32</td>\n",
              "      <td>Pepper__bell___Bacterial_spot</td>\n",
              "    </tr>\n",
              "    <tr>\n",
              "      <th>39997</th>\n",
              "      <td>Pepper__bell___Bacterial_spot/image (193).JPG</td>\n",
              "      <td>32</td>\n",
              "      <td>Pepper__bell___Bacterial_spot</td>\n",
              "    </tr>\n",
              "    <tr>\n",
              "      <th>39998</th>\n",
              "      <td>Pepper__bell___Bacterial_spot/image (479).JPG</td>\n",
              "      <td>32</td>\n",
              "      <td>Pepper__bell___Bacterial_spot</td>\n",
              "    </tr>\n",
              "    <tr>\n",
              "      <th>39999</th>\n",
              "      <td>Pepper__bell___Bacterial_spot/image (71).JPG</td>\n",
              "      <td>32</td>\n",
              "      <td>Pepper__bell___Bacterial_spot</td>\n",
              "    </tr>\n",
              "  </tbody>\n",
              "</table>\n",
              "</div>"
            ],
            "text/plain": [
              "                                                File  ...                   Disease Type\n",
              "39995  Pepper__bell___Bacterial_spot/image (940).JPG  ...  Pepper__bell___Bacterial_spot\n",
              "39996  Pepper__bell___Bacterial_spot/image (538).JPG  ...  Pepper__bell___Bacterial_spot\n",
              "39997  Pepper__bell___Bacterial_spot/image (193).JPG  ...  Pepper__bell___Bacterial_spot\n",
              "39998  Pepper__bell___Bacterial_spot/image (479).JPG  ...  Pepper__bell___Bacterial_spot\n",
              "39999   Pepper__bell___Bacterial_spot/image (71).JPG  ...  Pepper__bell___Bacterial_spot\n",
              "\n",
              "[5 rows x 3 columns]"
            ]
          },
          "metadata": {
            "tags": []
          },
          "execution_count": 42
        }
      ]
    },
    {
      "cell_type": "code",
      "metadata": {
        "id": "9uV690DoQG4J",
        "colab_type": "code",
        "outputId": "f57e229e-60e8-48fb-df72-df9e61f24d85",
        "colab": {
          "base_uri": "https://localhost:8080/",
          "height": 195
        }
      },
      "source": [
        "# Randomize the order of training set\n",
        "SEED = 42\n",
        "train = train.sample(frac=1, random_state=SEED) \n",
        "train.index = np.arange(len(train)) # Reset indices\n",
        "train.head()"
      ],
      "execution_count": 0,
      "outputs": [
        {
          "output_type": "execute_result",
          "data": {
            "text/html": [
              "<div>\n",
              "<style scoped>\n",
              "    .dataframe tbody tr th:only-of-type {\n",
              "        vertical-align: middle;\n",
              "    }\n",
              "\n",
              "    .dataframe tbody tr th {\n",
              "        vertical-align: top;\n",
              "    }\n",
              "\n",
              "    .dataframe thead th {\n",
              "        text-align: right;\n",
              "    }\n",
              "</style>\n",
              "<table border=\"1\" class=\"dataframe\">\n",
              "  <thead>\n",
              "    <tr style=\"text-align: right;\">\n",
              "      <th></th>\n",
              "      <th>File</th>\n",
              "      <th>DiseaseID</th>\n",
              "      <th>Disease Type</th>\n",
              "    </tr>\n",
              "  </thead>\n",
              "  <tbody>\n",
              "    <tr>\n",
              "      <th>0</th>\n",
              "      <td>Apple___healthy/image (272).JPG</td>\n",
              "      <td>26</td>\n",
              "      <td>Apple___healthy</td>\n",
              "    </tr>\n",
              "    <tr>\n",
              "      <th>1</th>\n",
              "      <td>Tomato___Bacterial_spot/image (709).JPG</td>\n",
              "      <td>9</td>\n",
              "      <td>Tomato___Bacterial_spot</td>\n",
              "    </tr>\n",
              "    <tr>\n",
              "      <th>2</th>\n",
              "      <td>Corn___Common_rust/image (735).JPG</td>\n",
              "      <td>22</td>\n",
              "      <td>Corn___Common_rust</td>\n",
              "    </tr>\n",
              "    <tr>\n",
              "      <th>3</th>\n",
              "      <td>Tomato___Target_Spot/image (1188).JPG</td>\n",
              "      <td>2</td>\n",
              "      <td>Tomato___Target_Spot</td>\n",
              "    </tr>\n",
              "    <tr>\n",
              "      <th>4</th>\n",
              "      <td>Corn___Northern_Leaf_Blight/image (348).JPG</td>\n",
              "      <td>20</td>\n",
              "      <td>Corn___Northern_Leaf_Blight</td>\n",
              "    </tr>\n",
              "  </tbody>\n",
              "</table>\n",
              "</div>"
            ],
            "text/plain": [
              "                                          File  ...                 Disease Type\n",
              "0              Apple___healthy/image (272).JPG  ...              Apple___healthy\n",
              "1      Tomato___Bacterial_spot/image (709).JPG  ...      Tomato___Bacterial_spot\n",
              "2           Corn___Common_rust/image (735).JPG  ...           Corn___Common_rust\n",
              "3        Tomato___Target_Spot/image (1188).JPG  ...         Tomato___Target_Spot\n",
              "4  Corn___Northern_Leaf_Blight/image (348).JPG  ...  Corn___Northern_Leaf_Blight\n",
              "\n",
              "[5 rows x 3 columns]"
            ]
          },
          "metadata": {
            "tags": []
          },
          "execution_count": 43
        }
      ]
    },
    {
      "cell_type": "code",
      "metadata": {
        "id": "ehbAX4DCQG4M",
        "colab_type": "code",
        "outputId": "dc5e118a-75f1-4607-ae00-ce91041458d0",
        "colab": {
          "base_uri": "https://localhost:8080/",
          "height": 281
        }
      },
      "source": [
        "# Plot a histogram\n",
        "plt.hist(train['DiseaseID'])\n",
        "plt.title('Frequency Histogram of Species')\n",
        "#plt.figure(figsize=(33, 33))\n",
        "plt.show()"
      ],
      "execution_count": 0,
      "outputs": [
        {
          "output_type": "display_data",
          "data": {
            "image/png": "[encoded data removed]",
            "text/plain": [
              "<Figure size 432x288 with 1 Axes>"
            ]
          },
          "metadata": {
            "tags": [],
            "needs_background": "light"
          }
        }
      ]
    },
    {
      "cell_type": "code",
      "metadata": {
        "id": "9NypX9YQQG4S",
        "colab_type": "code",
        "colab": {}
      },
      "source": [
        "\n",
        "IMAGE_SIZE = 32\n",
        "\n",
        "def read_image(filepath):\n",
        "    return cv2.imread(os.path.join(data_dir, filepath)) # Loading a color image is the default flag\n",
        "# Resize image to target size\n",
        "def resize_image(image, image_size):\n",
        "    return cv2.resize(image.copy(), image_size, interpolation=cv2.INTER_AREA)\n",
        "  "
      ],
      "execution_count": 0,
      "outputs": []
    },
    {
      "cell_type": "code",
      "metadata": {
        "id": "uPcmLMopQG4V",
        "colab_type": "code",
        "outputId": "1ec942e5-ab33-4d32-aa37-0133d7740c24",
        "colab": {
          "base_uri": "https://localhost:8080/",
          "height": 52
        }
      },
      "source": [
        "\n",
        "X_train = np.zeros((train.shape[0], IMAGE_SIZE, IMAGE_SIZE, 3))\n",
        "for i, file in tqdm(enumerate(train['File'].values)):\n",
        "    image = read_image(file)\n",
        "    if image is not None:\n",
        "        X_train[i] = resize_image(image, (IMAGE_SIZE, IMAGE_SIZE))\n",
        "# Normalize the data\n",
        "#X_Train = X_train / 255.\n",
        "print('Train Shape: {}'.format(X_train.shape))\n"
      ],
      "execution_count": 0,
      "outputs": [
        {
          "output_type": "stream",
          "text": [
            "40000it [02:34, 259.49it/s]"
          ],
          "name": "stderr"
        },
        {
          "output_type": "stream",
          "text": [
            "Train Shape: (40000, 32, 32, 3)\n"
          ],
          "name": "stdout"
        },
        {
          "output_type": "stream",
          "text": [
            "\n"
          ],
          "name": "stderr"
        }
      ]
    },
    {
      "cell_type": "code",
      "metadata": {
        "id": "YAsfC0_cAsRO",
        "colab_type": "code",
        "colab": {}
      },
      "source": [
        "del(X_Train)"
      ],
      "execution_count": 0,
      "outputs": []
    },
    {
      "cell_type": "code",
      "metadata": {
        "id": "m0Dwffqx9B0Q",
        "colab_type": "code",
        "outputId": "6bf5c2a7-eb14-49fe-9d46-0668c0465b38",
        "colab": {
          "base_uri": "https://localhost:8080/",
          "height": 52
        }
      },
      "source": [
        "print('>>> data 저장중 ...')\n",
        "np.save(\"/content/gdrive/My Drive/전처리 후/32size_norepeat.npy\", X_train)\n",
        "print(\"done\")"
      ],
      "execution_count": 0,
      "outputs": [
        {
          "output_type": "stream",
          "text": [
            ">>> data 저장중 ...\n",
            "done\n"
          ],
          "name": "stdout"
        }
      ]
    },
    {
      "cell_type": "code",
      "metadata": {
        "colab_type": "code",
        "id": "5fuyLs-39mMC",
        "colab": {}
      },
      "source": [
        "Y_Train = train['DiseaseID'].values\n",
        "Y_Train = to_categorical(Y_Train, num_classes=33)"
      ],
      "execution_count": 0,
      "outputs": []
    },
    {
      "cell_type": "code",
      "metadata": {
        "id": "KWmqP1eW-eHZ",
        "colab_type": "code",
        "outputId": "34c05234-d9af-4934-fc07-0b132a39f443",
        "colab": {
          "base_uri": "https://localhost:8080/",
          "height": 34
        }
      },
      "source": [
        "Y_Train.shape"
      ],
      "execution_count": 0,
      "outputs": [
        {
          "output_type": "execute_result",
          "data": {
            "text/plain": [
              "(40000, 33)"
            ]
          },
          "metadata": {
            "tags": []
          },
          "execution_count": 54
        }
      ]
    },
    {
      "cell_type": "code",
      "metadata": {
        "id": "nC62lvOd-RbF",
        "colab_type": "code",
        "outputId": "509de86e-027f-4d5d-c82b-59a39d77f4c3",
        "colab": {
          "base_uri": "https://localhost:8080/",
          "height": 52
        }
      },
      "source": [
        "print('>>> data 저장중 ...')\n",
        "np.save(\"/content/gdrive/My Drive/전처리 후/no_repeat_y.npy\", Y_Train)\n",
        "print('ok', len(Y_Train))"
      ],
      "execution_count": 0,
      "outputs": [
        {
          "output_type": "stream",
          "text": [
            ">>> data 저장중 ...\n",
            "ok 40000\n"
          ],
          "name": "stdout"
        }
      ]
    },
    {
      "cell_type": "markdown",
      "metadata": {
        "id": "jnY0YgLBdozY",
        "colab_type": "text"
      },
      "source": [
        "## 방법 2\n",
        "* 에러는 안나는데... 4만에서 멈추지 않고 계속 무한반복함"
      ]
    },
    {
      "cell_type": "code",
      "metadata": {
        "id": "HJ3tcnRrDt8a",
        "colab_type": "code",
        "outputId": "ffcd60da-2d62-4514-edf0-99081845dfb2",
        "colab": {
          "base_uri": "https://localhost:8080/",
          "height": 1000
        }
      },
      "source": [
        "from PIL import Image\n",
        "import os, glob\n",
        "import numpy as np\n",
        "from sklearn.model_selection import train_test_split\n",
        "\n",
        "# 분류 대상 카테고리 선택하기 \n",
        "categories = disease_types\n",
        "nb_classes = 33\n",
        "caltech_dir = \"/content/gdrive/My Drive/Plant_leaf\"\n",
        "\n",
        "# 이미지 크기 지정 \n",
        "image_w = 64 \n",
        "image_h = 64\n",
        "pixels = image_w * image_h * 3\n",
        "# 이미지 데이터 읽어 들이기 \n",
        "X = []\n",
        "Y = []\n",
        "\n",
        "for idx, cat in enumerate(categories):\n",
        "    # 레이블 지정 \n",
        "    label = [0 for i in range(nb_classes)]\n",
        "    label[idx] = 1\n",
        "\n",
        "    #image_dir = caltech_dir + \"/\" + cat\n",
        "    #files = glob.glob(image_dir+\"/*.jpg\")\n",
        "    #print(cat, \" 파일 길이 : \", len(files))\n",
        "\n",
        "    # 이미지 \n",
        "  \n",
        "    for i, f in tqdm(enumerate(train['File'].values)):\n",
        "        img = Image.open(f) \n",
        "        img = img.convert(\"RGB\")\n",
        "        img = img.resize((image_w, image_h))\n",
        "        data = np.asarray(img)      # numpy 배열로 변환\n",
        "        X.append(data)\n",
        "        Y.append(label)\n",
        "        if i % 100 == 0:\n",
        "            print(i, \"\\n\")\n",
        "        if i == 39899:\n",
        "            break;\n",
        "    if idx == 32:\n",
        "      break;"
      ],
      "execution_count": 0,
      "outputs": [
        {
          "output_type": "stream",
          "text": [
            "0 \n",
            "\n",
            "100 \n",
            "\n",
            "200 \n",
            "\n",
            "300 \n",
            "\n",
            "400 \n",
            "\n",
            "500 \n",
            "\n",
            "600 \n",
            "\n",
            "700 \n",
            "\n",
            "800 \n",
            "\n",
            "900 \n",
            "\n",
            "1000 \n",
            "\n",
            "1100 \n",
            "\n",
            "1200 \n",
            "\n",
            "1300 \n",
            "\n",
            "1400 \n",
            "\n",
            "1500 \n",
            "\n",
            "1600 \n",
            "\n",
            "1700 \n",
            "\n",
            "1800 \n",
            "\n",
            "1900 \n",
            "\n",
            "2000 \n",
            "\n",
            "2100 \n",
            "\n",
            "2200 \n",
            "\n",
            "2300 \n",
            "\n",
            "2400 \n",
            "\n",
            "2500 \n",
            "\n",
            "2600 \n",
            "\n",
            "2700 \n",
            "\n",
            "2800 \n",
            "\n",
            "2900 \n",
            "\n",
            "3000 \n",
            "\n",
            "3100 \n",
            "\n",
            "3200 \n",
            "\n",
            "3300 \n",
            "\n",
            "3400 \n",
            "\n",
            "3500 \n",
            "\n",
            "3600 \n",
            "\n",
            "3700 \n",
            "\n",
            "3800 \n",
            "\n",
            "3900 \n",
            "\n",
            "4000 \n",
            "\n",
            "4100 \n",
            "\n",
            "4200 \n",
            "\n",
            "4300 \n",
            "\n",
            "4400 \n",
            "\n",
            "4500 \n",
            "\n",
            "4600 \n",
            "\n",
            "4700 \n",
            "\n",
            "4800 \n",
            "\n",
            "4900 \n",
            "\n",
            "5000 \n",
            "\n",
            "5100 \n",
            "\n",
            "5200 \n",
            "\n",
            "5300 \n",
            "\n",
            "5400 \n",
            "\n",
            "5500 \n",
            "\n",
            "5600 \n",
            "\n",
            "5700 \n",
            "\n",
            "5800 \n",
            "\n",
            "5900 \n",
            "\n",
            "6000 \n",
            "\n",
            "6100 \n",
            "\n",
            "6200 \n",
            "\n",
            "6300 \n",
            "\n",
            "6400 \n",
            "\n",
            "6500 \n",
            "\n",
            "6600 \n",
            "\n",
            "6700 \n",
            "\n",
            "6800 \n",
            "\n",
            "6900 \n",
            "\n",
            "7000 \n",
            "\n",
            "7100 \n",
            "\n",
            "7200 \n",
            "\n",
            "7300 \n",
            "\n",
            "7400 \n",
            "\n",
            "7500 \n",
            "\n",
            "7600 \n",
            "\n",
            "7700 \n",
            "\n",
            "7800 \n",
            "\n",
            "7900 \n",
            "\n",
            "8000 \n",
            "\n",
            "8100 \n",
            "\n",
            "8200 \n",
            "\n",
            "8300 \n",
            "\n",
            "8400 \n",
            "\n",
            "8500 \n",
            "\n",
            "8600 \n",
            "\n",
            "8700 \n",
            "\n",
            "8800 \n",
            "\n",
            "8900 \n",
            "\n",
            "9000 \n",
            "\n",
            "9100 \n",
            "\n",
            "9200 \n",
            "\n",
            "9300 \n",
            "\n",
            "9400 \n",
            "\n",
            "9500 \n",
            "\n",
            "9600 \n",
            "\n",
            "9700 \n",
            "\n",
            "9800 \n",
            "\n",
            "9900 \n",
            "\n",
            "10000 \n",
            "\n",
            "10100 \n",
            "\n",
            "10200 \n",
            "\n",
            "10300 \n",
            "\n",
            "10400 \n",
            "\n",
            "10500 \n",
            "\n",
            "10600 \n",
            "\n",
            "10700 \n",
            "\n",
            "10800 \n",
            "\n",
            "10900 \n",
            "\n",
            "11000 \n",
            "\n",
            "11100 \n",
            "\n",
            "11200 \n",
            "\n",
            "11300 \n",
            "\n",
            "11400 \n",
            "\n",
            "11500 \n",
            "\n",
            "11600 \n",
            "\n",
            "11700 \n",
            "\n",
            "11800 \n",
            "\n",
            "11900 \n",
            "\n",
            "12000 \n",
            "\n",
            "12100 \n",
            "\n",
            "12200 \n",
            "\n",
            "12300 \n",
            "\n",
            "12400 \n",
            "\n",
            "12500 \n",
            "\n"
          ],
          "name": "stdout"
        },
        {
          "output_type": "error",
          "ename": "KeyboardInterrupt",
          "evalue": "ignored",
          "traceback": [
            "\u001b[0;31m---------------------------------------------------------------------------\u001b[0m",
            "\u001b[0;31mKeyboardInterrupt\u001b[0m                         Traceback (most recent call last)",
            "\u001b[0;32m<ipython-input-33-65cf1c58970e>\u001b[0m in \u001b[0;36m<module>\u001b[0;34m()\u001b[0m\n\u001b[1;32m     29\u001b[0m \u001b[0;34m\u001b[0m\u001b[0m\n\u001b[1;32m     30\u001b[0m     \u001b[0;32mfor\u001b[0m \u001b[0mi\u001b[0m\u001b[0;34m,\u001b[0m \u001b[0mf\u001b[0m \u001b[0;32min\u001b[0m \u001b[0menumerate\u001b[0m\u001b[0;34m(\u001b[0m\u001b[0mtrain\u001b[0m\u001b[0;34m[\u001b[0m\u001b[0;34m'File'\u001b[0m\u001b[0;34m]\u001b[0m\u001b[0;34m.\u001b[0m\u001b[0mvalues\u001b[0m\u001b[0;34m)\u001b[0m\u001b[0;34m:\u001b[0m\u001b[0;34m\u001b[0m\u001b[0;34m\u001b[0m\u001b[0m\n\u001b[0;32m---> 31\u001b[0;31m         \u001b[0mimg\u001b[0m \u001b[0;34m=\u001b[0m \u001b[0mImage\u001b[0m\u001b[0;34m.\u001b[0m\u001b[0mopen\u001b[0m\u001b[0;34m(\u001b[0m\u001b[0mf\u001b[0m\u001b[0;34m)\u001b[0m\u001b[0;34m\u001b[0m\u001b[0;34m\u001b[0m\u001b[0m\n\u001b[0m\u001b[1;32m     32\u001b[0m         \u001b[0mimg\u001b[0m \u001b[0;34m=\u001b[0m \u001b[0mimg\u001b[0m\u001b[0;34m.\u001b[0m\u001b[0mconvert\u001b[0m\u001b[0;34m(\u001b[0m\u001b[0;34m\"RGB\"\u001b[0m\u001b[0;34m)\u001b[0m\u001b[0;34m\u001b[0m\u001b[0;34m\u001b[0m\u001b[0m\n\u001b[1;32m     33\u001b[0m         \u001b[0mimg\u001b[0m \u001b[0;34m=\u001b[0m \u001b[0mimg\u001b[0m\u001b[0;34m.\u001b[0m\u001b[0mresize\u001b[0m\u001b[0;34m(\u001b[0m\u001b[0;34m(\u001b[0m\u001b[0mimage_w\u001b[0m\u001b[0;34m,\u001b[0m \u001b[0mimage_h\u001b[0m\u001b[0;34m)\u001b[0m\u001b[0;34m)\u001b[0m\u001b[0;34m\u001b[0m\u001b[0;34m\u001b[0m\u001b[0m\n",
            "\u001b[0;32m/usr/local/lib/python3.6/dist-packages/PIL/Image.py\u001b[0m in \u001b[0;36mopen\u001b[0;34m(fp, mode)\u001b[0m\n\u001b[1;32m   2807\u001b[0m \u001b[0;34m\u001b[0m\u001b[0m\n\u001b[1;32m   2808\u001b[0m     \u001b[0;32mif\u001b[0m \u001b[0mfilename\u001b[0m\u001b[0;34m:\u001b[0m\u001b[0;34m\u001b[0m\u001b[0;34m\u001b[0m\u001b[0m\n\u001b[0;32m-> 2809\u001b[0;31m         \u001b[0mfp\u001b[0m \u001b[0;34m=\u001b[0m \u001b[0mbuiltins\u001b[0m\u001b[0;34m.\u001b[0m\u001b[0mopen\u001b[0m\u001b[0;34m(\u001b[0m\u001b[0mfilename\u001b[0m\u001b[0;34m,\u001b[0m \u001b[0;34m\"rb\"\u001b[0m\u001b[0;34m)\u001b[0m\u001b[0;34m\u001b[0m\u001b[0;34m\u001b[0m\u001b[0m\n\u001b[0m\u001b[1;32m   2810\u001b[0m         \u001b[0mexclusive_fp\u001b[0m \u001b[0;34m=\u001b[0m \u001b[0;32mTrue\u001b[0m\u001b[0;34m\u001b[0m\u001b[0;34m\u001b[0m\u001b[0m\n\u001b[1;32m   2811\u001b[0m \u001b[0;34m\u001b[0m\u001b[0m\n",
            "\u001b[0;31mKeyboardInterrupt\u001b[0m: "
          ]
        }
      ]
    },
    {
      "cell_type": "markdown",
      "metadata": {
        "id": "fS8qifbueJp7",
        "colab_type": "text"
      },
      "source": [
        "방법 2 깃헙 주소"
      ]
    },
    {
      "cell_type": "markdown",
      "metadata": {
        "id": "RwQgG9AEeCnZ",
        "colab_type": "text"
      },
      "source": [
        "https://jaehyeongan.github.io/2018/07/01/CNN-%EB%AA%A8%EB%8D%B8%EC%9D%84-%ED%86%B5%ED%95%9C-%EC%9E%90%EB%8F%99%EC%B0%A8-%EC%82%AC%EA%B3%A0-%EC%9D%B4%EB%AF%B8%EC%A7%80-%EB%B6%84%EB%A5%98/"
      ]
    }
  ]
}