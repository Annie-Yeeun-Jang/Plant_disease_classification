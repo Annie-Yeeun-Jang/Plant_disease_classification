{
  "nbformat": 4,
  "nbformat_minor": 0,
  "metadata": {
    "colab": {
      "name": "augmentation.ipynb",
      "provenance": [],
      "machine_shape": "hm",
      "authorship_tag": "ABX9TyOW9SKpbIICP1inj+V0HQcc",
      "include_colab_link": true
    },
    "kernelspec": {
      "name": "python3",
      "display_name": "Python 3"
    },
    "accelerator": "GPU"
  },
  "cells": [
    {
      "cell_type": "markdown",
      "metadata": {
        "id": "view-in-github",
        "colab_type": "text"
      },
      "source": [
        "<a href=\"https://colab.research.google.com/github/Annie-Yeeun-Jang/Plant_disease_classification/blob/master/preprocessing/augmentation.ipynb\" target=\"_parent\"><img src=\"https://colab.research.google.com/assets/colab-badge.svg\" alt=\"Open In Colab\"/></a>"
      ]
    },
    {
      "cell_type": "code",
      "metadata": {
        "id": "LSXsUPLeJYmh",
        "colab_type": "code",
        "colab": {
          "base_uri": "https://localhost:8080/",
          "height": 34
        },
        "outputId": "7d212c2b-6f6e-4de7-c748-11678cc763c2"
      },
      "source": [
        "# gdrive에 mount\n",
        "from google.colab import drive\n",
        "drive.mount('/content/gdrive')\n",
        "# 경로 설정\n",
        "import os\n",
        "os.chdir('/content/gdrive/My Drive/dataset_split_raw')"
      ],
      "execution_count": null,
      "outputs": [
        {
          "output_type": "stream",
          "text": [
            "Drive already mounted at /content/gdrive; to attempt to forcibly remount, call drive.mount(\"/content/gdrive\", force_remount=True).\n"
          ],
          "name": "stdout"
        }
      ]
    },
    {
      "cell_type": "code",
      "metadata": {
        "colab_type": "code",
        "id": "V91BeWJNCgKl",
        "colab": {}
      },
      "source": [
        "from keras.preprocessing.image import ImageDataGenerator,load_img,img_to_array\n",
        "import numpy as np\n",
        "\n",
        "train_datagen = ImageDataGenerator(rescale = 1./255,\n",
        "                                   horizontal_flip=True,\n",
        "                                   vertical_flip=True,\n",
        "                                   zoom_range=0.2)\n",
        "\n",
        "test_datagen = ImageDataGenerator(rescale=1./255)\n"
      ],
      "execution_count": null,
      "outputs": []
    },
    {
      "cell_type": "markdown",
      "metadata": {
        "id": "vv33UgjNh9zv",
        "colab_type": "text"
      },
      "source": [
        "클래스 오버샘플링 \n",
        "\n",
        "Potato___healthy 152개\n",
        "\n",
        "Apple___Cedar_apple_rust 275개\n",
        "\n",
        "Peach___healthy 360개\n",
        "\n",
        "Tomato___Tomato_mosaic_virus 373개\n",
        "\n",
        "Grape___healthy 423개\n",
        "\n",
        "Strawberry___healthy 456개\n",
        "\n",
        "Corn___Cercospora_leaf_spot Gray_leaf_spot 513개\n",
        "\n",
        "Apple___Black_rot 621개\n",
        "\n",
        "Apple___Apple_scab 630개\n",
        "\n",
        "Cherry___healthy 854개\n"
      ]
    },
    {
      "cell_type": "code",
      "metadata": {
        "id": "HKROz7nKbQvd",
        "colab_type": "code",
        "colab": {}
      },
      "source": [
        "images = os.listdir('/content/gdrive/My Drive/dataset_split_raw/train/Potato___healthy/')\n",
        "\n",
        "for image in images:\n",
        "  image = load_img('/content/gdrive/My Drive/dataset_split_raw/train/Potato___healthy/'+image)\n",
        "  input_arr = img_to_array(image)\n",
        "  input_arr = np.array([input_arr])  # Convert single image to a batch.\n",
        "\n",
        "  i = 0\n",
        "  for batch in train_datagen.flow (input_arr, batch_size=1, save_to_dir ='/content/gdrive/My Drive/dataset_split_raw/train/Potato___healthy', save_prefix ='aug', save_format='jpg'):\n",
        "    i+=1\n",
        "    if i>0:\n",
        "      break"
      ],
      "execution_count": null,
      "outputs": []
    },
    {
      "cell_type": "code",
      "metadata": {
        "colab_type": "code",
        "id": "yoGzs0yihcrt",
        "colab": {}
      },
      "source": [
        "images = os.listdir('/content/gdrive/My Drive/dataset_split_raw/train/Apple___Cedar_apple_rust/')\n",
        "\n",
        "for image in images:\n",
        "  image = load_img('/content/gdrive/My Drive/dataset_split_raw/train/Apple___Cedar_apple_rust/'+image)\n",
        "  input_arr = img_to_array(image)\n",
        "  input_arr = np.array([input_arr])  # Convert single image to a batch.\n",
        "\n",
        "  i = 0\n",
        "  for batch in train_datagen.flow (input_arr, batch_size=1, save_to_dir ='/content/gdrive/My Drive/dataset_split_raw/train/Apple___Cedar_apple_rust', save_prefix ='aug', save_format='jpg'):\n",
        "    i+=1\n",
        "    if i>0:\n",
        "      break"
      ],
      "execution_count": null,
      "outputs": []
    },
    {
      "cell_type": "code",
      "metadata": {
        "colab_type": "code",
        "id": "lR8IkVDjh_M0",
        "colab": {}
      },
      "source": [
        "images = os.listdir('/content/gdrive/My Drive/dataset_split_raw/train/Peach___healthy/')\n",
        "\n",
        "for image in images:\n",
        "  image = load_img('/content/gdrive/My Drive/dataset_split_raw/train/Peach___healthy/'+image)\n",
        "  input_arr = img_to_array(image)\n",
        "  input_arr = np.array([input_arr])  # Convert single image to a batch.\n",
        "\n",
        "  i = 0\n",
        "  for batch in train_datagen.flow (input_arr, batch_size=1, save_to_dir ='/content/gdrive/My Drive/dataset_split_raw/train/Peach___healthy', save_prefix ='aug', save_format='jpg'):\n",
        "    i+=1\n",
        "    if i>2:\n",
        "      break"
      ],
      "execution_count": null,
      "outputs": []
    },
    {
      "cell_type": "code",
      "metadata": {
        "colab_type": "code",
        "id": "gmOB0m7lh7gG",
        "colab": {}
      },
      "source": [
        "images = os.listdir('/content/gdrive/My Drive/dataset_split_raw/train/Tomato___Tomato_mosaic_virus/')\n",
        "\n",
        "for image in images:\n",
        "  image = load_img('/content/gdrive/My Drive/dataset_split_raw/train/Tomato___Tomato_mosaic_virus/'+image)\n",
        "  input_arr = img_to_array(image)\n",
        "  input_arr = np.array([input_arr])  # Convert single image to a batch.\n",
        "\n",
        "  i = 0\n",
        "  for batch in train_datagen.flow (input_arr, batch_size=1, save_to_dir ='/content/gdrive/My Drive/dataset_split_raw/train/Tomato___Tomato_mosaic_virus', save_prefix ='aug', save_format='jpg'):\n",
        "    i+=1\n",
        "    if i>2:\n",
        "      break"
      ],
      "execution_count": null,
      "outputs": []
    },
    {
      "cell_type": "code",
      "metadata": {
        "colab_type": "code",
        "id": "4tfez1N5jsoL",
        "colab": {}
      },
      "source": [
        "images = os.listdir('/content/gdrive/My Drive/dataset_split_raw/train/Grape___healthy/')\n",
        "\n",
        "for image in images:\n",
        "  image = load_img('/content/gdrive/My Drive/dataset_split_raw/train/Grape___healthy/'+image)\n",
        "  input_arr = img_to_array(image)\n",
        "  input_arr = np.array([input_arr])  # Convert single image to a batch.\n",
        "\n",
        "  i = 0\n",
        "  for batch in train_datagen.flow (input_arr, batch_size=1, save_to_dir ='/content/gdrive/My Drive/dataset_split_raw/train/Grape___healthy', save_prefix ='aug', save_format='jpg'):\n",
        "    i+=1\n",
        "    if i>2:\n",
        "      break"
      ],
      "execution_count": null,
      "outputs": []
    },
    {
      "cell_type": "code",
      "metadata": {
        "colab_type": "code",
        "id": "WI9hmH3Sj9YD",
        "colab": {}
      },
      "source": [
        "images = os.listdir('/content/gdrive/My Drive/dataset_split_raw/train/Strawberry___healthy/')\n",
        "\n",
        "for image in images:\n",
        "  image = load_img('/content/gdrive/My Drive/dataset_split_raw/train/Strawberry___healthy/'+image)\n",
        "  input_arr = img_to_array(image)\n",
        "  input_arr = np.array([input_arr])  # Convert single image to a batch.\n",
        "\n",
        "  i = 0\n",
        "  for batch in train_datagen.flow (input_arr, batch_size=1, save_to_dir ='/content/gdrive/My Drive/dataset_split_raw/train/Strawberry___healthy', save_prefix ='aug', save_format='jpg'):\n",
        "    i+=1\n",
        "    if i>2:\n",
        "      break"
      ],
      "execution_count": null,
      "outputs": []
    },
    {
      "cell_type": "code",
      "metadata": {
        "colab_type": "code",
        "id": "vFQzwE12kRR9",
        "colab": {}
      },
      "source": [
        "images = os.listdir('/content/gdrive/My Drive/dataset_split_raw/train/Corn___Cercospora_leaf_spot Gray_leaf_spot/')\n",
        "\n",
        "for image in images:\n",
        "  image = load_img('/content/gdrive/My Drive/dataset_split_raw/train/Corn___Cercospora_leaf_spot Gray_leaf_spot/'+image)\n",
        "  input_arr = img_to_array(image)\n",
        "  input_arr = np.array([input_arr])  # Convert single image to a batch.\n",
        "\n",
        "  i = 0\n",
        "  for batch in train_datagen.flow (input_arr, batch_size=1, save_to_dir ='/content/gdrive/My Drive/dataset_split_raw/train/Corn___Cercospora_leaf_spot Gray_leaf_spot', save_prefix ='aug', save_format='jpg'):\n",
        "    i+=1\n",
        "    if i>1:\n",
        "      break"
      ],
      "execution_count": null,
      "outputs": []
    },
    {
      "cell_type": "code",
      "metadata": {
        "colab_type": "code",
        "id": "Vedqfd2_kfIq",
        "colab": {}
      },
      "source": [
        "images = os.listdir('/content/gdrive/My Drive/dataset_split_raw/train/Apple___Black_rot/')\n",
        "\n",
        "for image in images:\n",
        "  image = load_img('/content/gdrive/My Drive/dataset_split_raw/train/Apple___Black_rot/'+image)\n",
        "  input_arr = img_to_array(image)\n",
        "  input_arr = np.array([input_arr])  # Convert single image to a batch.\n",
        "\n",
        "  i = 0\n",
        "  for batch in train_datagen.flow (input_arr, batch_size=1, save_to_dir ='/content/gdrive/My Drive/dataset_split_raw/train/Apple___Black_rot', save_prefix ='aug', save_format='jpg'):\n",
        "    i+=1\n",
        "    if i>1:\n",
        "      break"
      ],
      "execution_count": null,
      "outputs": []
    },
    {
      "cell_type": "code",
      "metadata": {
        "colab_type": "code",
        "id": "KDAX_iYYkwss",
        "colab": {}
      },
      "source": [
        "images = os.listdir('/content/gdrive/My Drive/dataset_split_raw/train/Apple___Apple_scab/')\n",
        "\n",
        "for image in images:\n",
        "  image = load_img('/content/gdrive/My Drive/dataset_split_raw/train/Apple___Apple_scab/'+image)\n",
        "  input_arr = img_to_array(image)\n",
        "  input_arr = np.array([input_arr])  # Convert single image to a batch.\n",
        "\n",
        "  i = 0\n",
        "  for batch in train_datagen.flow (input_arr, batch_size=1, save_to_dir ='/content/gdrive/My Drive/dataset_split_raw/train/Apple___Apple_scab', save_prefix ='aug', save_format='jpg'):\n",
        "    i+=1\n",
        "    if i>0:\n",
        "      break"
      ],
      "execution_count": null,
      "outputs": []
    },
    {
      "cell_type": "code",
      "metadata": {
        "colab_type": "code",
        "id": "X1TRoukxlIfl",
        "colab": {}
      },
      "source": [
        "images = os.listdir('/content/gdrive/My Drive/dataset_split_raw/train/Cherry___healthy/')\n",
        "\n",
        "for image in images:\n",
        "  image = load_img('/content/gdrive/My Drive/dataset_split_raw/train/Cherry___healthy/'+image)\n",
        "  input_arr = img_to_array(image)\n",
        "  input_arr = np.array([input_arr])  # Convert single image to a batch.\n",
        "\n",
        "  i = 0\n",
        "  for batch in train_datagen.flow (input_arr, batch_size=1, save_to_dir ='/content/gdrive/My Drive/dataset_split_raw/train/Cherry___healthy', save_prefix ='aug', save_format='jpg'):\n",
        "    i+=1\n",
        "    if i>0:\n",
        "      break"
      ],
      "execution_count": null,
      "outputs": []
    }
  ]
}