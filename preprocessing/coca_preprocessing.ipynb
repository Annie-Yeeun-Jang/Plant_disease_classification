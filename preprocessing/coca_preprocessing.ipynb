{
  "nbformat": 4,
  "nbformat_minor": 0,
  "metadata": {
    "colab": {
      "name": "coca_preprocessing.ipynb",
      "provenance": [],
      "collapsed_sections": [],
      "authorship_tag": "ABX9TyNVcrHmE4poDFWCIp5FlY71",
      "include_colab_link": true
    },
    "kernelspec": {
      "name": "python3",
      "display_name": "Python 3"
    },
    "language_info": {
      "name": "python"
    }
  },
  "cells": [
    {
      "cell_type": "markdown",
      "metadata": {
        "id": "view-in-github",
        "colab_type": "text"
      },
      "source": [
        "<a href=\"https://colab.research.google.com/github/Annie-Yeeun-Jang/Plant_disease_classification/blob/master/preprocessing/coca_preprocessing.ipynb\" target=\"_parent\"><img src=\"https://colab.research.google.com/assets/colab-badge.svg\" alt=\"Open In Colab\"/></a>"
      ]
    },
    {
      "cell_type": "code",
      "metadata": {
        "colab": {
          "base_uri": "https://localhost:8080/"
        },
        "id": "0uZGNMC0BREu",
        "outputId": "6bc5e4b1-53a3-49eb-85d9-c96ab9cd23a5"
      },
      "source": [
        "from google.colab import drive\n",
        "drive.mount('./gdrive', force_remount=True)"
      ],
      "execution_count": 2,
      "outputs": [
        {
          "output_type": "stream",
          "text": [
            "Mounted at ./gdrive\n"
          ],
          "name": "stdout"
        }
      ]
    },
    {
      "cell_type": "code",
      "metadata": {
        "id": "CHEvIKVHGHms"
      },
      "source": [
        "with open(\"/content/gdrive/Shareddrives/text_conf/dataset/COCA/coca-samples-text/0_text_acad.txt\", encoding = 'UTF-8', newline = '\\n') as f:\n",
        "  coca_acad = f.readlines()\n",
        "\n",
        "f.close()"
      ],
      "execution_count": 15,
      "outputs": []
    },
    {
      "cell_type": "code",
      "metadata": {
        "colab": {
          "base_uri": "https://localhost:8080/"
        },
        "id": "GIEaJ4OSA1oi",
        "outputId": "b4e69e06-1cc0-4d83-8a5c-49ec6b429845"
      },
      "source": [
        "len(coca_acad) #문서 개수"
      ],
      "execution_count": 16,
      "outputs": [
        {
          "output_type": "execute_result",
          "data": {
            "text/plain": [
              "266"
            ]
          },
          "metadata": {
            "tags": []
          },
          "execution_count": 16
        }
      ]
    },
    {
      "cell_type": "code",
      "metadata": {
        "id": "Qe7QBY7vgRHb"
      },
      "source": [
        "#coca_acad[1].split('. ')[-3]\n",
        "#coca_acad[1].split('.')"
      ],
      "execution_count": null,
      "outputs": []
    },
    {
      "cell_type": "code",
      "metadata": {
        "colab": {
          "base_uri": "https://localhost:8080/"
        },
        "id": "QnX_hNfHDdwl",
        "outputId": "4dfb725a-9bff-4f82-894b-80e718fae160"
      },
      "source": [
        "import nltk\n",
        "nltk.download('punkt')"
      ],
      "execution_count": 12,
      "outputs": [
        {
          "output_type": "stream",
          "text": [
            "[nltk_data] Downloading package punkt to /root/nltk_data...\n",
            "[nltk_data]   Unzipping tokenizers/punkt.zip.\n"
          ],
          "name": "stdout"
        },
        {
          "output_type": "execute_result",
          "data": {
            "text/plain": [
              "True"
            ]
          },
          "metadata": {
            "tags": []
          },
          "execution_count": 12
        }
      ]
    },
    {
      "cell_type": "code",
      "metadata": {
        "id": "nnMJ_Iv5BAC-"
      },
      "source": [
        "# 문서 단위로 적용하는게 빠른 html 태그 전처리\n",
        "# 문장단위로 나누고, 태그 달아서 저장하는 작업\n",
        "from bs4 import BeautifulSoup\n",
        "\n",
        "sentences = []\n",
        "for i in range(1,len(coca_acad)):\n",
        "  cleaned_text = BeautifulSoup(coca_acad[i], 'lxml').text\n",
        "  #doc_tag = cleaned_text [:9]\n",
        "  splitted = nltk.tokenize.sent_tokenize(cleaned_text)\n",
        "  splitted = filter(lambda x : len(x) > 10, splitted)\n",
        "  splitted = filter(lambda x : \"@ @ @ @ @ @ \" not in x, splitted)\n",
        "  #new_sen = [doc_tag + '@' + sen if i > 0 else sen for i, sen in enumerate(splitted)] #if-else가 for보다 먼저\n",
        "  #sentences.extend(new_sen)\n",
        "  sentences.extend(splitted)\n",
        "\n",
        "# 문제점: 문서별로 제일 앞에있는 문장은 원래도 태그가 있어서 태그가 두번 붙여짐.. => if-else로 해결"
      ],
      "execution_count": 18,
      "outputs": []
    },
    {
      "cell_type": "code",
      "metadata": {
        "colab": {
          "base_uri": "https://localhost:8080/"
        },
        "id": "fNT7BbdS5YQg",
        "outputId": "d9a174ca-5034-42ad-e818-46fbb07499f7"
      },
      "source": [
        "len(sentences) #acad 안의 총 문장 수 45751"
      ],
      "execution_count": 19,
      "outputs": [
        {
          "output_type": "execute_result",
          "data": {
            "text/plain": [
              "45751"
            ]
          },
          "metadata": {
            "tags": []
          },
          "execution_count": 19
        }
      ]
    },
    {
      "cell_type": "code",
      "metadata": {
        "colab": {
          "base_uri": "https://localhost:8080/"
        },
        "id": "jCw8RpUrlFxw",
        "outputId": "b21cd59d-1605-4070-d76a-67f8325d6866"
      },
      "source": [
        "sentences[200:500]"
      ],
      "execution_count": 21,
      "outputs": [
        {
          "output_type": "execute_result",
          "data": {
            "text/plain": [
              "['/ If I was black , I would \\'ve sold half \" ) .',\n",
              " 'And I actually grin when a country station plays a recent hit by Alan Jackson that \\'s about , and is , a \" Three Minute Positive Not Too Country Uptempo Love Song . \"',\n",
              " 'For years -- decades -- I have been collecting these songs , just as bird-watchers do with their sightings , separating my life list into categories and subcategories , and ranking all entries according to originality , profundity , and ultimate value .',\n",
              " 'I will share my system with you in a minute , as soon as I try to rebut the charge that self-reference in pop music does not escape the curses of preciousness , self-regard , clich , and portentousness it is subject to elsewhere .',\n",
              " 'The words to a song may lie leaden on the page in a CD booklet or an ill-conceived Collected Lyrics , but , through a strange alchemy , reverberate like poetry when they are accompanied by melody .',\n",
              " 'In the same way , the music can remove the self-importance from a level of reflexivity that , drunk neat , would be deadly .',\n",
              " 'American popular song lyrics have always had a wide self-conscious streak .',\n",
              " 'Possibly the most successful popular song of all time was Irving Berlin \\'s 1911 \" Alexander \\'s Ragtime Band , \" a song about music .',\n",
              " 'Ira Gershwin \\'s first lyrics to be sung in public , in 1918 , were to \" The Real American Folk Song Is a Rag \" ; a later effort was \" What Can You Say in a Love Song ( That Has n\\'t Been Said Before ) ? \"',\n",
              " 'The Alley was a closed cosmos , with songs commenting on predecessors and begetting successors : first , \" Meet Me Tonight in Dreamland , \" then \" When I Met You Tonight in Dreamland \" and \" Dreamland Brings Memories of You . \"',\n",
              " 'The great American songwriters , all of whom either started on Tin Pan Alley or were begotten by it , liked to tip their hats to one another .',\n",
              " 'In \" They Ca n\\'t Take That Away from Me , \" Gershwin name-checks one of Irving Berlin \\'s classics : \" The song is ended , but as the songwriter wrote / \\' The Melody Lingers On . \\'',\n",
              " '\" Berlin , who normally looked straight ahead in his lyrics , permitted himself , \" Tuneful , tasteful , soulful , smart .',\n",
              " '/ Music : Rodgers .',\n",
              " 'Lyrics : Hart . \"',\n",
              " 'It was Porter who took this sort of thing beyond intramural bantering to high wit .',\n",
              " 'He wrote the immortal couplet \" But how strange / The change from major to minor , \" which is sung just as the key of the song ( \" Every Time We Say Goodbye \" ) changes from major to minor . \"',\n",
              " 'It \\'s De-Lovely , \" from the musical \" Anything Goes , \" begins , \" I feel a sudden urge to sing / The kind of ditty that invokes the spring .',\n",
              " '/ So control your desire to curse / While I crucify the verse .',\n",
              " \"/ This verse I 've started seems to me / The ' Tin-Pan-tithesis ' of melody .\",\n",
              " '/ So to spare you all the pain , / I \\'ll skip the darn thing and sing the refrain . \"',\n",
              " 'Tin-Pan-tithesis : the formulation deserves a moment of silence .',\n",
              " 'Is the song \" Stardust \" ?',\n",
              " \"It 's a mystery , but a sweet one .\",\n",
              " 'Tin Pan Alley was zoned out of existence a long time ago .',\n",
              " \"But today 's generically striated pop universe -- country , hip-hop , rock , and so forth , each with its own further gradations -- is just as self-referential .\",\n",
              " \"In fact , it 's more so , and in order to assess the field adequately I 'll need to break it into two groups , the reflexive and the intertextual , each with a meta offshoot .\",\n",
              " 'The first category consists of songs that refer to or are about themselves , in the manner of \" Ode to a Nightingale \" and \" It \\'s De-Lovely . \"',\n",
              " '/ I guess I lied \" ) ; the Beatles \\' \" Only a Northern Song \" ( \" If you \\'re listening to this song / You may think the chords are going wrong \" ) and \" Michelle \" ( \" These are words that go together well \" ) .',\n",
              " 'One thing should be immediately apparent from the list : reflexiveness can be associated with both good and bad songs .',\n",
              " 'You do n\\'t have to be familiar with every title to grasp that , merely with the two biggest chartbusters , by Elton John and Three Dog Night . \"',\n",
              " 'Old-Fashioned Love Song \" is a bland and genial ditty , saved -- barely -- from complete negligibility by its self-reference .',\n",
              " 'Bernie Taupin \\'s lyrics to \" Your Song , \" swept along by John \\'s potent melody , are , like many lyric poems , convincingly about the challenges of doing justice in words to the loved one \\'s qualities .',\n",
              " '/ Anyway the thing is , what I really mean , / Yours are the sweetest eyes I \\'ve ever seen . \"',\n",
              " \"There 's nothing special or mysterious about what makes good self-conscious songs good -- just adequate artistry , originality , wit , and feeling .\",\n",
              " 'The last is especially important , but the other qualities can go a long way as well .',\n",
              " 'The rapper Nas does some dazzlingly reflexive sleight of hand , in the braggadocious mode hip-hop has claimed for its own , when he raps , \" They shootin !',\n",
              " '/ Aw , made you look .',\n",
              " '/ You a slave to a page in my rhyme book . \"',\n",
              " 'The country singer David Allan Coe has a number called \" I \\'m Going to Hurt Her on the Radio , \" and Buck Owens \\'s 1979 song \" Play \\' Together Again \\' Again \" asks a bystander to put in a quarter and punch the numbers of an earlier Owens hit .',\n",
              " 'Bruce Springsteen \\'s moving \" Bobby Jean , \" addressed to a friend or lover who \\'s unexpectedly taken a powder , conjectures : \" Maybe you \\'ll be out there on that road / Somewhere in some bus or train / Traveling along in some motel room / There \\'ll be a radio playing and you \\'ll hear me sing this song .',\n",
              " '/ Well , if you do , you \\'ll know I \\'m thinking of you . \"',\n",
              " 'Loudon Wainwright III \\'s mordant \" Pretty Good Day \" is a catalogue of small victories .',\n",
              " 'The final stanza is unanticipatedly cathartic : \" I slept through the night , got through to the dawn / I flipped the switch and the light went on .',\n",
              " '/ I wrote down my dream , I wrote this song . \"',\n",
              " 'Those last four words turn the closing refrain -- \" It \\'s a pretty good day so far \" -- from ironic self-protection to a welcome truth .',\n",
              " 'None of the lyrical maneuvers or tropes I \\'ve described above should be unfamiliar to past or present English majors , who would do well to equip their computers with a global key that produces the phrase , \" Just as in the poem ... \" Indeed , it is accepted wisdom that reflexivity is an , if not the , obsession of modern poetry .',\n",
              " 'But there \\'s an advanced class of pop-music reflexivity that is little seen in these poets , although , come to think of it , it \\'s everywhere in Whitman , who even gave it a name : \" Song of Myself . \"',\n",
              " 'In popular music , this is a post-Beatles phenomenon .',\n",
              " \"In the pre-rock era , a popular singer -- think Frank Sinatra -- was manifestly an actor , convincingly giving voice to the playwright 's ( songwriter 's ) words and music .\",\n",
              " 'One of the few figures who combined singing and songwriting ( as well as a capacious ego ) was George M. Cohan , and his work was full of explicitly autobiographical representations , most famously in \" The Yankee Doodle Boy . \"',\n",
              " 'Now singers and bands are expected to have composed their own material , and the Cohan stance is standard .',\n",
              " 'For some reason , the one that always comes to mind is the Monkees \\' theme song , the one that starts , \" Hey , hey , we \\'re the Monkees . \"',\n",
              " '( Surely Grandmaster Flash and the Furious Five were paying homage to those boys in \" The Message \" when they rapped , \" Hey , we \\'re Grandmaster Flash and the Furious Five . \"',\n",
              " 'A later rap ensemble kicked it up a notch and were n\\'t paying homage to anybody in a song piquantly titled , \" Wu-Tang Clan Ai n\\'t Nuthing to **** Wit \" ) .',\n",
              " 'But there are many others .',\n",
              " 'The late-seventies band Devo memorably chanted , \" Are we not men ?',\n",
              " '/ We are Devo ! \"',\n",
              " 'The Mamas and the Papas \\' \" Creeque Alley \" is a musical memoir in the form of a shaggy-dog story : \" John and Mitchy were getting kind of itchy / Just to leave the folk music behind / Zol and Denny workin \\' for a penny / Tryin \\' to get a fish on the line .',\n",
              " 'Grand Funk Railroad protested too much in \" We \\'re an American Band , \" and Jennifer Lopez recently used autobiography as spin control when she tried to convince her longtime fans that despite all the magazine covers and bling-bling , she was still \" Jenny from the Block . \"',\n",
              " 'John Eddie has a painfully funny recent song about a special circle of hell for the singer-songwriter : the bar where a drunk loudly asks , \" Who the Hell is John Eddie ? \"',\n",
              " '( The title of the song is the heckler \\'s command -- \" Play Some Skynyrd . \"',\n",
              " ') The blustery \" I Write the Songs \" indulged in enough egotism to taint both the author ( Bruce Johnston of the Beach Boys ) and the bellower of the highest-charting version ( Barry Manilow ) .',\n",
              " 'A subtler , off-center kind of introspection can be found in the alter-ego song or group of songs , presented in the voice of a performer who has something but not everything in common with the actual one : the Beatles \\' \" Sgt.',\n",
              " 'Pepper \\'s Lonely Hearts Club Band , \" Dire Straits \\' \" Sultans of Swing , \" Eminem \\'s Slim Shady , David Bowie \\'s Ziggy Stardust , Billy Joel \\'s \" Piano Man . \"',\n",
              " 'Newman wrote this when he was a struggling songwriter and performer with no albums to his credit .',\n",
              " 'I actually prefer autobiographical moments to autobiographical songs .',\n",
              " 'In \" You Got ta Serve Somebody , \" Dylan ( n Robert Zimmerman ) , normally unforthcoming to the point of invisibility , shockingly proclaims , \" You may call me Bobby , you may call me Zimmy . \"',\n",
              " 'In \" Tenth Avenue Freezeout , \" Springsteen recalls \" When they made that change uptown and the Big Man joined the band . \"',\n",
              " 'The Big Man : saxophonist and crowd favorite Clarence Clemons ; in concert , the line always gets a roar .',\n",
              " 'James Taylor \\'s \" Fire and Rain \" talks about \" Sweet dreams and flying machines . \"',\n",
              " \"Flying Machine : Taylor 's first band .\",\n",
              " '/ And Flo , she do n\\'t know / Cause the boy she loves is a Romeo . \"',\n",
              " 'Mary and Flo : fellow Supremes Mary Wilson and Florence Birdsong .',\n",
              " \"One puzzling but cool thing about the aside is that it ( like the rest of the song ) was n't written by Ross but by Motown staff composers Holland-Dozier-Holland .\",\n",
              " 'In \" Showbiz Kids , \" Steely Dan throws in an unexpected self-reference in the manner of a Hitchcock cameo or a postage-stamp portrait-of-the-artist in a vast landscape : \" They got the Steely Dan T-shirts . \"',\n",
              " 'When it comes to singing about yourself , the hands-down champions are two musical forms that are rarely , if ever , associated with each other : country and hip-hop .',\n",
              " 'They show up disproportionately in all these categories , in fact ; one reason is that they still prize the Tin Pan Alley values of word-play and wit .',\n",
              " 'Thus Run-DMC raps , \" I \\'m the king of rock , there ai n\\'t none higher / Sucker MCs should call me sire . \"',\n",
              " 'In another number , Run-DMC gives its deejay , Jam Master Jay ( since deceased ) , his props : \" J-A-Y are the letters of his name / Cuttin \\' and scratchin \\' are the aspects of his game , / So check out the Master as he cuts these jams / And look at us with the mikes in our hands . \"',\n",
              " 'Early country performers tended to sing their hymns of love , memory , and heartbreak through generic personae , although Jimmie Rodgers had a song about himself called \" Jimmie the Kid \" and Ernest Tubb one called \" When I First Began to Sing , \" which cited Rodgers as an influence .',\n",
              " 'The greatest country singer was Hank Williams .',\n",
              " 'But he made few , if any , direct references to himself -- ironic , considering how obsessively he has been invoked by others .',\n",
              " 'Modern country autobiography began in 1971 , when Johnny Cash recorded \" The Man in Black , \" which explained his wardrobe ( \" I wear it for the thousands who have died , / Believin \\' that the Lord was on their side , \" among other reasons ) , and Loretta Lynn recorded \" Coal Miner \\'s Daughter , \" which told the story of Loretta Lynn \\'s life .',\n",
              " 'Both songs gave their creators indelible nicknames -- and nicknames are very , very big in country .',\n",
              " 'The floodgates opened with the \" outlaw country \" movement a couple of years later , which took as its text Kitty Wells \\'s old number \" The Life They Live in Songs . \"',\n",
              " 'Nelson spun picaresque yarns like \" On the Road Again , \" \" Me and Paul , \" and \" Devil in a Sleeping Bag \" and angrily told greedy record-company executives to \" Write Your Own Songs \" ; Jennings asked rhetorically , \" Do n\\'t You Think This Outlaw Bit \\'s Done Got Out of Hand ? \"',\n",
              " 'and \" Are You Sure Hank Done It This Way ? \"',\n",
              " 'The laureate of country memoir is Hank Williams Jr. , also known as Bocephus , who was just three years old when his father died .',\n",
              " \"As a child , he went on the road singing Hank Williams songs , in an uncanny imitation of Hank Williams 's voice .\",\n",
              " 'The experience was unenviable , but it provided young Bocephus with a great theme .',\n",
              " 'In 1966 , when Hank Jr .',\n",
              " 'was seventeen , he wrote and recorded \" Standing in the Shadows \" : \" I know I \\'m not great , and some say I imitate ....',\n",
              " \"It 's hard when you 're standing in the shadows of a very famous man .\",\n",
              " 'His masterpiece , I would say , is \" Family Tradition , \" where the refrain alternates between a lament and a sort of rueful and rollicking celebration : \" Lord , I have loved some ladies and I have loved Jim Beam / And they both tried to kill me in 1973.',\n",
              " \"/ When that doctor asked me , / ' Son how did you get in this condition ? '\",\n",
              " \"/ I said , ' Hey sawbones , I 'm just carrying on / An ole family tradition . '\",\n",
              " '\"  The autobiographical expectation in country has become sufficiently entrenched as to spawn ghostwriters .',\n",
              " 'Therefore , other writers regularly supply him with numbers that allow him to poke fun at his own image , like \" I Do n\\'t Need Your Rocking Chair \" and \" ( They Call Me ) No-Show Jones . \"',\n",
              " 'I have no problem with that , but the self-mythologizing of minor figures , like David Allen Coe in \" Waylon , Willie , and Me , \" can get wearing .  \"',\n",
              " 'Waylon , Willie , and Me \" : The song is also an example of the second broad category , musical intertextuality , where the references are to other compositions and performers .',\n",
              " 'Unavoidable examples are Don McLean \\'s \" American Pie \" and Rick Nelson \\'s \" Garden Party , \" rather self-satisfied allegories that all but demand crib sheets to parse the references .',\n",
              " '( In \" American Pie , \" \" the King \" is Elvis and \" the Jester \" is Dylan -- but who \\'s \" the Queen \" ? )',\n",
              " 'Earlier , I mentioned some early Tin Pan Alley \" response \" songs , and that continuing tradition definitely supplies an intertextual frisson .',\n",
              " 'Others got into the act as well , most notably Etta James , in \" Roll with Me , Henry . \"',\n",
              " '( A white singer , Georgia Gibbs , released a sanitized version , \" Dance with Me , Henry . \"',\n",
              " ') That kind of call-and-response is a sign of vitality and attentiveness in the art form .',\n",
              " 'It can be even more invigorating when song number two begs to differ with song number one .',\n",
              " 'Hank Thompson \\'s reflexive 1951 \" The Wild Side of Life \" starts with the lament that since the singer \\'s wife has abandoned him , he must give her his message \" in the words of this song . \"',\n",
              " 'Kitty Wells \\'s response came swiftly , and constituted a rousing pre-feminism feminist statement : \" As I sit here tonight , the jukebox playing / That old song about the wild , wild side of life .',\n",
              " '/ As I listen to the words you are saying , / It brings memories when I was a trusting wife .',\n",
              " '/ It was n\\'t God who made honky-tonk angels / As you say in the words of your song . \"',\n",
              " 'UTFO \\'s early rap song \" Roxanne , Roxanne \" inspired some twenty-five responses , including two by singers who adopted the name of the girl in the song and told her side of the story : Roxanne Shante and the Real Roxanne .',\n",
              " 'Merle Haggard \\'s \" Okie from Muskogee \" spawned Big Brother and the Holding Company \\'s \" I \\'ll Fix Your Flat Tire , Merle \" and \" Up Against the Wall , Redneck Mother , \" written by Ray Wylie Hubbard and performed by Jerry Jeff Walker .',\n",
              " 'As this suggests , response songs can move beyond disagreement to assault and battery .',\n",
              " 'In a sour mood , John Lennon asked Paul McCartney , \" How Do You Sleep ? \"',\n",
              " '( \" The freaks was right when they said you was dead . \"',\n",
              " ') Richard Thompson \\'s \" I Agree with Pat Metheny \" refers to Metheny \\'s outburst against saxophonist Kenny G \\'s digitized \" duet \" with Louis Armstrong : \" A meeting of the minds , how nice / Like Einstein and Sporty Spice . \"',\n",
              " 'Joan Baez got Dylan -- \" the unwashed phenomenon , the original vagabond \" -- inmost famously in \" Diamonds and Rust , \" but stuck the knife in a little deeper in \" Oh Brother , \" which begins \" You \\'ve got eyes like Jesus / But you speak with a viper \\'s tongue . \"',\n",
              " 'John Hiatt \\'s \" Memphis in the Morning , \" a rare anti-country-music song , correctly observes , \" I do n\\'t think Ronnie Milsap \\'s ever going to record this song . \"',\n",
              " 'The genre that thrives on insults -- also known as \" beefs \" -- is , of course , rap , where it \\'s understood that the more derisively a performer can put down a competitor , the more decisively he can elevate himself .',\n",
              " 'The still-unsolved murders of the feuding Tupac Shakur and the Notorious B.I.G .',\n",
              " 'several years ago put a bit of a damper on all-out beefing , but it has returned in a stylized and presumably stage-managed form , reminiscent of show-business rows like the one between Jack Benny and Fred Allen .',\n",
              " 'So , Nelly on KRS-One : \" You the first old man should get a rapper \\'s pension / No hits since the cordless mic invention . \"',\n",
              " 'Nas \\'s \" Ether \" asked Jay-Z , \" How much of Biggie \\'s rhymes is gon na come out your fat lips ? \"',\n",
              " 'Eazy-E took on a major hip-hop figure with \" All of a sudden Dr. Dre is a g-thing / But on his old album covers , he was a she-thing . \"',\n",
              " '( \" G \" is short for gangsta . )',\n",
              " 'Not exactly Oscar Wilde , but it works for me .',\n",
              " 'Country music , by contrast , favors an intertextuality of admiration , most visibly in the tribute song .',\n",
              " 'To be sure , country has no monopoly on this sometimes moving , sometimes schmaltzy , sometimes crass genre .',\n",
              " 'Ronnie McDowell recorded \" The King Is Gone \" the day after Elvis Presley \\'s death , and it \\'s been followed by 202 more Elvis tributes , according to New York deejay Peter Bochan , who lists them on his Web site ( http : **32;1014;TOOLONG ) .',\n",
              " 'If there \\'s a \" Rock and Roll Heaven , \" the Righteous Brothers memorably noted , \" you know they \\'ve got a hell of a band . \"',\n",
              " 'The Commodores \\' \" Night Shift \" honors the estimable lineup of fallen soul singers , and Tupac Shakur has been mourned in Master P \\'s \" Is There a Heaven 4 a Gangsta ?',\n",
              " ', \" Richie Rich \\'s \" Do G \\'s Go to Heaven ?',\n",
              " ', \" and Naughty By Nature \\'s \" Mourn Till I Join Ya , \" which avers , \" Nigga I miss ya this thug gon na miss ya till I \\'m witcha . \"',\n",
              " 'But this is as nothing compared with country tribute songs .',\n",
              " 'The tradition started in 1933 , with the death of the Singing Brakeman , Jimmie Rodgers , at the age of thirty-five .',\n",
              " 'Just days later , \" When Jimmie Rodgers Said Goodbye \" was issued , followed by \" The Train Carrying Jimmie Rodgers Home , \" \" The Life of Jimmie Rodgers , \" \" The Passing of Jimmie Rodgers , \" and many others .',\n",
              " 'A German devotee of American country music lists ninety-six Williams tribute songs on his Web site ( http : //www.haukestruebing.com ) , including \" Hank Williams Meets Jimmie Rodgers , \" \" Hank Williams Sings the Blues No More , \" \" Please Do n\\'t Let the Name \\' Hank \\' Die , \" \" Everybody Wants to Be Hank Williams , \" Jerry Jeff Walker \\'s \" I Feel Like Hank Williams Tonight , \" and Johnny Cash \\'s \" The Night Hank Williams Came to Town . \"',\n",
              " 'Before his death in September 2003 , Johnny Cash was the subject of \" ( In the Mood for ) Johnny Cash , \" \" Hooked on Johnny Cash , \" \" Walking Talking Johnny Cash Blues , \" Billy Joe Shaver \\'s \" That \\'s Why the Man in Black Sings the Blues , \" and his own daughter Roseanne \\'s lovely \" My Old Man . \"',\n",
              " \"If you sing a song of a certain kind , if your parents sang that song , and if you expect that your children will sing it as well , then you 're not likely to attempt to characterize , explain , or defend it in a song .\",\n",
              " 'But sometimes a musical genre is more contentious .',\n",
              " 'Listeners and performers think about and define themselves by it .',\n",
              " 'Bill Haley and the Comets asked us to \" Rock Around the Clock \" ; Chuck Berry wrote a song ( covered by the Beatles ) called , simply , \" Rock and Roll Music \" and in another commanded , \" Hail , hail rock and roll \" ; Danny and the Juniors proclaimed \" Rock and Roll Is Here to Stay . \"',\n",
              " 'Meanwhile , rearguard singers vocally demurred , as Nat King Cole in \" Mr. Cole Wo n\\'t Rock and Roll , \" which regretfully observed , \" When Tin Pan Alley serenades a beauty / Do they sing of Rose Marie or Sweet Lorraine ?',\n",
              " '/ No , they dedicate a hymn to Tutti Frutti , / Who \\'s as tender as a dame from Mickey Spillane . \"',\n",
              " 'And , needless to say , there will never be an end to boring songs about life on the road .',\n",
              " 'When it comes to meta-music , yet again , country is king .',\n",
              " 'There is a curious history here .',\n",
              " 'As Richard A. Peterson explains in his 1997 book Creating Country Music , the word country itself was an invention of the early 1950s .',\n",
              " 'Whatever the reasons , the country song about country music has become legion .',\n",
              " 'There are three broad historical categories .',\n",
              " \"The first were self-congratulatory : songs about how wonderful Jimmie , Hank , and Lefty were ; how the singer is following in their path ; how there 's nothing like a country song to express joy or heartbreak .\",\n",
              " 'Southern rock bands like Lynyrd Skynyrd and the Allman Brothers had claimed a kinship with country , to the dismay of some venerable Nashville personages , and the outlaws -- Hoss , Willie , Bocephus , the Man in Black , and Kris Kristofferson -- countered with pleas for a more inclusive definition .',\n",
              " \"One of Hank Jr . '\",\n",
              " 's several entries in this category , \" Why Do n\\'t You Leave Them Boys Alone ? \"',\n",
              " '( cowritten with Tanya Tucker ) , was noteworthy because he was joined on it not only by Waylon Jennings but also by one of the old guard , Ernest Tubb .',\n",
              " 'The third , still-current type is a lament , summed up in the lyrics of the Dixie Chicks \\' recent hit \" Long Time Gone \" : \" the music ai n\\'t got no soul / Now they sound tired but they do n\\'t sound Haggard / They \\'ve got money but they do n\\'t have Cash .',\n",
              " '/ They got Junior but they do n\\'t have Hank . \"',\n",
              " \"The villains of these pieces are n't rock bands but the likes of Billy Ray Cyrus , Garth Brooks , Faith Hill , and Shania Twain : the cowboy-hatted , midriff-baring Barbie and Ken dolls whose bland and innocuous sounds push real country artists off the so-called country stations .\",\n",
              " 'Performers like Tritt , Alan Jackson , Vince Gill , and Marty Stuart include at least one such critique on every CD they release .',\n",
              " 'Stuart is the most self-consciously militant of this group .',\n",
              " 'His most recent recording is called Country Music , which is a little like Jonathan Franzen putting out a novel called Contemporary Fiction .',\n",
              " 'Have I justified my obsession ?',\n",
              " \"If not , it 's probably too late to defend it .\",\n",
              " 'But I will say that as fatuous , lame , inauthentic , and cheesy as popular music often is , it manages to retain a gravity not often found in other arts , low or high .',\n",
              " \"Music 's logic is at its base emotional and thus not as easily assailed .\",\n",
              " 'More elevated works -- say , an off-off-Broadway play in which the actors start commenting on the previous scene , or a contemporary painting that , in its use of color or texture , is \" about \" painting -- have a contrary problem : they are trees falling in , if not a forest , then a very sparsely populated region .',\n",
              " 'In pop music , good or bad , there is usually the sense that something is at stake .',\n",
              " 'As a result , it demands our attention .',\n",
              " 'Bob Dylan is no Shakespeare , but , like Shakespeare , he appears to be putting a great deal on the line .',\n",
              " 'In the song \" Sara , \" Dylan sings of \" staying up for days in the Chelsea Hotel , / Writing \\' Sad-Eyed Lady of the Lowlands \\' for you . \"',\n",
              " 'That puts me , for one , in mind of Prospero .',\n",
              " '/ Can somebody shut him up ?',\n",
              " '/ I do n\\'t know for the life of me / where he comes up with that stuff . \"',\n",
              " 'For my money , that \\'s a moment of comic and cosmic humility that ranks up there with \" The Tale of Sir Thopas . \"',\n",
              " 'By Ben Yagoda   Ben Yagoda is Professor of English at the University of Delaware .',\n",
              " 'He is the author of About Town : The New Yorker and the World It Made and The Sound on the Page : Style and Voice in Writing , forthcoming this month from HarperResource .',\n",
              " 'He contributed \" The Years with Kolatch \" to the SCHOLAR \\'s Autumn 2002 issue .',\n",
              " '@@4000441 There seems only one cause behind all forms of social misery : bigness .',\n",
              " 'It appears to be the one and only problem permeating all creation .',\n",
              " 'Wherever something is wrong , something is too big .',\n",
              " '-- Leopold Kohr , The Breakdown of Nations   To undergraduates universities are landlords , to scholars they are multidisciplinary think tanks , to entrepreneurs they are applied research parks , to economic development officials they are economic growth centers , and to gung-ho alumni they are sponsors of professional football and basketball teams disguised as college teams .',\n",
              " 'Is it any wonder that the cost of higher education is out of control and that the mission of most universities appears to be garbled and inconsistent ?',\n",
              " 'American universities have tried unsuccessfully to be all things to all people .',\n",
              " 'In so doing they find themselves in too many unrelated and disconnected businesses .',\n",
              " 'They have become academic behemoths .',\n",
              " 'During higher education \\'s \" roaring eighties \" we said no to almost no one .',\n",
              " 'By the nineties , we had become virtually unmanageable .',\n",
              " 'Overspecialization and functional isolation are two reasons college costs consistently outpace inflation .',\n",
              " 'Each department or professional school is an island unto itself , cooperating with no one .',\n",
              " \"Promotions and faculty salaries are closely linked to publications within one 's narrowly defined discipline .\",\n",
              " 'Departments compete for students and resources .',\n",
              " 'Research and writing are rewarded ; teaching is not .',\n",
              " \"It is not uncommon for a university 's business school , divinity school , law school , engineering school , and medical school each to have its own separate library .\",\n",
              " 'The Fuqua School of Business at Duke University has its own dining hall , computer center , audiovisual center , placement service , alumni office , and luxury hotel for executive education programs .',\n",
              " 'The cost of high-tech research equipment soared in the 1970s and 1980s -- particularly in engineering , physical science , and medicine .',\n",
              " 'The cost of research in such fields as particle physics and molecular biology is prohibitively expensive .',\n",
              " 'We think not .',\n",
              " 'Undergraduate education and state-of-the-art research are two quite different businesses .',\n",
              " 'Does it make sense to try to combine them under one umbrella called a university ?',\n",
              " 'Middlebury College is an excellent undergraduate educational institution .',\n",
              " 'MIT , Caltech , and the Stanford Research Institute are world-class research institutes .',\n",
              " 'Should not Amherst , Middlebury , Mount Holyoke , Vassar , and Williams specialize in undergraduate teaching , and MIT , Caltech , and Carnegie Mellon in basic and applied research ?',\n",
              " 'The necessary skills for successful research grantsmanship are not the same skills required to be a good undergraduate teacher .',\n",
              " 'Why do so many academics pretend otherwise ?',\n",
              " 'The prevailing attitude among most state universities , caught in the competition for tax dollars since World War II , has been \" bigger makes better . \"',\n",
              " 'Now we find ourselves burdened with huge institutions .',\n",
              " 'There is a serious need for downsizing .',\n",
              " 'There are also , we believe , far too many universities in the United States .',\n",
              " 'Others are so large that they are fundamentally unmanageable .',\n",
              " 'The state of North Carolina , for example -- a relatively poor state with a population of 6.8 million -- has no fewer than fifteen state universities plus another seven private universities .',\n",
              " 'The state also has four medical schools -- two public and two private .',\n",
              " 'On the other hand , tiny Vermont sensibly has only one state university .',\n",
              " 'The proliferation of universities with the inherent duplication of programs and infrastructure has contributed significantly to the skyrocketing cost of higher education .',\n",
              " 'America needs not more universities but more small undergraduate colleges .',\n",
              " 'But we have acted as if sheer size makes no difference when it comes to achieving the mission of higher education .',\n",
              " 'Countering the trend toward giantism in universities is well-managed Oklahoma City University with only 4,660 students , of which 2,400 are undergraduates .',\n",
              " \"Although OCU 's strong international programs attract students from 71 different countries , 75 percent of OCU 's undergraduates -- including many American Indians -- are from Oklahoma .\",\n",
              " 'The administrators of OCU seem to know what business they are in and have created an environment with a strong sense of community between faculty and students .',\n",
              " 'Just as there are too many small universities whose quest for university status has distracted them from the task of undergraduate education , there are also too many universities that have become inefficient , dehumanized , bureaucratic agglomerations of unrelated businesses .',\n",
              " 'Undergraduate , professional , graduate , and adult education ; housing ; food service ; dental and health care services ; book publishing ; agricultural extension services ; management consulting ; public service ; and semiprofessional athletics are among the plethora of unrelated businesses in which large universities find themselves .',\n",
              " 'With 52,183 students , 38,958 of whom are undergraduates , the Columbus campus of Ohio State University , the largest university in the United States , more closely resembles a small city than an academic community .',\n",
              " 'It is not alone : Mega-Universities PREFORMATTED TABLE  Throughout the 1960s , many universities grew haphazardly , without any well-defined sense of direction .',\n",
              " 'Not unlike the programs of the federal government , obsolete academic programs are seldom allowed to die .',\n",
              " 'Instead , they continue indefinitely , long after their original rationale has faded .',\n",
              " 'Restructuring Higher Education  We believe that what is called for in higher education is nothing less than a complete restructuring of universities , including the way they are organized , the way undergraduates are taught , and the substance of the curriculum .',\n",
              " \"The ultimate aim of restructuring is to improve the quality of undergraduate education , increase its value , and reduce its costs -- to create a community of scholars and teachers that will enhance students ' critical thinking skills and their search for meaning .\",\n",
              " \"While we know that smallness alone is no guarantee of a school 's educational effectiveness , we do believe that a large size is a mostly negative factor in achieving the goals of higher education .\",\n",
              " 'Universities are not immune to the law of decreasing returns with regard to increased size .',\n",
              " 'Large state universities , with their dehumanizing high-rise dormitories , legions of graduate teaching assistants , and tens of thousands of undergraduates are antithetical to the pursuit of knowledge , meaning , and community .',\n",
              " 'There are those who respond , \" But do n\\'t many students at larger schools do quite well on standardized tests like the GRE or the LSAT ? \"',\n",
              " 'Such arguments fail to move us .',\n",
              " 'The quantification and standardization of education , represented in such tests , is precisely what we are arguing against .',\n",
              " 'Even relatively small universities like Duke , with 6,130 undergraduates , and the University of Vermont , with 7,925 , are difficult to control .',\n",
              " 'Viable undergraduate learning communities at the mega-universities described previously are an almost impossible dream .',\n",
              " 'What we are proposing is downsizing colleges and universities to a more reasonable scale and eventually decoupling undergraduate education from the largest of them .',\n",
              " 'Growth at universities with more than five thousand undergraduates should be brought to a halt .',\n",
              " 'Too many of our universities resemble General Motors of the fifties .',\n",
              " 'While American business has radically transformed the World War II-induced behemoths churning out haphazardly built products , American higher education is still saddled with huge institutional relics that produce assembly-line graduates .',\n",
              " 'American higher education must show some of the same creativity and courage that we have seen recently in much of American business .',\n",
              " 'Downsizing is the order of the day .',\n",
              " 'The three best-known American examples of the residential college systems are Harvard , Princeton , and Yale .',\n",
              " \"Yale 's twelve residential colleges are self-sufficient communities within Yale College , each with its own dining hall , library , courtyard , seminar rooms , practice rooms , and numerous other facilities , from darkrooms to printing presses , from game rooms to saunas .\",\n",
              " 'All houses are coeducational , and much of the social , athletic , extracurricular , and academic life at Harvard centers on the house .',\n",
              " 'At Princeton all freshmen and sophomores live and dine in one of five residential colleges .',\n",
              " \"A small number of juniors and seniors live and eat in the residential colleges , but most live in the upperclass dorms , and more than half dine in Princeton 's well-known independent eating clubs .\",\n",
              " 'We are not suggesting that the residential college system , as practiced by the aforementioned universities , is a panacea .',\n",
              " 'We know that the residential college experiments at the University of Virginia and at Princeton have had their critics .',\n",
              " 'Yet we do defend the notion that size is an important issue .',\n",
              " 'Even with the residential college system , size mitigates against the benefits of residential colleges when , as is the case at Harvard , there are 6,672 undergraduates dominated by 11,601 graduate students and professional students .',\n",
              " 'The reconfiguration called for faculty and staff reductions , the abolition of tenure , the elimination of traditional academic departments , a 10 percent cut in tuition and fees , the adoption of an alternative contractual system for faculty , and the establishment of a revolving venture-capital fund to support innovative new faculty ideas .',\n",
              " 'All of this was in response to declining enrollments , a $1 million deficit , serious erosion of academic standards , poor faculty morale , and organizational chaos .',\n",
              " 'Bennington was not only out of control , it was in a death spiral .',\n",
              " 'But to its credit , Bennington was small enough and flexible enough to reinvent itself .',\n",
              " 'Most large colleges and universities are not .',\n",
              " 'Over the long term , during the next decade , we are proposing that large universities withdraw from the undergraduate teaching business .',\n",
              " 'State universities would provide support services to a network of colleges not located on the central university campus , including administrative and financial services , library services , and central computing facilities , as well as specialized courses for advanced undergraduates .',\n",
              " 'Seniors in satellite colleges affiliated with the university might be allowed to take a limited number of graduate courses at the university .',\n",
              " 'Moreover , we encourage those who charge that these proposals would be extravagantly expensive to be honest about the extravagance , the waste , and the redundancy present in the large educational institutions .',\n",
              " 'There are functions of the university , particularly those that thrive on communication , interaction , and cooperation , where costs increase and efficiency declines as the bureaucracy grows .',\n",
              " 'Downsizing is not a call to withdraw from the commitment to educate the largest possible number of qualified students , but rather an attempt to give all of our students the best possible education by the most efficient means .',\n",
              " 'For many states -- not including California , New York , and Texas -- there is little need for multiple , state-supported medical schools , law schools , and engineering schools .',\n",
              " 'Many underfinanced , undersubscribed universities should be downsized back to colleges .',\n",
              " 'Having experienced a couple of decades during which numerous colleges and two-year institutions frantically moved toward pinning the name \" university \" upon themselves , we must now help these schools recover the dignity , the focus , and the efficiency that comes from reclaiming their identity as colleges dedicated to undergraduate education .',\n",
              " 'Not every state needs a dental school , a veterinary school , or state-of-the-art research institutions in nuclear physics and microbiology .',\n",
              " 'The cold war is over and we do not need nearly so many nuclear physicists , mathematicians , chemists , and defense-related engineers .',\n",
              " 'As taxpayers demand cutbacks in the defense budget , research universities are going to discover painfully how much of their intellectual activity has been dictated by the Pentagon .',\n",
              " 'Be well assured that if our faculties and administrators do not take this opportunity , they shall then be led through the humiliating process of having legislators and mere market pressures hack their schools to pieces , bit by bit .',\n",
              " 'Graduate education has always cost more than undergraduate education because of small class sizes and laboratory equipment requirements .',\n",
              " 'Universities should become much more selective in choosing departments and fields in which to offer Ph.D .',\n",
              " 'The manner in which some graduate departments continue to produce Ph.D.s in fields already oversupplied borders on the immoral .',\n",
              " 'Those who would defend the mega-universities on the basis of their altruistic desire to provide the largest possible number of students with access to higher education ought honestly to examine how much potential undergraduate funding is siphoned off at these institutions by expensive , glamorous , but relatively unproductive graduate and professional programs .',\n",
              " 'We want to reverse that process , inviting universities to see themselves as existing for and supportive of the task of undergraduate education .',\n",
              " 'Since professors in newly emerging liberal arts colleges will not be under the university publish-or-perish mandate , they can be expected to teach more -- perhaps as many as four or five courses per semester .',\n",
              " 'As universities begin downsizing and cutting back on their undergraduate programs , former undergraduate dormitories can either be transformed to graduate and professional dormitories or converted to apartment buildings or much-needed housing for the elderly .',\n",
              " 'We see much educational value in colleges attempting to foster more interaction between the generations .',\n",
              " 'With modern telecommunications networks , universities may offer their satellite colleges televised courses on topics too specialized to be included in the curricula of most small colleges , such as Chinese , Japanese , advanced physics , and molecular biology .',\n",
              " 'Why should universities continue to support big-time football and basketball programs ?',\n",
              " 'University stadiums and basketball field houses could be sold or rented to nearby professional teams .',\n",
              " 'In downsizing , intercollegiate athletics would return to the scale on which it existed before World War II .',\n",
              " 'Small colleges would compete among themselves for the pleasure of it , not to train professional athletes and hype alumni and state legislators .',\n",
              " 'If athletic scholarships were continued , their educational usefulness , not simply their athletic value , would need to be demonstrated .',\n",
              " 'For decades , on many campuses , fraternities and sororities have provided a second-best alternative to the residential college system in America .',\n",
              " 'In their fraternity or sorority , students found the sense of community they craved , but which the college or university failed to provide .',\n",
              " 'Indeed , the very existence of the Greek system may at least partially explain why so few colleges and universities have adopted the English residential college plan .',\n",
              " 'It is not by chance alone that small colleges such as Amherst , Dartmouth , Middlebury , Mount Holyoke , Smith , Vassar , Wellesley , and Williams command premium prices in the marketplace .',\n",
              " 'They charge high tuition because they provide a high value-added product .',\n",
              " 'By attempting to be all things to all people , large-scale universities have allowed their most important business -- undergraduate education -- to be seriously eroded .',\n",
              " 'For too long university trustees and state legislators have been biased toward professional schools and graduate education .',\n",
              " \"It 's time to turn the situation around , to recover the centrality of undergraduate education .\",\n",
              " 'By Thomas H. Naylor and William H. Willimon   Thomas H. Naylor is professor emeritus of economics , and William H. Willimon is dean of the chapel at Duke University .',\n",
              " 'This piece is based on their recent book The Abandoned Generation : Rethinking Higher Education ( Eerdmans , 1995 ) .',\n",
              " '@@4000541 The papers that comprise this symposium are adapted from remarks delivered on 31 May 2002 in Washington , D.C. , at the NAS \\'s tenth national conference titled \" Higher Education and Democracy in Peace and War . \"',\n",
              " 'They reflect the intention of the conference organizers to approach the role of patriotism in higher education from differing perspectives .',\n",
              " 'Introduction Gertrude Himmelfarb  \" Is higher education compatible with patriotism ? \"',\n",
              " 'That question suggests a prior one : Is higher education , as we now know it , compatible with education-education , that is , as we once knew it , liberal education ?',\n",
              " 'About higher education as we now know it , I think the members of the National Association of Scholars have no illusions .',\n",
              " 'Much has changed since 9/11 , for the good .',\n",
              " 'But higher education , I regret to say , is not among them .']"
            ]
          },
          "metadata": {
            "tags": []
          },
          "execution_count": 21
        }
      ]
    },
    {
      "cell_type": "code",
      "metadata": {
        "id": "faJRjuNRJhO6"
      },
      "source": [
        "import re\n",
        "def cleaning(text): \n",
        "  repl =''   #repl = replacement\n",
        "  text = text.lower() # to lowercase\n",
        "  return text"
      ],
      "execution_count": 23,
      "outputs": []
    },
    {
      "cell_type": "markdown",
      "metadata": {
        "id": "Tw50-0duKYhi"
      },
      "source": [
        "* 대/소문자 표시도 native / non-native 의 차이일 수 있음 => 일단 lower()처리하지 X"
      ]
    },
    {
      "cell_type": "code",
      "metadata": {
        "id": "HFKvy6pD5hKc"
      },
      "source": [
        ""
      ],
      "execution_count": null,
      "outputs": []
    }
  ]
}