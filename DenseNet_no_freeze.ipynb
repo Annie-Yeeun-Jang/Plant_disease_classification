{
  "nbformat": 4,
  "nbformat_minor": 0,
  "metadata": {
    "colab": {
      "name": "densenet_디폴트_값.ipynb",
      "provenance": [],
      "collapsed_sections": [],
      "machine_shape": "hm",
      "include_colab_link": true
    },
    "kernelspec": {
      "name": "python3",
      "display_name": "Python 3"
    },
    "accelerator": "GPU"
  },
  "cells": [
    {
      "cell_type": "markdown",
      "metadata": {
        "id": "view-in-github",
        "colab_type": "text"
      },
      "source": [
        "<a href=\"https://colab.research.google.com/github/Annie-Yeeun-Jang/Plant_disease_classification/blob/master/DenseNet_no_freeze.ipynb\" target=\"_parent\"><img src=\"https://colab.research.google.com/assets/colab-badge.svg\" alt=\"Open In Colab\"/></a>"
      ]
    },
    {
      "cell_type": "markdown",
      "metadata": {
        "id": "GB4n6WI6Gv9S",
        "colab_type": "text"
      },
      "source": [
        "### Import necessary packages"
      ]
    },
    {
      "cell_type": "code",
      "metadata": {
        "_cell_guid": "79c7e3d0-c299-4dcb-8224-4455121ee9b0",
        "_uuid": "d629ff2d2480ee46fbb7e2d37f6b5fab8052498a",
        "id": "IrFxmHGmQG4A",
        "colab_type": "code",
        "colab": {
          "base_uri": "https://localhost:8080/",
          "height": 68
        },
        "outputId": "5ab9fadb-48cc-48fa-bc53-9c89f48f32ce"
      },
      "source": [
        "import numpy as np\n",
        "import pandas as pd\n",
        "import matplotlib.pyplot as plt\n",
        "%matplotlib inline\n",
        "import seaborn as sns\n",
        "import cv2\n",
        "from tqdm import tqdm\n",
        "from sklearn.metrics import confusion_matrix\n",
        "from sklearn.model_selection import train_test_split\n",
        "from keras.utils.np_utils import to_categorical\n",
        "from keras.models import Model,Sequential, Input, load_model\n",
        "from keras.layers import Dense, Dropout, Flatten, Conv2D, MaxPooling2D, BatchNormalization, AveragePooling2D, GlobalAveragePooling2D, Activation, Dropout, Dense\n",
        "from keras.optimizers import Adam\n",
        "from keras import optimizers\n",
        "from keras.preprocessing.image import ImageDataGenerator\n",
        "from keras.callbacks import EarlyStopping, ModelCheckpoint, ReduceLROnPlateau\n",
        "from keras.applications import DenseNet121"
      ],
      "execution_count": null,
      "outputs": [
        {
          "output_type": "stream",
          "text": [
            "/usr/local/lib/python3.6/dist-packages/statsmodels/tools/_testing.py:19: FutureWarning: pandas.util.testing is deprecated. Use the functions in the public API at pandas.testing instead.\n",
            "  import pandas.util.testing as tm\n",
            "Using TensorFlow backend.\n"
          ],
          "name": "stderr"
        }
      ]
    },
    {
      "cell_type": "code",
      "metadata": {
        "id": "fdgYSc4H0MFc",
        "colab_type": "code",
        "colab": {
          "base_uri": "https://localhost:8080/",
          "height": 122
        },
        "outputId": "ed823b8d-1ee9-400c-d891-a5c31458111d"
      },
      "source": [
        "from google.colab import drive\n",
        "drive.mount('/content/gdrive')\n",
        "dst_path = '/content/gdrive/My Drive/dataset_split_aug'\n",
        "# 경로 지정\n",
        "import os\n",
        "os.chdir('/content/gdrive/My Drive/dataset_split_aug')"
      ],
      "execution_count": null,
      "outputs": [
        {
          "output_type": "stream",
          "text": [
            "Go to this URL in a browser: https://accounts.google.com/o/oauth2/auth?client_id=947318989803-6bn6qk8qdgf4n4g3pfee6491hc0brc4i.apps.googleusercontent.com&redirect_uri=urn%3aietf%3awg%3aoauth%3a2.0%3aoob&response_type=code&scope=email%20https%3a%2f%2fwww.googleapis.com%2fauth%2fdocs.test%20https%3a%2f%2fwww.googleapis.com%2fauth%2fdrive%20https%3a%2f%2fwww.googleapis.com%2fauth%2fdrive.photos.readonly%20https%3a%2f%2fwww.googleapis.com%2fauth%2fpeopleapi.readonly\n",
            "\n",
            "Enter your authorization code:\n",
            "··········\n",
            "Mounted at /content/gdrive\n"
          ],
          "name": "stdout"
        }
      ]
    },
    {
      "cell_type": "markdown",
      "metadata": {
        "id": "IVZAYjnZHFsu",
        "colab_type": "text"
      },
      "source": [
        "### 이미지 노이즈"
      ]
    },
    {
      "cell_type": "code",
      "metadata": {
        "id": "qq_M53ua2jPA",
        "colab_type": "code",
        "colab": {
          "base_uri": "https://localhost:8080/",
          "height": 51
        },
        "outputId": "54b130ae-64b3-4b2f-9b41-442b06205b16"
      },
      "source": [
        "from tensorflow.keras.preprocessing.image import ImageDataGenerator\n",
        "\n",
        "train_dir = os.path.join(dst_path, 'train')\n",
        "validation_dir = os.path.join(dst_path, 'validation')\n",
        "test_dir = os.path.join(dst_path, 'test')\n",
        "\n",
        "train_datagen = ImageDataGenerator(rescale = 1./255,\n",
        "                                   horizontal_flip=True,\n",
        "                                   vertical_flip=True,\n",
        "                                   zoom_range=0.2)\n",
        "test_datagen = ImageDataGenerator(rescale=1./255)\n",
        "\n",
        "train_generator = train_datagen.flow_from_directory(train_dir,\n",
        "                                                    target_size=(64,64),\n",
        "                                                    batch_size=64,\n",
        "                                                    class_mode='categorical')\n",
        "\n",
        "validation_generator = test_datagen.flow_from_directory(validation_dir,\n",
        "                                                        target_size=(64,64),\n",
        "                                                        batch_size=64,\n",
        "                                                        class_mode='categorical')"
      ],
      "execution_count": null,
      "outputs": [
        {
          "output_type": "stream",
          "text": [
            "Found 30748 images belonging to 33 classes.\n",
            "Found 7989 images belonging to 33 classes.\n"
          ],
          "name": "stdout"
        }
      ]
    },
    {
      "cell_type": "markdown",
      "metadata": {
        "id": "jrmwaMc7HJTa",
        "colab_type": "text"
      },
      "source": [
        "### DenseNet 모델 구성"
      ]
    },
    {
      "cell_type": "code",
      "metadata": {
        "id": "7fk2fGPe8p-m",
        "colab_type": "code",
        "colab": {}
      },
      "source": [
        "SIZE=64\n",
        "N_ch=3"
      ],
      "execution_count": null,
      "outputs": []
    },
    {
      "cell_type": "code",
      "metadata": {
        "id": "XoxaNg0G7V5P",
        "colab_type": "code",
        "colab": {}
      },
      "source": [
        "def build_densenet():\n",
        "    densenet = DenseNet121(weights='imagenet', include_top=False)\n",
        "\n",
        "    input = Input(shape=(SIZE, SIZE, N_ch))\n",
        "    x = Conv2D(3, (3, 3), padding='same')(input)\n",
        "    \n",
        "    x = densenet(x)\n",
        "    x = GlobalAveragePooling2D()(x)\n",
        "    x = BatchNormalization()(x)\n",
        "    x = Dropout(0.5)(x)\n",
        "    x = Dense(256, activation='relu')(x)\n",
        "    x = BatchNormalization()(x)\n",
        "    x = Dropout(0.5)(x)\n",
        "\n",
        "    # multi output\n",
        "    output = Dense(33,activation = 'softmax', name='root')(x)\n",
        " \n",
        "\n",
        "    # model\n",
        "    model = Model(input,output)\n",
        "    \n",
        "    optimizer = Adam(lr=0.001, beta_1=0.9, beta_2=0.999, epsilon=0.1, decay=0.0)\n",
        "    model.compile(loss='categorical_crossentropy', optimizer=optimizer, metrics=['accuracy'])\n",
        "    #model.summary()\n",
        "    return model"
      ],
      "execution_count": null,
      "outputs": []
    },
    {
      "cell_type": "markdown",
      "metadata": {
        "id": "KC1fz65eHRq7",
        "colab_type": "text"
      },
      "source": [
        "### 모델 실행"
      ]
    },
    {
      "cell_type": "code",
      "metadata": {
        "id": "pievgw5c7vwk",
        "colab_type": "code",
        "colab": {}
      },
      "source": [
        "annealer = ReduceLROnPlateau(monitor='val_accuracy', factor=0.5, patience=5, verbose=1, min_lr=1e-3)\n",
        "\n",
        "MODEL_SAVE_FOLDER_PATH='/content/gdrive/My Drive/model_save/dense/'\n",
        "model_path = MODEL_SAVE_FOLDER_PATH + '{epoch:02d}-{val_loss:.4f}.hdf5'\n",
        "\n",
        "checkpoint= ModelCheckpoint(filepath=model_path,monitor='val_accuracy',verbose=1, save_best_only=True)\n",
        "earlystop=EarlyStopping(patience=10)\n",
        "\n",
        "my_callbacks = [earlystop,checkpoint,annealer]"
      ],
      "execution_count": null,
      "outputs": []
    },
    {
      "cell_type": "code",
      "metadata": {
        "id": "Rxar34GEytcU",
        "colab_type": "code",
        "colab": {
          "base_uri": "https://localhost:8080/",
          "height": 527
        },
        "outputId": "e1a99bf7-d92b-47b6-d43e-6f6bb624c376"
      },
      "source": [
        "model = build_densenet()\n",
        "model.summary()"
      ],
      "execution_count": null,
      "outputs": [
        {
          "output_type": "stream",
          "text": [
            "Downloading data from https://github.com/keras-team/keras-applications/releases/download/densenet/densenet121_weights_tf_dim_ordering_tf_kernels_notop.h5\n",
            "29089792/29084464 [==============================] - 1s 0us/step\n",
            "Model: \"model_1\"\n",
            "_________________________________________________________________\n",
            "Layer (type)                 Output Shape              Param #   \n",
            "=================================================================\n",
            "input_2 (InputLayer)         (None, 64, 64, 3)         0         \n",
            "_________________________________________________________________\n",
            "conv2d_1 (Conv2D)            (None, 64, 64, 3)         84        \n",
            "_________________________________________________________________\n",
            "densenet121 (Model)          multiple                  7037504   \n",
            "_________________________________________________________________\n",
            "global_average_pooling2d_1 ( (None, 1024)              0         \n",
            "_________________________________________________________________\n",
            "batch_normalization_1 (Batch (None, 1024)              4096      \n",
            "_________________________________________________________________\n",
            "dropout_1 (Dropout)          (None, 1024)              0         \n",
            "_________________________________________________________________\n",
            "dense_1 (Dense)              (None, 256)               262400    \n",
            "_________________________________________________________________\n",
            "batch_normalization_2 (Batch (None, 256)               1024      \n",
            "_________________________________________________________________\n",
            "dropout_2 (Dropout)          (None, 256)               0         \n",
            "_________________________________________________________________\n",
            "root (Dense)                 (None, 33)                8481      \n",
            "=================================================================\n",
            "Total params: 7,313,589\n",
            "Trainable params: 7,227,381\n",
            "Non-trainable params: 86,208\n",
            "_________________________________________________________________\n"
          ],
          "name": "stdout"
        }
      ]
    },
    {
      "cell_type": "code",
      "metadata": {
        "id": "KB6lWgImxCLO",
        "colab_type": "code",
        "colab": {
          "base_uri": "https://localhost:8080/",
          "height": 1000
        },
        "outputId": "6e483acf-701c-4f3f-f44a-2232500ec603"
      },
      "source": [
        "dense = model.fit_generator(train_generator,\n",
        "                            epochs=50,\n",
        "                            validation_data=validation_generator,\n",
        "                            callbacks=my_callbacks)"
      ],
      "execution_count": null,
      "outputs": [
        {
          "output_type": "stream",
          "text": [
            "Epoch 1/50\n",
            "480/481 [============================>.] - ETA: 17s - loss: 3.1499 - accuracy: 0.2611"
          ],
          "name": "stdout"
        },
        {
          "output_type": "stream",
          "text": [
            "/usr/local/lib/python3.6/dist-packages/keras/utils/data_utils.py:616: UserWarning: The input 27 could not be retrieved. It could be because a worker has died.\n",
            "  UserWarning)\n",
            "/usr/local/lib/python3.6/dist-packages/keras/utils/data_utils.py:616: UserWarning: The input 95 could not be retrieved. It could be because a worker has died.\n",
            "  UserWarning)\n"
          ],
          "name": "stderr"
        },
        {
          "output_type": "stream",
          "text": [
            "\b\b\b\b\b\b\b\b\b\b\b\b\b\b\b\b\b\b\b\b\b\b\b\b\b\b\b\b\b\b\b\b\b\b\b\b\b\b\b\b\b\b\b\b\b\b\b\b\b\b\b\b\b\b\b\b\b\b\b\b\b\b\b\b\b\b\b\b\b\b\b\b\b\b\b\b\b\b\b\b\b\b\b\b\b\r481/481 [==============================] - 10271s 21s/step - loss: 3.1464 - accuracy: 0.2618 - val_loss: 1.6667 - val_accuracy: 0.5570\n",
            "\n",
            "Epoch 00001: val_accuracy improved from -inf to 0.55702, saving model to /content/gdrive/My Drive/model_save/dense/01-1.6667.hdf5\n",
            "Epoch 2/50\n",
            "481/481 [==============================] - 127s 263ms/step - loss: 1.2564 - accuracy: 0.6383 - val_loss: 0.6380 - val_accuracy: 0.7802\n",
            "\n",
            "Epoch 00002: val_accuracy improved from 0.55702 to 0.78020, saving model to /content/gdrive/My Drive/model_save/dense/02-0.6380.hdf5\n",
            "Epoch 3/50\n",
            "481/481 [==============================] - 120s 250ms/step - loss: 0.7660 - accuracy: 0.7707 - val_loss: 0.6235 - val_accuracy: 0.8025\n",
            "\n",
            "Epoch 00003: val_accuracy improved from 0.78020 to 0.80248, saving model to /content/gdrive/My Drive/model_save/dense/03-0.6235.hdf5\n",
            "Epoch 4/50\n",
            "481/481 [==============================] - 120s 249ms/step - loss: 0.5597 - accuracy: 0.8282 - val_loss: 0.3235 - val_accuracy: 0.8477\n",
            "\n",
            "Epoch 00004: val_accuracy improved from 0.80248 to 0.84767, saving model to /content/gdrive/My Drive/model_save/dense/04-0.3235.hdf5\n",
            "Epoch 5/50\n",
            "481/481 [==============================] - 118s 246ms/step - loss: 0.4416 - accuracy: 0.8634 - val_loss: 0.5279 - val_accuracy: 0.8150\n",
            "\n",
            "Epoch 00005: val_accuracy did not improve from 0.84767\n",
            "Epoch 6/50\n",
            "481/481 [==============================] - 118s 245ms/step - loss: 0.3594 - accuracy: 0.8880 - val_loss: 0.2862 - val_accuracy: 0.8763\n",
            "\n",
            "Epoch 00006: val_accuracy improved from 0.84767 to 0.87633, saving model to /content/gdrive/My Drive/model_save/dense/06-0.2862.hdf5\n",
            "Epoch 7/50\n",
            "481/481 [==============================] - 119s 247ms/step - loss: 0.2967 - accuracy: 0.9082 - val_loss: 0.3348 - val_accuracy: 0.8821\n",
            "\n",
            "Epoch 00007: val_accuracy improved from 0.87633 to 0.88209, saving model to /content/gdrive/My Drive/model_save/dense/07-0.3348.hdf5\n",
            "Epoch 8/50\n",
            "481/481 [==============================] - 118s 244ms/step - loss: 0.2492 - accuracy: 0.9234 - val_loss: 0.2553 - val_accuracy: 0.9323\n",
            "\n",
            "Epoch 00008: val_accuracy improved from 0.88209 to 0.93228, saving model to /content/gdrive/My Drive/model_save/dense/08-0.2553.hdf5\n",
            "Epoch 9/50\n",
            "481/481 [==============================] - 119s 248ms/step - loss: 0.2120 - accuracy: 0.9333 - val_loss: 0.3526 - val_accuracy: 0.8880\n",
            "\n",
            "Epoch 00009: val_accuracy did not improve from 0.93228\n",
            "Epoch 10/50\n",
            "481/481 [==============================] - 118s 245ms/step - loss: 0.1823 - accuracy: 0.9439 - val_loss: 0.2830 - val_accuracy: 0.9248\n",
            "\n",
            "Epoch 00010: val_accuracy did not improve from 0.93228\n",
            "Epoch 11/50\n",
            "481/481 [==============================] - 118s 244ms/step - loss: 0.1638 - accuracy: 0.9483 - val_loss: 0.2591 - val_accuracy: 0.9201\n",
            "\n",
            "Epoch 00011: val_accuracy did not improve from 0.93228\n",
            "Epoch 12/50\n",
            "481/481 [==============================] - 119s 247ms/step - loss: 0.1403 - accuracy: 0.9574 - val_loss: 0.0467 - val_accuracy: 0.9471\n",
            "\n",
            "Epoch 00012: val_accuracy improved from 0.93228 to 0.94705, saving model to /content/gdrive/My Drive/model_save/dense/12-0.0467.hdf5\n",
            "Epoch 13/50\n",
            "481/481 [==============================] - 118s 245ms/step - loss: 0.1263 - accuracy: 0.9619 - val_loss: 0.4718 - val_accuracy: 0.8767\n",
            "\n",
            "Epoch 00013: val_accuracy did not improve from 0.94705\n",
            "Epoch 14/50\n",
            "481/481 [==============================] - 118s 246ms/step - loss: 0.1141 - accuracy: 0.9649 - val_loss: 0.1551 - val_accuracy: 0.9417\n",
            "\n",
            "Epoch 00014: val_accuracy did not improve from 0.94705\n",
            "Epoch 15/50\n",
            "481/481 [==============================] - 122s 253ms/step - loss: 0.1060 - accuracy: 0.9677 - val_loss: 0.0760 - val_accuracy: 0.9588\n",
            "\n",
            "Epoch 00015: val_accuracy improved from 0.94705 to 0.95882, saving model to /content/gdrive/My Drive/model_save/dense/15-0.0760.hdf5\n",
            "Epoch 16/50\n",
            "481/481 [==============================] - 119s 247ms/step - loss: 0.0983 - accuracy: 0.9701 - val_loss: 0.1195 - val_accuracy: 0.9556\n",
            "\n",
            "Epoch 00016: val_accuracy did not improve from 0.95882\n",
            "Epoch 17/50\n",
            "481/481 [==============================] - 121s 251ms/step - loss: 0.0856 - accuracy: 0.9737 - val_loss: 0.0688 - val_accuracy: 0.9464\n",
            "\n",
            "Epoch 00017: val_accuracy did not improve from 0.95882\n",
            "Epoch 18/50\n",
            "481/481 [==============================] - 120s 249ms/step - loss: 0.0796 - accuracy: 0.9759 - val_loss: 0.0795 - val_accuracy: 0.9513\n",
            "\n",
            "Epoch 00018: val_accuracy did not improve from 0.95882\n",
            "Epoch 19/50\n",
            "481/481 [==============================] - 118s 245ms/step - loss: 0.0728 - accuracy: 0.9771 - val_loss: 0.3424 - val_accuracy: 0.9493\n",
            "\n",
            "Epoch 00019: val_accuracy did not improve from 0.95882\n",
            "Epoch 20/50\n",
            "481/481 [==============================] - 119s 248ms/step - loss: 0.0699 - accuracy: 0.9783 - val_loss: 0.0967 - val_accuracy: 0.9523\n",
            "\n",
            "Epoch 00020: val_accuracy did not improve from 0.95882\n",
            "\n",
            "Epoch 00020: ReduceLROnPlateau reducing learning rate to 0.001.\n",
            "Epoch 21/50\n",
            "481/481 [==============================] - 117s 244ms/step - loss: 0.0574 - accuracy: 0.9826 - val_loss: 0.1355 - val_accuracy: 0.9713\n",
            "\n",
            "Epoch 00021: val_accuracy improved from 0.95882 to 0.97134, saving model to /content/gdrive/My Drive/model_save/dense/21-0.1355.hdf5\n",
            "Epoch 22/50\n",
            "481/481 [==============================] - 119s 248ms/step - loss: 0.0588 - accuracy: 0.9824 - val_loss: 0.3721 - val_accuracy: 0.9576\n",
            "\n",
            "Epoch 00022: val_accuracy did not improve from 0.97134\n"
          ],
          "name": "stdout"
        }
      ]
    },
    {
      "cell_type": "code",
      "metadata": {
        "id": "FQteLv5JVGC5",
        "colab_type": "code",
        "colab": {
          "base_uri": "https://localhost:8080/",
          "height": 573
        },
        "outputId": "ee62acba-0bdb-45db-d411-e6bc2b91890f"
      },
      "source": [
        "# accuracy plot \n",
        "plt.plot(dense.history['accuracy'])\n",
        "plt.plot(dense.history['val_accuracy'])\n",
        "plt.title('Accuracy')\n",
        "plt.ylabel('accuracy')\n",
        "plt.xlabel('epoch')\n",
        "plt.legend(['train', 'val'], loc='upper left')\n",
        "plt.show()\n",
        "\n",
        "# loss plot\n",
        "plt.plot(dense.history['loss'])\n",
        "plt.plot(dense.history['val_loss'])\n",
        "plt.title('Loss')\n",
        "plt.ylabel('loss')\n",
        "plt.xlabel('epoch')\n",
        "plt.legend(['train', 'val'], loc='upper left')\n",
        "plt.show()"
      ],
      "execution_count": null,
      "outputs": [
        {
          "output_type": "display_data",
          "data": {
            "image/png": "[encoded data removed]",
            "text/plain": [
              "<Figure size 432x288 with 1 Axes>"
            ]
          },
          "metadata": {
            "tags": [],
            "needs_background": "light"
          }
        },
        {
          "output_type": "display_data",
          "data": {
            "image/png": "[encoded data removed]",
            "text/plain": [
              "<Figure size 432x288 with 1 Axes>"
            ]
          },
          "metadata": {
            "tags": [],
            "needs_background": "light"
          }
        }
      ]
    },
    {
      "cell_type": "code",
      "metadata": {
        "id": "Tf6BShAWFfoe",
        "colab_type": "code",
        "colab": {}
      },
      "source": [
        "model.save('/content/gdrive/My Drive/model_save/dense/DenseNet.h5')"
      ],
      "execution_count": null,
      "outputs": []
    },
    {
      "cell_type": "code",
      "metadata": {
        "id": "62FzqXt5VoJL",
        "colab_type": "code",
        "colab": {
          "base_uri": "https://localhost:8080/",
          "height": 573
        },
        "outputId": "6c0d15f4-7109-45cd-aad2-f65142ae99c1"
      },
      "source": [
        "def smooth_curve(points, factor=0.8):\n",
        "  smoothed_points = []\n",
        "  for point in points:\n",
        "    if smoothed_points:\n",
        "      previous = smoothed_points[-1]\n",
        "      smoothed_points.append(previous * factor + point * (1 - factor))\n",
        "    else:\n",
        "      smoothed_points.append(point)\n",
        "  return smoothed_points\n",
        "\n",
        "smooth_mae_history_train = smooth_curve(dense.history['accuracy'])\n",
        "smooth_mae_history_val = smooth_curve(dense.history['val_accuracy'])\n",
        "plt.plot(range(1, len(smooth_mae_history_train) + 1), smooth_mae_history_train)\n",
        "plt.plot(range(1, len(smooth_mae_history_val) + 1), smooth_mae_history_val)\n",
        "plt.xlabel('epochs')\n",
        "plt.ylabel('accuracy')\n",
        "plt.title('Accuracy Moving average')\n",
        "plt.legend(['train', 'val'], loc='upper left')\n",
        "plt.show()\n",
        "\n",
        "\n",
        "plt.plot(smooth_curve(dense.history['loss']))\n",
        "plt.plot(smooth_curve(dense.history['val_loss']))\n",
        "plt.title('Loss Moving average')\n",
        "plt.ylabel('loss')\n",
        "plt.xlabel('epochs')\n",
        "plt.legend(['train', 'val'], loc='upper left')\n",
        "plt.show()"
      ],
      "execution_count": null,
      "outputs": [
        {
          "output_type": "display_data",
          "data": {
            "image/png": "[encoded data removed]",
            "text/plain": [
              "<Figure size 432x288 with 1 Axes>"
            ]
          },
          "metadata": {
            "tags": [],
            "needs_background": "light"
          }
        },
        {
          "output_type": "display_data",
          "data": {
            "image/png": "[encoded data removed]",
            "text/plain": [
              "<Figure size 432x288 with 1 Axes>"
            ]
          },
          "metadata": {
            "tags": [],
            "needs_background": "light"
          }
        }
      ]
    },
    {
      "cell_type": "code",
      "metadata": {
        "id": "DWGuE6NuVoNZ",
        "colab_type": "code",
        "colab": {}
      },
      "source": [
        ""
      ],
      "execution_count": null,
      "outputs": []
    }
  ]
}