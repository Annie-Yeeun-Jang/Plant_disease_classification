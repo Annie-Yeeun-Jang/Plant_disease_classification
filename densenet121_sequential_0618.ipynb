{
  "nbformat": 4,
  "nbformat_minor": 0,
  "metadata": {
    "colab": {
      "name": "densenet121_sequential_0618.ipynb",
      "provenance": [],
      "collapsed_sections": [],
      "machine_shape": "hm",
      "authorship_tag": "ABX9TyMgahr1pYITz5UW/mfwc9iQ",
      "include_colab_link": true
    },
    "kernelspec": {
      "name": "python3",
      "display_name": "Python 3"
    },
    "accelerator": "GPU"
  },
  "cells": [
    {
      "cell_type": "markdown",
      "metadata": {
        "id": "view-in-github",
        "colab_type": "text"
      },
      "source": [
        "<a href=\"https://colab.research.google.com/github/Annie-Yeeun-Jang/Plant_disease_classification/blob/master/densenet121_sequential_0618.ipynb\" target=\"_parent\"><img src=\"https://colab.research.google.com/assets/colab-badge.svg\" alt=\"Open In Colab\"/></a>"
      ]
    },
    {
      "cell_type": "markdown",
      "metadata": {
        "id": "y62eWWoYD8tB",
        "colab_type": "text"
      },
      "source": [
        "### Import neccessary packages"
      ]
    },
    {
      "cell_type": "code",
      "metadata": {
        "id": "duHV8wYXDww_",
        "colab_type": "code",
        "colab": {}
      },
      "source": [
        "import numpy as np\n",
        "import pandas as pd\n",
        "import matplotlib.pyplot as plt\n",
        "%matplotlib inline\n",
        "import seaborn as sns\n",
        "import cv2\n",
        "from tqdm import tqdm\n",
        "from sklearn.metrics import confusion_matrix\n",
        "from sklearn.model_selection import train_test_split\n",
        "from keras.utils.np_utils import to_categorical\n",
        "from keras.models import Model,Sequential, Input, load_model\n",
        "from keras.layers import Dense, Dropout, Flatten, Conv2D, MaxPooling2D, BatchNormalization, AveragePooling2D, GlobalAveragePooling2D, Activation, Dropout, Dense\n",
        "from keras.optimizers import Adam\n",
        "from tensorflow.keras import optimizers\n",
        "from keras.preprocessing.image import ImageDataGenerator\n",
        "from tensorflow.keras.callbacks import ModelCheckpoint, ReduceLROnPlateau, EarlyStopping"
      ],
      "execution_count": 17,
      "outputs": []
    },
    {
      "cell_type": "markdown",
      "metadata": {
        "id": "5huOBsWIEFVy",
        "colab_type": "text"
      },
      "source": [
        "### 경로 지정&이미지 노이즈"
      ]
    },
    {
      "cell_type": "code",
      "metadata": {
        "id": "KE94KYyFEEYZ",
        "colab_type": "code",
        "colab": {
          "base_uri": "https://localhost:8080/",
          "height": 34
        },
        "outputId": "51ba5a94-3e48-4892-df50-f73810d808c4"
      },
      "source": [
        "from google.colab import drive\n",
        "drive.mount('/content/gdrive')\n",
        "dst_path = '/content/gdrive/My Drive/dataset_split'"
      ],
      "execution_count": 18,
      "outputs": [
        {
          "output_type": "stream",
          "text": [
            "Drive already mounted at /content/gdrive; to attempt to forcibly remount, call drive.mount(\"/content/gdrive\", force_remount=True).\n"
          ],
          "name": "stdout"
        }
      ]
    },
    {
      "cell_type": "code",
      "metadata": {
        "id": "1cAVUreME6X6",
        "colab_type": "code",
        "colab": {}
      },
      "source": [
        "import os\n",
        "train_dir = os.path.join(dst_path, 'train')\n",
        "validation_dir = os.path.join(dst_path, 'validation')\n",
        "test_dir = os.path.join(dst_path, 'test')"
      ],
      "execution_count": 19,
      "outputs": []
    },
    {
      "cell_type": "code",
      "metadata": {
        "id": "bDKdT6dxFDl0",
        "colab_type": "code",
        "colab": {
          "base_uri": "https://localhost:8080/",
          "height": 51
        },
        "outputId": "cce2af8a-74e0-4dc0-a447-bb6f95fdac0d"
      },
      "source": [
        "from tensorflow.keras.preprocessing.image import ImageDataGenerator\n",
        "\n",
        "train_datagen = ImageDataGenerator(rescale = 1./255,\n",
        "                                   horizontal_flip=True,\n",
        "                                   vertical_flip=True,\n",
        "                                   zoom_range=0.2)\n",
        "test_datagen = ImageDataGenerator(rescale=1./255)\n",
        "\n",
        "train_generator = train_datagen.flow_from_directory(train_dir,\n",
        "                                                    target_size=(64,64),\n",
        "                                                    batch_size=64,\n",
        "                                                    class_mode='categorical')\n",
        "\n",
        "validation_generator = test_datagen.flow_from_directory(validation_dir,\n",
        "                                                        target_size=(64,64),\n",
        "                                                        batch_size=64,\n",
        "                                                        class_mode='categorical')"
      ],
      "execution_count": 20,
      "outputs": [
        {
          "output_type": "stream",
          "text": [
            "Found 36179 images belonging to 33 classes.\n",
            "Found 7989 images belonging to 33 classes.\n"
          ],
          "name": "stdout"
        }
      ]
    },
    {
      "cell_type": "markdown",
      "metadata": {
        "id": "ThW6kUa2Fqkw",
        "colab_type": "text"
      },
      "source": [
        "# 모델 불러오기"
      ]
    },
    {
      "cell_type": "code",
      "metadata": {
        "id": "WTjXTGiWO4vq",
        "colab_type": "code",
        "colab": {}
      },
      "source": [
        "from tensorflow.keras.applications import DenseNet121\n",
        "\n",
        "conv_base = DenseNet121(weights='imagenet', include_top=False, input_shape=(64,64,3))\n",
        "conv_base.trainable = False"
      ],
      "execution_count": 21,
      "outputs": []
    },
    {
      "cell_type": "code",
      "metadata": {
        "id": "2chJ4MhhFr_q",
        "colab_type": "code",
        "colab": {}
      },
      "source": [
        "from tensorflow.keras import models\n",
        "from tensorflow.keras import layers\n",
        "\n",
        "model = models.Sequential()\n",
        "model.add(conv_base)\n",
        "\n",
        "model.add(layers.Conv2D(64, 3, activation = 'relu',padding=\"same\")) \n",
        "model.add(layers.MaxPooling2D((2, 2))) \n",
        "model.add(layers.Dropout(0.5))\n",
        "model.add(layers.BatchNormalization())\n",
        "\n",
        "model.add(layers.Conv2D(128, 3, activation = 'relu',padding=\"same\")) \n",
        "#model.add(layers.MaxPooling2D((2, 2))) \n",
        "model.add(layers.Dropout(0.5))\n",
        "model.add(layers.BatchNormalization())\n",
        "\n",
        "model.add(layers.Flatten())\n",
        "model.add(layers.Dense(256, activation='relu'))\n",
        "model.add(layers.Dense(33, activation='softmax'))\n",
        "\n",
        "conv_base.trainable = False"
      ],
      "execution_count": 22,
      "outputs": []
    },
    {
      "cell_type": "code",
      "metadata": {
        "id": "2mnHau6RH7IF",
        "colab_type": "code",
        "colab": {
          "base_uri": "https://localhost:8080/",
          "height": 527
        },
        "outputId": "cfefcc1e-a4ea-4176-b3e2-18639d0ba40b"
      },
      "source": [
        "model.summary()"
      ],
      "execution_count": 23,
      "outputs": [
        {
          "output_type": "stream",
          "text": [
            "Model: \"sequential_4\"\n",
            "_________________________________________________________________\n",
            "Layer (type)                 Output Shape              Param #   \n",
            "=================================================================\n",
            "densenet121 (Model)          (None, 2, 2, 1024)        7037504   \n",
            "_________________________________________________________________\n",
            "conv2d_4 (Conv2D)            (None, 2, 2, 64)          589888    \n",
            "_________________________________________________________________\n",
            "max_pooling2d_2 (MaxPooling2 (None, 1, 1, 64)          0         \n",
            "_________________________________________________________________\n",
            "dropout_4 (Dropout)          (None, 1, 1, 64)          0         \n",
            "_________________________________________________________________\n",
            "batch_normalization_4 (Batch (None, 1, 1, 64)          256       \n",
            "_________________________________________________________________\n",
            "conv2d_5 (Conv2D)            (None, 1, 1, 128)         73856     \n",
            "_________________________________________________________________\n",
            "dropout_5 (Dropout)          (None, 1, 1, 128)         0         \n",
            "_________________________________________________________________\n",
            "batch_normalization_5 (Batch (None, 1, 1, 128)         512       \n",
            "_________________________________________________________________\n",
            "flatten_3 (Flatten)          (None, 128)               0         \n",
            "_________________________________________________________________\n",
            "dense_6 (Dense)              (None, 256)               33024     \n",
            "_________________________________________________________________\n",
            "dense_7 (Dense)              (None, 33)                8481      \n",
            "=================================================================\n",
            "Total params: 7,743,521\n",
            "Trainable params: 705,633\n",
            "Non-trainable params: 7,037,888\n",
            "_________________________________________________________________\n"
          ],
          "name": "stdout"
        }
      ]
    },
    {
      "cell_type": "markdown",
      "metadata": {
        "id": "coXjAkPJH-1D",
        "colab_type": "text"
      },
      "source": [
        "## 실행"
      ]
    },
    {
      "cell_type": "code",
      "metadata": {
        "id": "PtNEU5y2IDeA",
        "colab_type": "code",
        "colab": {
          "base_uri": "https://localhost:8080/",
          "height": 1000
        },
        "outputId": "abf3538c-8575-4f67-ed61-65bca59acafd"
      },
      "source": [
        "model.compile(loss='categorical_crossentropy',\n",
        "              optimizer=optimizers.RMSprop(lr=1e-4),\n",
        "              metrics=['acc'])\n",
        "\n",
        "my_callbacks=[EarlyStopping(patience=10),\n",
        "              ModelCheckpoint('model_dense.h5',save_best_only=True),\n",
        "              ReduceLROnPlateau(monitor='val_acc', factor=0.5, patience=5, verbose=1, min_lr=1e-3)]\n",
        "\n",
        "Densenet = model.fit_generator(train_generator,\n",
        "                              steps_per_epoch=556,\n",
        "                              epochs=50,\n",
        "                              validation_data=validation_generator,\n",
        "                              callbacks=my_callbacks)"
      ],
      "execution_count": 25,
      "outputs": [
        {
          "output_type": "stream",
          "text": [
            "Epoch 1/50\n",
            "556/556 [==============================] - 121s 217ms/step - loss: 1.3954 - acc: 0.5837 - val_loss: 1.1154 - val_acc: 0.6404 - lr: 1.0000e-04\n",
            "Epoch 2/50\n",
            "556/556 [==============================] - 120s 217ms/step - loss: 1.3288 - acc: 0.5988 - val_loss: 1.0257 - val_acc: 0.6694 - lr: 1.0000e-04\n",
            "Epoch 3/50\n",
            "556/556 [==============================] - 118s 213ms/step - loss: 1.2720 - acc: 0.6151 - val_loss: 1.0089 - val_acc: 0.6667 - lr: 1.0000e-04\n",
            "Epoch 4/50\n",
            "556/556 [==============================] - 119s 214ms/step - loss: 1.2219 - acc: 0.6314 - val_loss: 0.9100 - val_acc: 0.7062 - lr: 1.0000e-04\n",
            "Epoch 5/50\n",
            "556/556 [==============================] - 120s 216ms/step - loss: 1.1856 - acc: 0.6458 - val_loss: 0.8715 - val_acc: 0.7212 - lr: 1.0000e-04\n",
            "Epoch 6/50\n",
            "556/556 [==============================] - 119s 214ms/step - loss: 1.1673 - acc: 0.6482 - val_loss: 0.8363 - val_acc: 0.7295 - lr: 1.0000e-04\n",
            "Epoch 7/50\n",
            "556/556 [==============================] - 119s 215ms/step - loss: 1.1310 - acc: 0.6590 - val_loss: 0.8364 - val_acc: 0.7264 - lr: 1.0000e-04\n",
            "Epoch 8/50\n",
            "556/556 [==============================] - 122s 219ms/step - loss: 1.0943 - acc: 0.6686 - val_loss: 0.8319 - val_acc: 0.7288 - lr: 1.0000e-04\n",
            "Epoch 9/50\n",
            "556/556 [==============================] - 120s 215ms/step - loss: 1.1004 - acc: 0.6685 - val_loss: 0.8351 - val_acc: 0.7320 - lr: 1.0000e-04\n",
            "Epoch 10/50\n",
            "556/556 [==============================] - 121s 218ms/step - loss: 1.0758 - acc: 0.6750 - val_loss: 0.7985 - val_acc: 0.7364 - lr: 1.0000e-04\n",
            "Epoch 11/50\n",
            "556/556 [==============================] - 120s 216ms/step - loss: 1.0591 - acc: 0.6829 - val_loss: 0.7810 - val_acc: 0.7462 - lr: 1.0000e-04\n",
            "Epoch 12/50\n",
            "556/556 [==============================] - 120s 215ms/step - loss: 1.0399 - acc: 0.6876 - val_loss: 0.7290 - val_acc: 0.7702 - lr: 1.0000e-04\n",
            "Epoch 13/50\n",
            "556/556 [==============================] - 121s 217ms/step - loss: 1.0179 - acc: 0.6920 - val_loss: 0.7389 - val_acc: 0.7656 - lr: 1.0000e-04\n",
            "Epoch 14/50\n",
            "556/556 [==============================] - 119s 215ms/step - loss: 1.0124 - acc: 0.6941 - val_loss: 0.7530 - val_acc: 0.7671 - lr: 1.0000e-04\n",
            "Epoch 15/50\n",
            "556/556 [==============================] - 121s 217ms/step - loss: 1.0035 - acc: 0.6990 - val_loss: 0.6929 - val_acc: 0.7817 - lr: 1.0000e-04\n",
            "Epoch 16/50\n",
            "556/556 [==============================] - 119s 214ms/step - loss: 0.9963 - acc: 0.7004 - val_loss: 0.7132 - val_acc: 0.7754 - lr: 1.0000e-04\n",
            "Epoch 17/50\n",
            "556/556 [==============================] - 119s 213ms/step - loss: 0.9816 - acc: 0.7029 - val_loss: 0.6961 - val_acc: 0.7799 - lr: 1.0000e-04\n",
            "Epoch 18/50\n",
            "556/556 [==============================] - 120s 217ms/step - loss: 0.9766 - acc: 0.7064 - val_loss: 0.7014 - val_acc: 0.7721 - lr: 1.0000e-04\n",
            "Epoch 19/50\n",
            "556/556 [==============================] - 119s 214ms/step - loss: 0.9742 - acc: 0.7063 - val_loss: 0.6767 - val_acc: 0.7853 - lr: 1.0000e-04\n",
            "Epoch 20/50\n",
            "556/556 [==============================] - 119s 215ms/step - loss: 0.9494 - acc: 0.7116 - val_loss: 0.6860 - val_acc: 0.7872 - lr: 1.0000e-04\n",
            "Epoch 21/50\n",
            "556/556 [==============================] - 120s 215ms/step - loss: 0.9402 - acc: 0.7151 - val_loss: 0.6582 - val_acc: 0.7901 - lr: 1.0000e-04\n",
            "Epoch 22/50\n",
            "556/556 [==============================] - 119s 215ms/step - loss: 0.9422 - acc: 0.7173 - val_loss: 0.6525 - val_acc: 0.7926 - lr: 1.0000e-04\n",
            "Epoch 23/50\n",
            "556/556 [==============================] - 119s 215ms/step - loss: 0.9411 - acc: 0.7173 - val_loss: 0.6532 - val_acc: 0.7916 - lr: 1.0000e-04\n",
            "Epoch 24/50\n",
            "556/556 [==============================] - 119s 214ms/step - loss: 0.9242 - acc: 0.7206 - val_loss: 0.6533 - val_acc: 0.7946 - lr: 1.0000e-04\n",
            "Epoch 25/50\n",
            "556/556 [==============================] - 119s 214ms/step - loss: 0.9233 - acc: 0.7206 - val_loss: 0.6451 - val_acc: 0.7941 - lr: 1.0000e-04\n",
            "Epoch 26/50\n",
            "556/556 [==============================] - 120s 216ms/step - loss: 0.9023 - acc: 0.7278 - val_loss: 0.6378 - val_acc: 0.7977 - lr: 1.0000e-04\n",
            "Epoch 27/50\n",
            "556/556 [==============================] - 119s 214ms/step - loss: 0.9118 - acc: 0.7253 - val_loss: 0.6369 - val_acc: 0.7971 - lr: 1.0000e-04\n",
            "Epoch 28/50\n",
            "556/556 [==============================] - 119s 215ms/step - loss: 0.9043 - acc: 0.7272 - val_loss: 0.6692 - val_acc: 0.7861 - lr: 1.0000e-04\n",
            "Epoch 29/50\n",
            "556/556 [==============================] - 119s 214ms/step - loss: 0.9154 - acc: 0.7260 - val_loss: 0.6315 - val_acc: 0.7963 - lr: 1.0000e-04\n",
            "Epoch 30/50\n",
            "556/556 [==============================] - 121s 218ms/step - loss: 0.8992 - acc: 0.7316 - val_loss: 0.6380 - val_acc: 0.7988 - lr: 1.0000e-04\n",
            "Epoch 31/50\n",
            "556/556 [==============================] - 120s 216ms/step - loss: 0.9007 - acc: 0.7305 - val_loss: 0.6358 - val_acc: 0.7981 - lr: 1.0000e-04\n",
            "Epoch 32/50\n",
            "556/556 [==============================] - 119s 215ms/step - loss: 0.8998 - acc: 0.7307 - val_loss: 0.6447 - val_acc: 0.7963 - lr: 1.0000e-04\n",
            "Epoch 33/50\n",
            "556/556 [==============================] - 120s 216ms/step - loss: 0.8854 - acc: 0.7340 - val_loss: 0.6272 - val_acc: 0.7996 - lr: 1.0000e-04\n",
            "Epoch 34/50\n",
            "556/556 [==============================] - 119s 214ms/step - loss: 0.8787 - acc: 0.7348 - val_loss: 0.6174 - val_acc: 0.8080 - lr: 1.0000e-04\n",
            "Epoch 35/50\n",
            "556/556 [==============================] - 118s 213ms/step - loss: 0.8743 - acc: 0.7367 - val_loss: 0.6160 - val_acc: 0.8056 - lr: 1.0000e-04\n",
            "Epoch 36/50\n",
            "556/556 [==============================] - 119s 215ms/step - loss: 0.8784 - acc: 0.7356 - val_loss: 0.6224 - val_acc: 0.8030 - lr: 1.0000e-04\n",
            "Epoch 37/50\n",
            "556/556 [==============================] - 119s 214ms/step - loss: 0.8842 - acc: 0.7372 - val_loss: 0.6292 - val_acc: 0.8006 - lr: 1.0000e-04\n",
            "Epoch 38/50\n",
            "556/556 [==============================] - 119s 213ms/step - loss: 0.8732 - acc: 0.7383 - val_loss: 0.6140 - val_acc: 0.8075 - lr: 1.0000e-04\n",
            "Epoch 39/50\n",
            "556/556 [==============================] - 121s 218ms/step - loss: 0.8672 - acc: 0.7398 - val_loss: 0.6036 - val_acc: 0.8091 - lr: 1.0000e-04\n",
            "Epoch 40/50\n",
            "556/556 [==============================] - 119s 214ms/step - loss: 0.8640 - acc: 0.7395 - val_loss: 0.5894 - val_acc: 0.8181 - lr: 1.0000e-04\n",
            "Epoch 41/50\n",
            "556/556 [==============================] - 120s 217ms/step - loss: 0.8642 - acc: 0.7415 - val_loss: 0.6055 - val_acc: 0.8104 - lr: 1.0000e-04\n",
            "Epoch 42/50\n",
            "556/556 [==============================] - 119s 214ms/step - loss: 0.8549 - acc: 0.7449 - val_loss: 0.5989 - val_acc: 0.8076 - lr: 1.0000e-04\n",
            "Epoch 43/50\n",
            "556/556 [==============================] - 119s 215ms/step - loss: 0.8647 - acc: 0.7416 - val_loss: 0.5883 - val_acc: 0.8102 - lr: 1.0000e-04\n",
            "Epoch 44/50\n",
            "556/556 [==============================] - 120s 216ms/step - loss: 0.8584 - acc: 0.7414 - val_loss: 0.5998 - val_acc: 0.8114 - lr: 1.0000e-04\n",
            "Epoch 45/50\n",
            "556/556 [==============================] - 119s 214ms/step - loss: 0.8468 - acc: 0.7452 - val_loss: 0.5892 - val_acc: 0.8144 - lr: 1.0000e-04\n",
            "Epoch 46/50\n",
            "556/556 [==============================] - 120s 216ms/step - loss: 0.8423 - acc: 0.7454 - val_loss: 0.5918 - val_acc: 0.8137 - lr: 1.0000e-04\n",
            "Epoch 47/50\n",
            "556/556 [==============================] - 119s 215ms/step - loss: 0.8390 - acc: 0.7473 - val_loss: 0.5825 - val_acc: 0.8172 - lr: 1.0000e-04\n",
            "Epoch 48/50\n",
            "556/556 [==============================] - 119s 213ms/step - loss: 0.8451 - acc: 0.7467 - val_loss: 0.5699 - val_acc: 0.8208 - lr: 1.0000e-04\n",
            "Epoch 49/50\n",
            "556/556 [==============================] - 120s 217ms/step - loss: 0.8403 - acc: 0.7495 - val_loss: 0.5604 - val_acc: 0.8253 - lr: 1.0000e-04\n",
            "Epoch 50/50\n",
            "556/556 [==============================] - 121s 217ms/step - loss: 0.8471 - acc: 0.7483 - val_loss: 0.5616 - val_acc: 0.8229 - lr: 1.0000e-04\n"
          ],
          "name": "stdout"
        }
      ]
    },
    {
      "cell_type": "code",
      "metadata": {
        "id": "FHJ4720z9BpO",
        "colab_type": "code",
        "colab": {}
      },
      "source": [
        "model.save('/content/gdrive/My Drive/model_save/densenet/desnet121_sequential_50epoch_0618.h5')"
      ],
      "execution_count": 26,
      "outputs": []
    },
    {
      "cell_type": "code",
      "metadata": {
        "id": "FQteLv5JVGC5",
        "colab_type": "code",
        "colab": {
          "base_uri": "https://localhost:8080/",
          "height": 573
        },
        "outputId": "57794256-b687-4c01-fff6-64c01f60112d"
      },
      "source": [
        "# accuracy plot \n",
        "plt.plot(Densenet.history['acc'])\n",
        "plt.plot(Densenet.history['val_acc'])\n",
        "plt.title('model accuracy')\n",
        "plt.ylabel('accuracy')\n",
        "plt.xlabel('epoch')\n",
        "plt.legend(['train', 'test'], loc='upper left')\n",
        "plt.show()\n",
        "\n",
        "# loss plot\n",
        "plt.plot(Densenet.history['loss'])\n",
        "plt.plot(Densenet.history['val_loss'])\n",
        "plt.title('model loss')\n",
        "plt.ylabel('loss')\n",
        "plt.xlabel('epoch')\n",
        "plt.legend(['train', 'test'], loc='upper left')\n",
        "plt.show()"
      ],
      "execution_count": 29,
      "outputs": [
        {
          "output_type": "display_data",
          "data": {
            "image/png": "[encoded data removed]",
            "text/plain": [
              "<Figure size 432x288 with 1 Axes>"
            ]
          },
          "metadata": {
            "tags": [],
            "needs_background": "light"
          }
        },
        {
          "output_type": "display_data",
          "data": {
            "image/png": "[encoded data removed]",
            "text/plain": [
              "<Figure size 432x288 with 1 Axes>"
            ]
          },
          "metadata": {
            "tags": [],
            "needs_background": "light"
          }
        }
      ]
    }
  ]
}