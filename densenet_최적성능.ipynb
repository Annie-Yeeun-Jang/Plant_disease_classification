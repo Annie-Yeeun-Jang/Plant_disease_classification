{
  "nbformat": 4,
  "nbformat_minor": 0,
  "metadata": {
    "colab": {
      "name": "densenet_최적.ipynb",
      "provenance": [],
      "collapsed_sections": [],
      "machine_shape": "hm",
      "authorship_tag": "ABX9TyO5xmPIL84lFvktZOZgifAi",
      "include_colab_link": true
    },
    "kernelspec": {
      "name": "python3",
      "display_name": "Python 3"
    },
    "accelerator": "GPU"
  },
  "cells": [
    {
      "cell_type": "markdown",
      "metadata": {
        "id": "view-in-github",
        "colab_type": "text"
      },
      "source": [
        "<a href=\"https://colab.research.google.com/github/Annie-Yeeun-Jang/Plant_disease_classification/blob/master/densenet_%EC%B5%9C%EC%A0%81%EC%84%B1%EB%8A%A5.ipynb\" target=\"_parent\"><img src=\"https://colab.research.google.com/assets/colab-badge.svg\" alt=\"Open In Colab\"/></a>"
      ]
    },
    {
      "cell_type": "markdown",
      "metadata": {
        "id": "GB4n6WI6Gv9S",
        "colab_type": "text"
      },
      "source": [
        "### Import necessary packages"
      ]
    },
    {
      "cell_type": "code",
      "metadata": {
        "_cell_guid": "79c7e3d0-c299-4dcb-8224-4455121ee9b0",
        "_uuid": "d629ff2d2480ee46fbb7e2d37f6b5fab8052498a",
        "id": "IrFxmHGmQG4A",
        "colab_type": "code",
        "colab": {}
      },
      "source": [
        "import numpy as np\n",
        "import pandas as pd\n",
        "import matplotlib.pyplot as plt\n",
        "%matplotlib inline\n",
        "import seaborn as sns\n",
        "import cv2\n",
        "from tqdm import tqdm\n",
        "from sklearn.metrics import confusion_matrix\n",
        "from sklearn.model_selection import train_test_split\n",
        "from keras.utils.np_utils import to_categorical\n",
        "from keras.models import Model,Sequential, Input, load_model\n",
        "from keras.layers import Dense, Dropout, Flatten, Conv2D, MaxPooling2D, BatchNormalization, AveragePooling2D, GlobalAveragePooling2D, Activation, Dropout, Dense\n",
        "from keras.optimizers import Adam\n",
        "from keras import optimizers\n",
        "from keras.preprocessing.image import ImageDataGenerator\n",
        "from keras.callbacks import EarlyStopping, ModelCheckpoint, ReduceLROnPlateau\n",
        "from keras.applications import DenseNet121"
      ],
      "execution_count": 50,
      "outputs": []
    },
    {
      "cell_type": "code",
      "metadata": {
        "id": "fdgYSc4H0MFc",
        "colab_type": "code",
        "colab": {
          "base_uri": "https://localhost:8080/",
          "height": 34
        },
        "outputId": "99de34bb-921f-4c5b-cfd8-e9ca17e76ed3"
      },
      "source": [
        "from google.colab import drive\n",
        "drive.mount('/content/gdrive')\n",
        "dst_path = '/content/gdrive/My Drive/dataset_split_aug'\n",
        "# 경로 지정\n",
        "import os\n",
        "os.chdir('/content/gdrive/My Drive/dataset_split_aug')"
      ],
      "execution_count": 51,
      "outputs": [
        {
          "output_type": "stream",
          "text": [
            "Drive already mounted at /content/gdrive; to attempt to forcibly remount, call drive.mount(\"/content/gdrive\", force_remount=True).\n"
          ],
          "name": "stdout"
        }
      ]
    },
    {
      "cell_type": "markdown",
      "metadata": {
        "id": "IVZAYjnZHFsu",
        "colab_type": "text"
      },
      "source": [
        "### 이미지 노이즈"
      ]
    },
    {
      "cell_type": "code",
      "metadata": {
        "id": "qq_M53ua2jPA",
        "colab_type": "code",
        "colab": {
          "base_uri": "https://localhost:8080/",
          "height": 51
        },
        "outputId": "b6028a12-9cc5-4b03-881d-04f46722e0c3"
      },
      "source": [
        "from tensorflow.keras.preprocessing.image import ImageDataGenerator\n",
        "\n",
        "train_dir = os.path.join(dst_path, 'train')\n",
        "validation_dir = os.path.join(dst_path, 'validation')\n",
        "test_dir = os.path.join(dst_path, 'test')\n",
        "\n",
        "train_datagen = ImageDataGenerator(rescale = 1./255,\n",
        "                                   horizontal_flip=True,\n",
        "                                   vertical_flip=True,\n",
        "                                   zoom_range=0.2)\n",
        "test_datagen = ImageDataGenerator(rescale=1./255)\n",
        "\n",
        "train_generator = train_datagen.flow_from_directory(train_dir,\n",
        "                                                    target_size=(64,64),\n",
        "                                                    batch_size=64,\n",
        "                                                    class_mode='categorical')\n",
        "\n",
        "validation_generator = test_datagen.flow_from_directory(validation_dir,\n",
        "                                                        target_size=(64,64),\n",
        "                                                        batch_size=64,\n",
        "                                                        class_mode='categorical')"
      ],
      "execution_count": 52,
      "outputs": [
        {
          "output_type": "stream",
          "text": [
            "Found 30748 images belonging to 33 classes.\n",
            "Found 7989 images belonging to 33 classes.\n"
          ],
          "name": "stdout"
        }
      ]
    },
    {
      "cell_type": "markdown",
      "metadata": {
        "id": "jrmwaMc7HJTa",
        "colab_type": "text"
      },
      "source": [
        "### DenseNet 모델 구성"
      ]
    },
    {
      "cell_type": "code",
      "metadata": {
        "id": "7fk2fGPe8p-m",
        "colab_type": "code",
        "colab": {}
      },
      "source": [
        "SIZE=64\n",
        "N_ch=3"
      ],
      "execution_count": 53,
      "outputs": []
    },
    {
      "cell_type": "code",
      "metadata": {
        "id": "XoxaNg0G7V5P",
        "colab_type": "code",
        "colab": {}
      },
      "source": [
        "def build_densenet():\n",
        "    densenet = DenseNet121(weights='imagenet', include_top=False)\n",
        "\n",
        "    input = Input(shape=(SIZE, SIZE, N_ch))\n",
        "    x = Conv2D(3, (3, 3), padding='same')(input)\n",
        "    \n",
        "    x = densenet(x)\n",
        "    \n",
        "    x = GlobalAveragePooling2D()(x)\n",
        "    x = BatchNormalization()(x)\n",
        "    x = Dropout(0.5)(x)\n",
        "    x = Dense(256, activation='relu')(x)\n",
        "    x = BatchNormalization()(x)\n",
        "    x = Dropout(0.5)(x)\n",
        "\n",
        "    # multi output\n",
        "    output = Dense(33,activation = 'softmax', name='root')(x)\n",
        " \n",
        "\n",
        "    # model\n",
        "    model = Model(input,output)\n",
        "    \n",
        "    optimizer = Adam(lr=0.001, beta_1=0.9, beta_2=0.999, epsilon=0.1, decay=0.0)\n",
        "    model.compile(loss='categorical_crossentropy', optimizer=optimizer, metrics=['accuracy'])\n",
        "    #model.summary()\n",
        "    return model"
      ],
      "execution_count": 60,
      "outputs": []
    },
    {
      "cell_type": "markdown",
      "metadata": {
        "id": "KC1fz65eHRq7",
        "colab_type": "text"
      },
      "source": [
        "### 모델 실행"
      ]
    },
    {
      "cell_type": "code",
      "metadata": {
        "id": "pievgw5c7vwk",
        "colab_type": "code",
        "colab": {}
      },
      "source": [
        "annealer = ReduceLROnPlateau(monitor='val_accuracy', factor=0.5, patience=10, verbose=1, min_lr=1e-3)\n",
        "\n",
        "MODEL_SAVE_FOLDER_PATH='/content/gdrive/My Drive/model_save/dense3/'\n",
        "model_path = MODEL_SAVE_FOLDER_PATH + '{epoch:02d}-{val_loss:.4f}.hdf5'\n",
        "\n",
        "checkpoint= ModelCheckpoint(filepath=model_path,monitor='val_accuracy',verbose=1, save_best_only=True)\n",
        "earlystop=EarlyStopping(patience=10)\n",
        "\n",
        "my_callbacks = [earlystop,checkpoint,annealer]"
      ],
      "execution_count": 67,
      "outputs": []
    },
    {
      "cell_type": "code",
      "metadata": {
        "id": "KB6lWgImxCLO",
        "colab_type": "code",
        "colab": {
          "base_uri": "https://localhost:8080/",
          "height": 1000
        },
        "outputId": "0f0e8d8b-0977-4f53-bf17-f31a17a3fe60"
      },
      "source": [
        "model = build_densenet()\n",
        "dense = model.fit_generator(train_generator,\n",
        "                               steps_per_epoch=400,\n",
        "                               epochs=50,\n",
        "                               validation_data=validation_generator,\n",
        "                               validation_steps=100,\n",
        "                               callbacks=my_callbacks)"
      ],
      "execution_count": 68,
      "outputs": [
        {
          "output_type": "stream",
          "text": [
            "Epoch 1/50\n",
            "400/400 [==============================] - 141s 352ms/step - loss: 3.2143 - accuracy: 0.2423 - val_loss: 1.7347 - val_accuracy: 0.4989\n",
            "\n",
            "Epoch 00001: val_accuracy improved from -inf to 0.49891, saving model to /content/gdrive/My Drive/model_save/dense3/01-1.7347.hdf5\n",
            "Epoch 2/50\n",
            "400/400 [==============================] - 101s 252ms/step - loss: 1.3600 - accuracy: 0.6079 - val_loss: 0.4525 - val_accuracy: 0.7893\n",
            "\n",
            "Epoch 00002: val_accuracy improved from 0.49891 to 0.78933, saving model to /content/gdrive/My Drive/model_save/dense3/02-0.4525.hdf5\n",
            "Epoch 3/50\n",
            "400/400 [==============================] - 101s 253ms/step - loss: 0.8130 - accuracy: 0.7542 - val_loss: 0.6656 - val_accuracy: 0.7236\n",
            "\n",
            "Epoch 00003: val_accuracy did not improve from 0.78933\n",
            "Epoch 4/50\n",
            "400/400 [==============================] - 101s 253ms/step - loss: 0.5630 - accuracy: 0.8299 - val_loss: 0.5621 - val_accuracy: 0.8300\n",
            "\n",
            "Epoch 00004: val_accuracy improved from 0.78933 to 0.83002, saving model to /content/gdrive/My Drive/model_save/dense3/04-0.5621.hdf5\n",
            "Epoch 5/50\n",
            "400/400 [==============================] - 101s 254ms/step - loss: 0.4388 - accuracy: 0.8652 - val_loss: 0.7154 - val_accuracy: 0.8112\n",
            "\n",
            "Epoch 00005: val_accuracy did not improve from 0.83002\n",
            "Epoch 6/50\n",
            "400/400 [==============================] - 101s 252ms/step - loss: 0.3483 - accuracy: 0.8933 - val_loss: 0.4314 - val_accuracy: 0.9247\n",
            "\n",
            "Epoch 00006: val_accuracy improved from 0.83002 to 0.92469, saving model to /content/gdrive/My Drive/model_save/dense3/06-0.4314.hdf5\n",
            "Epoch 7/50\n",
            "400/400 [==============================] - 106s 265ms/step - loss: 0.2933 - accuracy: 0.9092 - val_loss: 0.5287 - val_accuracy: 0.9061\n",
            "\n",
            "Epoch 00007: val_accuracy did not improve from 0.92469\n",
            "Epoch 8/50\n",
            "400/400 [==============================] - 102s 254ms/step - loss: 0.2430 - accuracy: 0.9241 - val_loss: 0.3346 - val_accuracy: 0.9267\n",
            "\n",
            "Epoch 00008: val_accuracy improved from 0.92469 to 0.92675, saving model to /content/gdrive/My Drive/model_save/dense3/08-0.3346.hdf5\n",
            "Epoch 9/50\n",
            "400/400 [==============================] - 102s 255ms/step - loss: 0.2115 - accuracy: 0.9359 - val_loss: 0.4168 - val_accuracy: 0.8835\n",
            "\n",
            "Epoch 00009: val_accuracy did not improve from 0.92675\n",
            "Epoch 10/50\n",
            "400/400 [==============================] - 105s 264ms/step - loss: 0.1928 - accuracy: 0.9416 - val_loss: 0.2670 - val_accuracy: 0.8929\n",
            "\n",
            "Epoch 00010: val_accuracy did not improve from 0.92675\n",
            "Epoch 11/50\n",
            "400/400 [==============================] - 103s 257ms/step - loss: 0.1654 - accuracy: 0.9510 - val_loss: 0.4061 - val_accuracy: 0.8998\n",
            "\n",
            "Epoch 00011: val_accuracy did not improve from 0.92675\n",
            "Epoch 12/50\n",
            "400/400 [==============================] - 102s 254ms/step - loss: 0.1518 - accuracy: 0.9527 - val_loss: 0.1607 - val_accuracy: 0.9562\n",
            "\n",
            "Epoch 00012: val_accuracy improved from 0.92675 to 0.95617, saving model to /content/gdrive/My Drive/model_save/dense3/12-0.1607.hdf5\n",
            "Epoch 13/50\n",
            "400/400 [==============================] - 105s 264ms/step - loss: 0.1337 - accuracy: 0.9601 - val_loss: 0.4528 - val_accuracy: 0.9020\n",
            "\n",
            "Epoch 00013: val_accuracy did not improve from 0.95617\n",
            "Epoch 14/50\n",
            "400/400 [==============================] - 101s 252ms/step - loss: 0.1244 - accuracy: 0.9613 - val_loss: 0.3231 - val_accuracy: 0.9343\n",
            "\n",
            "Epoch 00014: val_accuracy did not improve from 0.95617\n",
            "Epoch 15/50\n",
            "400/400 [==============================] - 100s 250ms/step - loss: 0.1131 - accuracy: 0.9660 - val_loss: 0.3076 - val_accuracy: 0.9546\n",
            "\n",
            "Epoch 00015: val_accuracy did not improve from 0.95617\n",
            "Epoch 16/50\n",
            "400/400 [==============================] - 101s 253ms/step - loss: 0.1019 - accuracy: 0.9689 - val_loss: 0.2802 - val_accuracy: 0.9103\n",
            "\n",
            "Epoch 00016: val_accuracy did not improve from 0.95617\n",
            "Epoch 17/50\n",
            "400/400 [==============================] - 100s 249ms/step - loss: 0.0975 - accuracy: 0.9699 - val_loss: 0.1093 - val_accuracy: 0.9516\n",
            "\n",
            "Epoch 00017: val_accuracy did not improve from 0.95617\n",
            "Epoch 18/50\n",
            "400/400 [==============================] - 103s 258ms/step - loss: 0.0937 - accuracy: 0.9718 - val_loss: 0.2780 - val_accuracy: 0.9465\n",
            "\n",
            "Epoch 00018: val_accuracy did not improve from 0.95617\n",
            "Epoch 19/50\n",
            "400/400 [==============================] - 104s 261ms/step - loss: 0.0801 - accuracy: 0.9751 - val_loss: 0.0519 - val_accuracy: 0.9314\n",
            "\n",
            "Epoch 00019: val_accuracy did not improve from 0.95617\n",
            "Epoch 20/50\n",
            "400/400 [==============================] - 102s 256ms/step - loss: 0.0805 - accuracy: 0.9756 - val_loss: 0.2832 - val_accuracy: 0.9426\n",
            "\n",
            "Epoch 00020: val_accuracy did not improve from 0.95617\n",
            "Epoch 21/50\n",
            "400/400 [==============================] - 102s 255ms/step - loss: 0.0749 - accuracy: 0.9767 - val_loss: 0.0901 - val_accuracy: 0.9634\n",
            "\n",
            "Epoch 00021: val_accuracy improved from 0.95617 to 0.96344, saving model to /content/gdrive/My Drive/model_save/dense3/21-0.0901.hdf5\n",
            "Epoch 22/50\n",
            "400/400 [==============================] - 103s 257ms/step - loss: 0.0698 - accuracy: 0.9781 - val_loss: 0.1029 - val_accuracy: 0.9648\n",
            "\n",
            "Epoch 00022: val_accuracy improved from 0.96344 to 0.96478, saving model to /content/gdrive/My Drive/model_save/dense3/22-0.1029.hdf5\n",
            "Epoch 23/50\n",
            "400/400 [==============================] - 101s 252ms/step - loss: 0.0647 - accuracy: 0.9793 - val_loss: 0.0024 - val_accuracy: 0.9687\n",
            "\n",
            "Epoch 00023: val_accuracy improved from 0.96478 to 0.96870, saving model to /content/gdrive/My Drive/model_save/dense3/23-0.0024.hdf5\n",
            "Epoch 24/50\n",
            "400/400 [==============================] - 102s 255ms/step - loss: 0.0602 - accuracy: 0.9815 - val_loss: 0.1320 - val_accuracy: 0.9451\n",
            "\n",
            "Epoch 00024: val_accuracy did not improve from 0.96870\n",
            "Epoch 25/50\n",
            "400/400 [==============================] - 103s 258ms/step - loss: 0.0570 - accuracy: 0.9826 - val_loss: 0.3192 - val_accuracy: 0.9526\n",
            "\n",
            "Epoch 00025: val_accuracy did not improve from 0.96870\n",
            "Epoch 26/50\n",
            "400/400 [==============================] - 100s 251ms/step - loss: 0.0549 - accuracy: 0.9828 - val_loss: 0.0211 - val_accuracy: 0.9591\n",
            "\n",
            "Epoch 00026: val_accuracy did not improve from 0.96870\n",
            "Epoch 27/50\n",
            "400/400 [==============================] - 99s 247ms/step - loss: 0.0521 - accuracy: 0.9843 - val_loss: 0.1511 - val_accuracy: 0.9325\n",
            "\n",
            "Epoch 00027: val_accuracy did not improve from 0.96870\n",
            "Epoch 28/50\n",
            "400/400 [==============================] - 101s 254ms/step - loss: 0.0547 - accuracy: 0.9839 - val_loss: 0.1609 - val_accuracy: 0.9297\n",
            "\n",
            "Epoch 00028: val_accuracy did not improve from 0.96870\n",
            "Epoch 29/50\n",
            "400/400 [==============================] - 101s 252ms/step - loss: 0.0473 - accuracy: 0.9864 - val_loss: 0.1316 - val_accuracy: 0.9117\n",
            "\n",
            "Epoch 00029: val_accuracy did not improve from 0.96870\n",
            "Epoch 30/50\n",
            "400/400 [==============================] - 102s 254ms/step - loss: 0.0437 - accuracy: 0.9872 - val_loss: 0.0714 - val_accuracy: 0.9660\n",
            "\n",
            "Epoch 00030: val_accuracy did not improve from 0.96870\n",
            "Epoch 31/50\n",
            "400/400 [==============================] - 103s 257ms/step - loss: 0.0406 - accuracy: 0.9876 - val_loss: 0.0129 - val_accuracy: 0.9700\n",
            "\n",
            "Epoch 00031: val_accuracy improved from 0.96870 to 0.97000, saving model to /content/gdrive/My Drive/model_save/dense3/31-0.0129.hdf5\n",
            "Epoch 32/50\n",
            "400/400 [==============================] - 102s 254ms/step - loss: 0.0391 - accuracy: 0.9877 - val_loss: 0.1715 - val_accuracy: 0.9693\n",
            "\n",
            "Epoch 00032: val_accuracy did not improve from 0.97000\n",
            "Epoch 33/50\n",
            "400/400 [==============================] - 101s 252ms/step - loss: 0.0405 - accuracy: 0.9882 - val_loss: 0.0301 - val_accuracy: 0.9676\n",
            "\n",
            "Epoch 00033: val_accuracy did not improve from 0.97000\n"
          ],
          "name": "stdout"
        }
      ]
    },
    {
      "cell_type": "code",
      "metadata": {
        "id": "FQteLv5JVGC5",
        "colab_type": "code",
        "colab": {
          "base_uri": "https://localhost:8080/",
          "height": 573
        },
        "outputId": "4ccd97ca-fe95-4a70-8b7f-66c3279ffc9e"
      },
      "source": [
        "# accuracy plot \n",
        "plt.plot(dense.history['accuracy'])\n",
        "plt.plot(dense.history['val_accuracy'])\n",
        "plt.title('model accuracy')\n",
        "plt.ylabel('accuracy')\n",
        "plt.xlabel('epoch')\n",
        "plt.legend(['train', 'val'], loc='upper left')\n",
        "plt.show()\n",
        "\n",
        "# loss plot\n",
        "plt.plot(dense.history['loss'])\n",
        "plt.plot(dense.history['val_loss'])\n",
        "plt.title('model loss')\n",
        "plt.ylabel('loss')\n",
        "plt.xlabel('epoch')\n",
        "plt.legend(['train', 'val'], loc='upper left')\n",
        "plt.show()"
      ],
      "execution_count": 74,
      "outputs": [
        {
          "output_type": "display_data",
          "data": {
            "image/png": "[encoded data removed]",
            "text/plain": [
              "<Figure size 432x288 with 1 Axes>"
            ]
          },
          "metadata": {
            "tags": [],
            "needs_background": "light"
          }
        },
        {
          "output_type": "display_data",
          "data": {
            "image/png": "[encoded data removed]",
            "text/plain": [
              "<Figure size 432x288 with 1 Axes>"
            ]
          },
          "metadata": {
            "tags": [],
            "needs_background": "light"
          }
        }
      ]
    },
    {
      "cell_type": "code",
      "metadata": {
        "id": "Tf6BShAWFfoe",
        "colab_type": "code",
        "colab": {}
      },
      "source": [
        "model.save('/content/gdrive/My Drive/model_save/dense3/denseNet_3.h5')"
      ],
      "execution_count": 70,
      "outputs": []
    },
    {
      "cell_type": "code",
      "metadata": {
        "id": "62FzqXt5VoJL",
        "colab_type": "code",
        "colab": {
          "base_uri": "https://localhost:8080/",
          "height": 573
        },
        "outputId": "2b16231d-a68a-4bcd-9312-1a80655d3831"
      },
      "source": [
        "def smooth_curve(points, factor=0.8):\n",
        "  smoothed_points = []\n",
        "  for point in points:\n",
        "    if smoothed_points:\n",
        "      previous = smoothed_points[-1]\n",
        "      smoothed_points.append(previous * factor + point * (1 - factor))\n",
        "    else:\n",
        "      smoothed_points.append(point)\n",
        "  return smoothed_points\n",
        "\n",
        "smooth_mae_history_train = smooth_curve(dense.history['accuracy'])\n",
        "smooth_mae_history_val = smooth_curve(dense.history['val_accuracy'])\n",
        "plt.plot(range(1, len(smooth_mae_history_train) + 1), smooth_mae_history_train)\n",
        "plt.plot(range(1, len(smooth_mae_history_val) + 1), smooth_mae_history_val)\n",
        "plt.xlabel('epochs')\n",
        "plt.ylabel('accuracy')\n",
        "plt.title('Accuracy Moving average')\n",
        "plt.legend(['train', 'val'], loc='upper left')\n",
        "plt.show()\n",
        "\n",
        "\n",
        "plt.plot(smooth_curve(dense.history['loss']))\n",
        "plt.plot(smooth_curve(dense.history['val_loss']))\n",
        "plt.title('Loss Moving average')\n",
        "plt.ylabel('loss')\n",
        "plt.xlabel('epochs')\n",
        "plt.legend(['train', 'val'], loc='upper left')\n",
        "plt.show()"
      ],
      "execution_count": 75,
      "outputs": [
        {
          "output_type": "display_data",
          "data": {
            "image/png": "[encoded data removed]",
            "text/plain": [
              "<Figure size 432x288 with 1 Axes>"
            ]
          },
          "metadata": {
            "tags": [],
            "needs_background": "light"
          }
        },
        {
          "output_type": "display_data",
          "data": {
            "image/png": "[encoded data removed]",
            "text/plain": [
              "<Figure size 432x288 with 1 Axes>"
            ]
          },
          "metadata": {
            "tags": [],
            "needs_background": "light"
          }
        }
      ]
    },
    {
      "cell_type": "code",
      "metadata": {
        "id": "DWGuE6NuVoNZ",
        "colab_type": "code",
        "colab": {}
      },
      "source": [
        ""
      ],
      "execution_count": null,
      "outputs": []
    }
  ]
}