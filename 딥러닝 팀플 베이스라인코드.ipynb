{
  "nbformat": 4,
  "nbformat_minor": 0,
  "metadata": {
    "colab": {
      "name": "Untitled3.ipynb",
      "provenance": [],
      "collapsed_sections": []
    },
    "kernelspec": {
      "name": "python3",
      "display_name": "Python 3"
    }
  },
  "cells": [
    {
      "cell_type": "markdown",
      "metadata": {
        "id": "IoialRQZ2m9j",
        "colab_type": "text"
      },
      "source": [
        "## Deep learning team project"
      ]
    },
    {
      "cell_type": "code",
      "metadata": {
        "id": "onHgMr0ELIB4",
        "colab_type": "code",
        "outputId": "5d813d9b-298d-42c0-dda6-83d07d6e99d8",
        "colab": {
          "base_uri": "https://localhost:8080/",
          "height": 125
        }
      },
      "source": [
        "# gdrive에 mount\n",
        "from google.colab import drive\n",
        "drive.mount('/content/gdrive')\n",
        "# 경로 설정\n",
        "import os\n",
        "os.chdir('/content/gdrive/My Drive/Plant_leaf')"
      ],
      "execution_count": 0,
      "outputs": [
        {
          "output_type": "stream",
          "text": [
            "Go to this URL in a browser: https://accounts.google.com/o/oauth2/auth?client_id=947318989803-6bn6qk8qdgf4n4g3pfee6491hc0brc4i.apps.googleusercontent.com&redirect_uri=urn%3aietf%3awg%3aoauth%3a2.0%3aoob&response_type=code&scope=email%20https%3a%2f%2fwww.googleapis.com%2fauth%2fdocs.test%20https%3a%2f%2fwww.googleapis.com%2fauth%2fdrive%20https%3a%2f%2fwww.googleapis.com%2fauth%2fdrive.photos.readonly%20https%3a%2f%2fwww.googleapis.com%2fauth%2fpeopleapi.readonly\n",
            "\n",
            "Enter your authorization code:\n",
            "··········\n",
            "Mounted at /content/gdrive\n"
          ],
          "name": "stdout"
        }
      ]
    },
    {
      "cell_type": "code",
      "metadata": {
        "id": "mNw5OLIlQave",
        "colab_type": "code",
        "outputId": "0292297e-3760-4ea0-8913-d7c03371e9c2",
        "colab": {
          "base_uri": "https://localhost:8080/",
          "height": 34
        }
      },
      "source": [
        "os.getcwd()"
      ],
      "execution_count": 0,
      "outputs": [
        {
          "output_type": "execute_result",
          "data": {
            "text/plain": [
              "'/content/gdrive/My Drive/Plant_leaf'"
            ]
          },
          "metadata": {
            "tags": []
          },
          "execution_count": 2
        }
      ]
    },
    {
      "cell_type": "code",
      "metadata": {
        "_cell_guid": "79c7e3d0-c299-4dcb-8224-4455121ee9b0",
        "_uuid": "d629ff2d2480ee46fbb7e2d37f6b5fab8052498a",
        "id": "IrFxmHGmQG4A",
        "colab_type": "code",
        "colab": {}
      },
      "source": [
        "import numpy as np\n",
        "import pandas as pd\n",
        "import matplotlib.pyplot as plt\n",
        "%matplotlib inline\n",
        "import seaborn as sns\n",
        "import cv2\n",
        "import os\n",
        "from tqdm import tqdm\n",
        "from sklearn.metrics import confusion_matrix\n",
        "from sklearn.model_selection import train_test_split\n",
        "from keras.utils.np_utils import to_categorical\n",
        "from keras.models import Model,Sequential, Input, load_model\n",
        "from keras.layers import Dense, Dropout, Flatten, Conv2D, MaxPooling2D, BatchNormalization, AveragePooling2D, GlobalAveragePooling2D, Activation, Dropout, Dense\n",
        "from keras.optimizers import Adam\n",
        "from keras.preprocessing.image import ImageDataGenerator\n",
        "from keras.callbacks import ModelCheckpoint, ReduceLROnPlateau\n",
        "from keras.applications import DenseNet121"
      ],
      "execution_count": 0,
      "outputs": []
    },
    {
      "cell_type": "code",
      "metadata": {
        "id": "WT9sp11W4U7B",
        "colab_type": "code",
        "outputId": "c1076d14-adc4-4f09-ea26-3a22997b03de",
        "colab": {
          "base_uri": "https://localhost:8080/",
          "height": 34
        }
      },
      "source": [
        "'''\n",
        "# 카테고리 지정하기\n",
        "categories = disease_types\n",
        "nb_classes = len(categories)\n",
        "'''\n",
        "\n",
        "# 이미지 크기 지정하기\n",
        "image_w = 64\n",
        "image_h = 64\n",
        "\n",
        "# 데이터 열기 \n",
        "X_orig= np.load(\"../전처리 후/no_repeat.npy\")\n",
        "Y_orig= np.load(\"../전처리 후/no_repeat_y.npy\")\n",
        "print('X_train shape:', X_orig.shape)\n"
      ],
      "execution_count": 0,
      "outputs": [
        {
          "output_type": "stream",
          "text": [
            "X_train shape: (40000, 64, 64, 3)\n"
          ],
          "name": "stdout"
        }
      ]
    },
    {
      "cell_type": "code",
      "metadata": {
        "id": "gP5zukB042-8",
        "colab_type": "code",
        "colab": {}
      },
      "source": [
        "# 데이터 나누기\n",
        "X_train, X_test, y_train, y_test = train_test_split(X_orig, Y_orig, test_size=0.2, random_state=42)"
      ],
      "execution_count": 0,
      "outputs": []
    },
    {
      "cell_type": "code",
      "metadata": {
        "id": "pSgM7fHr5TuN",
        "colab_type": "code",
        "colab": {}
      },
      "source": [
        "del(X_orig, Y_orig)"
      ],
      "execution_count": 0,
      "outputs": []
    },
    {
      "cell_type": "markdown",
      "metadata": {
        "id": "WGgCzQpb8EH7",
        "colab_type": "text"
      },
      "source": [
        "* 모델 1"
      ]
    },
    {
      "cell_type": "code",
      "metadata": {
        "id": "ZQ8pFeEzGl2G",
        "colab_type": "code",
        "colab": {}
      },
      "source": [
        "# 모델 구조 정의 \n",
        "model = Sequential()\n",
        "model.add(Conv2D(32, (3, 3), input_shape=X_train.shape[1:], padding='same'))\n",
        "model.add(Activation('relu'))\n",
        "model.add(MaxPooling2D(pool_size=(2, 2)))\n",
        "model.add(Dropout(0.25))\n",
        "\n",
        "model.add(Conv2D(64, (3, 3), padding='same'))\n",
        "model.add(Activation('relu'))\n",
        "\n",
        "model.add(Conv2D(64, (3, 3)))\n",
        "model.add(MaxPooling2D(pool_size=(2, 2)))\n",
        "model.add(Dropout(0.25))\n",
        "\n",
        "# 전결합층\n",
        "model.add(Flatten())    # 벡터형태로 reshape\n",
        "model.add(Dense(512))   # 출력\n",
        "model.add(Activation('relu'))\n",
        "model.add(Dropout(0.5))\n",
        "\n",
        "model.add(Dense(33))\n",
        "model.add(Activation('softmax'))\n",
        "\n",
        "# 모델 구축하기\n",
        "model.compile(loss='categorical_crossentropy',   # 최적화 함수 지정\n",
        "    optimizer='rmsprop',\n",
        "    metrics=['accuracy'])"
      ],
      "execution_count": 0,
      "outputs": []
    },
    {
      "cell_type": "code",
      "metadata": {
        "id": "B0yPysWC8G2o",
        "colab_type": "code",
        "colab": {
          "base_uri": "https://localhost:8080/",
          "height": 386
        },
        "outputId": "2a2e720d-e722-44aa-bc74-ce5d7f03e006"
      },
      "source": [
        "history= model.fit(X_train, y_train, epochs=10, batch_size=64)"
      ],
      "execution_count": 16,
      "outputs": [
        {
          "output_type": "stream",
          "text": [
            "Epoch 1/10\n",
            "32000/32000 [==============================] - 382s 12ms/step - loss: 15.6200 - accuracy: 0.2358\n",
            "Epoch 2/10\n",
            "32000/32000 [==============================] - 380s 12ms/step - loss: 1.3555 - accuracy: 0.6085\n",
            "Epoch 3/10\n",
            "32000/32000 [==============================] - 378s 12ms/step - loss: 0.9420 - accuracy: 0.7215\n",
            "Epoch 4/10\n",
            "32000/32000 [==============================] - 380s 12ms/step - loss: 0.8049 - accuracy: 0.7670\n",
            "Epoch 5/10\n",
            "32000/32000 [==============================] - 380s 12ms/step - loss: 0.7313 - accuracy: 0.7899\n",
            "Epoch 6/10\n",
            "32000/32000 [==============================] - 380s 12ms/step - loss: 0.6868 - accuracy: 0.8060\n",
            "Epoch 7/10\n",
            "32000/32000 [==============================] - 378s 12ms/step - loss: 0.6338 - accuracy: 0.8240\n",
            "Epoch 8/10\n",
            "32000/32000 [==============================] - 378s 12ms/step - loss: 0.6213 - accuracy: 0.8298\n",
            "Epoch 9/10\n",
            "32000/32000 [==============================] - 377s 12ms/step - loss: 0.6087 - accuracy: 0.8346\n",
            "Epoch 10/10\n",
            "32000/32000 [==============================] - 374s 12ms/step - loss: 0.6474 - accuracy: 0.8370\n"
          ],
          "name": "stdout"
        },
        {
          "output_type": "execute_result",
          "data": {
            "text/plain": [
              "<keras.callbacks.callbacks.History at 0x7fd7406eacc0>"
            ]
          },
          "metadata": {
            "tags": []
          },
          "execution_count": 16
        }
      ]
    },
    {
      "cell_type": "code",
      "metadata": {
        "id": "fcl9Tea7_1V-",
        "colab_type": "code",
        "colab": {}
      },
      "source": [
        "#모델 저장\n",
        "model.save('my_model.h5')"
      ],
      "execution_count": 0,
      "outputs": []
    },
    {
      "cell_type": "code",
      "metadata": {
        "id": "6jEdOslM_3bz",
        "colab_type": "code",
        "colab": {
          "base_uri": "https://localhost:8080/",
          "height": 703
        },
        "outputId": "e0d40adc-a502-48b3-f398-8778a31265db"
      },
      "source": [
        "# 모델 불러오기\n",
        "import keras\n",
        "new_model = keras.models.load_model('my_model.h5')\n",
        "new_model.summary()\n",
        "\n",
        "loss,acc = new_model.evaluate(X_test,y_test, verbose=2)  #verbose는 one line per epoch\n",
        "print(\"복원된 모델의 정확도: {:5.2f}%\".format(100*acc))"
      ],
      "execution_count": 22,
      "outputs": [
        {
          "output_type": "stream",
          "text": [
            "Model: \"sequential_4\"\n",
            "_________________________________________________________________\n",
            "Layer (type)                 Output Shape              Param #   \n",
            "=================================================================\n",
            "conv2d_5 (Conv2D)            (None, 64, 64, 32)        896       \n",
            "_________________________________________________________________\n",
            "activation_5 (Activation)    (None, 64, 64, 32)        0         \n",
            "_________________________________________________________________\n",
            "max_pooling2d_3 (MaxPooling2 (None, 32, 32, 32)        0         \n",
            "_________________________________________________________________\n",
            "dropout_4 (Dropout)          (None, 32, 32, 32)        0         \n",
            "_________________________________________________________________\n",
            "conv2d_6 (Conv2D)            (None, 32, 32, 64)        18496     \n",
            "_________________________________________________________________\n",
            "activation_6 (Activation)    (None, 32, 32, 64)        0         \n",
            "_________________________________________________________________\n",
            "conv2d_7 (Conv2D)            (None, 30, 30, 64)        36928     \n",
            "_________________________________________________________________\n",
            "max_pooling2d_4 (MaxPooling2 (None, 15, 15, 64)        0         \n",
            "_________________________________________________________________\n",
            "dropout_5 (Dropout)          (None, 15, 15, 64)        0         \n",
            "_________________________________________________________________\n",
            "flatten_2 (Flatten)          (None, 14400)             0         \n",
            "_________________________________________________________________\n",
            "dense_2 (Dense)              (None, 512)               7373312   \n",
            "_________________________________________________________________\n",
            "activation_7 (Activation)    (None, 512)               0         \n",
            "_________________________________________________________________\n",
            "dropout_6 (Dropout)          (None, 512)               0         \n",
            "_________________________________________________________________\n",
            "dense_3 (Dense)              (None, 33)                16929     \n",
            "_________________________________________________________________\n",
            "activation_8 (Activation)    (None, 33)                0         \n",
            "=================================================================\n",
            "Total params: 7,446,561\n",
            "Trainable params: 7,446,561\n",
            "Non-trainable params: 0\n",
            "_________________________________________________________________\n",
            "복원된 모델의 정확도: 78.31%\n"
          ],
          "name": "stdout"
        }
      ]
    },
    {
      "cell_type": "code",
      "metadata": {
        "id": "kMuzEJP4QG4t",
        "colab_type": "code",
        "outputId": "4fee7348-1014-451d-8f21-7abfe8a4f770",
        "colab": {
          "base_uri": "https://localhost:8080/",
          "height": 239
        }
      },
      "source": [
        "# accuracy plot \n",
        "plt.plot(model.history['accuracy'])\n",
        "plt.plot(modle.history['val_accuracy'])\n",
        "plt.title('model accuracy')\n",
        "plt.ylabel('accuracy')\n",
        "plt.xlabel('epoch')\n",
        "plt.legend(['train', 'test'], loc='upper left')\n",
        "plt.show()\n",
        "\n",
        "# loss plot\n",
        "plt.plot(model.history['loss'])\n",
        "plt.plot(model.history['val_loss'])\n",
        "plt.title('model loss')\n",
        "plt.ylabel('loss')\n",
        "plt.xlabel('epoch')\n",
        "plt.legend(['train', 'test'], loc='upper left')\n",
        "plt.show()"
      ],
      "execution_count": 24,
      "outputs": [
        {
          "output_type": "error",
          "ename": "TypeError",
          "evalue": "ignored",
          "traceback": [
            "\u001b[0;31m---------------------------------------------------------------------------\u001b[0m",
            "\u001b[0;31mTypeError\u001b[0m                                 Traceback (most recent call last)",
            "\u001b[0;32m<ipython-input-24-2cf96f8eaa4a>\u001b[0m in \u001b[0;36m<module>\u001b[0;34m()\u001b[0m\n\u001b[1;32m      1\u001b[0m \u001b[0;31m# accuracy plot\u001b[0m\u001b[0;34m\u001b[0m\u001b[0;34m\u001b[0m\u001b[0;34m\u001b[0m\u001b[0m\n\u001b[0;32m----> 2\u001b[0;31m \u001b[0mplt\u001b[0m\u001b[0;34m.\u001b[0m\u001b[0mplot\u001b[0m\u001b[0;34m(\u001b[0m\u001b[0mmodel\u001b[0m\u001b[0;34m.\u001b[0m\u001b[0mhistory\u001b[0m\u001b[0;34m[\u001b[0m\u001b[0;34m'accuracy'\u001b[0m\u001b[0;34m]\u001b[0m\u001b[0;34m)\u001b[0m\u001b[0;34m\u001b[0m\u001b[0;34m\u001b[0m\u001b[0m\n\u001b[0m\u001b[1;32m      3\u001b[0m \u001b[0mplt\u001b[0m\u001b[0;34m.\u001b[0m\u001b[0mplot\u001b[0m\u001b[0;34m(\u001b[0m\u001b[0mmodle\u001b[0m\u001b[0;34m.\u001b[0m\u001b[0mhistory\u001b[0m\u001b[0;34m[\u001b[0m\u001b[0;34m'val_accuracy'\u001b[0m\u001b[0;34m]\u001b[0m\u001b[0;34m)\u001b[0m\u001b[0;34m\u001b[0m\u001b[0;34m\u001b[0m\u001b[0m\n\u001b[1;32m      4\u001b[0m \u001b[0mplt\u001b[0m\u001b[0;34m.\u001b[0m\u001b[0mtitle\u001b[0m\u001b[0;34m(\u001b[0m\u001b[0;34m'model accuracy'\u001b[0m\u001b[0;34m)\u001b[0m\u001b[0;34m\u001b[0m\u001b[0;34m\u001b[0m\u001b[0m\n\u001b[1;32m      5\u001b[0m \u001b[0mplt\u001b[0m\u001b[0;34m.\u001b[0m\u001b[0mylabel\u001b[0m\u001b[0;34m(\u001b[0m\u001b[0;34m'accuracy'\u001b[0m\u001b[0;34m)\u001b[0m\u001b[0;34m\u001b[0m\u001b[0;34m\u001b[0m\u001b[0m\n",
            "\u001b[0;31mTypeError\u001b[0m: 'History' object is not subscriptable"
          ]
        }
      ]
    },
    {
      "cell_type": "code",
      "metadata": {
        "id": "ielj7ZkCWbFF",
        "colab_type": "code",
        "colab": {}
      },
      "source": [
        "from tensorflow.keras.callbacks import ModelCheckpoint\n",
        "\n",
        "filepath = '/content/gdrive/My Drive/전처리 후/model.plant.{epoch:02d}.hdf5'\n",
        "modelckpt = ModelCheckpoint(filepath=filepath)"
      ],
      "execution_count": 0,
      "outputs": []
    },
    {
      "cell_type": "markdown",
      "metadata": {
        "id": "9qyhAnA07-M7",
        "colab_type": "text"
      },
      "source": [
        "* 모델 2"
      ]
    },
    {
      "cell_type": "code",
      "metadata": {
        "id": "Kf8eKIYLQG4i",
        "colab_type": "code",
        "colab": {}
      },
      "source": [
        "def build_densenet():\n",
        "    densenet = DenseNet121(weights='imagenet', include_top=False)\n",
        "\n",
        "    input = Input(shape=(64, 64, 3))\n",
        "    x = Conv2D(3, (3, 3),input_shape=X_train.shape[1:], padding='same' padding='same')\n",
        "    \n",
        "    x = densenet(x)\n",
        "    \n",
        "    x = GlobalAveragePooling2D()(x)\n",
        "    x = BatchNormalization()(x)\n",
        "    x = Dropout(0.5)(x)\n",
        "    x = Dense(256, activation='relu')(x)\n",
        "    x = BatchNormalization()(x)\n",
        "    x = Dropout(0.5)(x)\n",
        "\n",
        "    # multi output\n",
        "    output = Dense(33,activation = 'softmax', name='root')(x)\n",
        " \n",
        "\n",
        "    # model\n",
        "    model = Model(input,output)\n",
        "    \n",
        "    optimizer = Adam(lr=0.002, beta_1=0.9, beta_2=0.999, epsilon=0.1, decay=0.0)\n",
        "    model.compile(loss='categorical_crossentropy', optimizer=optimizer, metrics=['accuracy'])\n",
        "    model.summary()\n",
        "    \n",
        "    return model"
      ],
      "execution_count": 0,
      "outputs": []
    },
    {
      "cell_type": "code",
      "metadata": {
        "id": "CvfA4AlqQG4l",
        "colab_type": "code",
        "outputId": "88c62a01-7119-4bfe-9b36-6ac41d81131a",
        "colab": {
          "base_uri": "https://localhost:8080/",
          "height": 1000
        }
      },
      "source": [
        "model = build_densenet()\n",
        "annealer = ReduceLROnPlateau(monitor='val_accuracy', factor=0.5, patience=5, verbose=1, min_lr=1e-3)\n",
        "checkpoint = ModelCheckpoint('model.h5', verbose=1, save_best_only=True)\n",
        "# Generates batches of image data with data augmentation\n",
        "datagen = ImageDataGenerator(rotation_range=360, # Degree range for random rotations\n",
        "                        width_shift_range=0.2, # Range for random horizontal shifts\n",
        "                        height_shift_range=0.2, # Range for random vertical shifts\n",
        "                        zoom_range=0.2, # Range for random zoom\n",
        "                        horizontal_flip=True, # Randomly flip inputs horizontally\n",
        "                        vertical_flip=True) # Randomly flip inputs vertically\n",
        "\n",
        "datagen.fit(X_train)\n",
        "# Fits the model on batches with real-time data augmentation\n",
        "hist = model.fit_generator(datagen.flow(X_train, Y_train, batch_size=BATCH_SIZE),\n",
        "               steps_per_epoch=X_train.shape[0] // BATCH_SIZE,\n",
        "               epochs=EPOCHS,\n",
        "               verbose=2,\n",
        "               callbacks=[annealer, checkpoint],\n",
        "               validation_data=(X_val, Y_val))"
      ],
      "execution_count": 0,
      "outputs": [
        {
          "output_type": "stream",
          "text": [
            "Model: \"model_3\"\n",
            "_________________________________________________________________\n",
            "Layer (type)                 Output Shape              Param #   \n",
            "=================================================================\n",
            "input_6 (InputLayer)         (None, 32, 32, 3)         0         \n",
            "_________________________________________________________________\n",
            "conv2d_3 (Conv2D)            (None, 32, 32, 3)         84        \n",
            "_________________________________________________________________\n",
            "densenet121 (Model)          multiple                  7037504   \n",
            "_________________________________________________________________\n",
            "global_average_pooling2d_3 ( (None, 1024)              0         \n",
            "_________________________________________________________________\n",
            "batch_normalization_5 (Batch (None, 1024)              4096      \n",
            "_________________________________________________________________\n",
            "dropout_5 (Dropout)          (None, 1024)              0         \n",
            "_________________________________________________________________\n",
            "dense_3 (Dense)              (None, 256)               262400    \n",
            "_________________________________________________________________\n",
            "batch_normalization_6 (Batch (None, 256)               1024      \n",
            "_________________________________________________________________\n",
            "dropout_6 (Dropout)          (None, 256)               0         \n",
            "_________________________________________________________________\n",
            "root (Dense)                 (None, 33)                8481      \n",
            "=================================================================\n",
            "Total params: 7,313,589\n",
            "Trainable params: 7,227,381\n",
            "Non-trainable params: 86,208\n",
            "_________________________________________________________________\n",
            "Epoch 1/50\n",
            " - 125s - loss: 3.3977 - accuracy: 0.2155 - val_loss: 2.0041 - val_accuracy: 0.4487\n",
            "\n",
            "Epoch 00001: val_loss improved from inf to 2.00405, saving model to model.h5\n",
            "Epoch 2/50\n",
            " - 77s - loss: 1.8641 - accuracy: 0.4936 - val_loss: 1.1925 - val_accuracy: 0.6288\n",
            "\n",
            "Epoch 00002: val_loss improved from 2.00405 to 1.19245, saving model to model.h5\n",
            "Epoch 3/50\n",
            " - 79s - loss: 1.2911 - accuracy: 0.6303 - val_loss: 1.1586 - val_accuracy: 0.6505\n",
            "\n",
            "Epoch 00003: val_loss improved from 1.19245 to 1.15855, saving model to model.h5\n",
            "Epoch 4/50\n",
            " - 79s - loss: 0.9407 - accuracy: 0.7218 - val_loss: 0.6943 - val_accuracy: 0.7866\n",
            "\n",
            "Epoch 00004: val_loss improved from 1.15855 to 0.69434, saving model to model.h5\n",
            "Epoch 5/50\n",
            " - 79s - loss: 0.7201 - accuracy: 0.7826 - val_loss: 0.8432 - val_accuracy: 0.7417\n",
            "\n",
            "Epoch 00005: val_loss did not improve from 0.69434\n",
            "Epoch 6/50\n",
            " - 79s - loss: 0.5934 - accuracy: 0.8234 - val_loss: 0.6411 - val_accuracy: 0.7934\n",
            "\n",
            "Epoch 00006: val_loss improved from 0.69434 to 0.64113, saving model to model.h5\n",
            "Epoch 7/50\n",
            " - 79s - loss: 0.5175 - accuracy: 0.8439 - val_loss: 0.3845 - val_accuracy: 0.8709\n",
            "\n",
            "Epoch 00007: val_loss improved from 0.64113 to 0.38454, saving model to model.h5\n",
            "Epoch 8/50\n",
            " - 77s - loss: 0.4636 - accuracy: 0.8593 - val_loss: 0.5228 - val_accuracy: 0.8323\n",
            "\n",
            "Epoch 00008: val_loss did not improve from 0.38454\n",
            "Epoch 9/50\n",
            " - 77s - loss: 0.4492 - accuracy: 0.8668 - val_loss: 0.3131 - val_accuracy: 0.8961\n",
            "\n",
            "Epoch 00009: val_loss improved from 0.38454 to 0.31312, saving model to model.h5\n",
            "Epoch 10/50\n",
            " - 77s - loss: 0.3641 - accuracy: 0.8856 - val_loss: 1.1759 - val_accuracy: 0.6595\n",
            "\n",
            "Epoch 00010: val_loss did not improve from 0.31312\n",
            "Epoch 11/50\n",
            " - 78s - loss: 0.3569 - accuracy: 0.8915 - val_loss: 0.2955 - val_accuracy: 0.9036\n",
            "\n",
            "Epoch 00011: val_loss improved from 0.31312 to 0.29545, saving model to model.h5\n",
            "Epoch 12/50\n",
            " - 78s - loss: 0.3420 - accuracy: 0.8948 - val_loss: 1.4611 - val_accuracy: 0.6470\n",
            "\n",
            "Epoch 00012: val_loss did not improve from 0.29545\n",
            "Epoch 13/50\n",
            " - 77s - loss: 0.2875 - accuracy: 0.9115 - val_loss: 0.6257 - val_accuracy: 0.8073\n",
            "\n",
            "Epoch 00013: val_loss did not improve from 0.29545\n",
            "Epoch 14/50\n",
            " - 76s - loss: 0.2679 - accuracy: 0.9169 - val_loss: 0.2772 - val_accuracy: 0.9075\n",
            "\n",
            "Epoch 00014: val_loss improved from 0.29545 to 0.27722, saving model to model.h5\n",
            "Epoch 15/50\n",
            " - 76s - loss: 0.2451 - accuracy: 0.9246 - val_loss: 0.7500 - val_accuracy: 0.7789\n",
            "\n",
            "Epoch 00015: val_loss did not improve from 0.27722\n",
            "Epoch 16/50\n",
            " - 76s - loss: 0.2422 - accuracy: 0.9257 - val_loss: 0.5455 - val_accuracy: 0.8250\n",
            "\n",
            "Epoch 00016: val_loss did not improve from 0.27722\n",
            "Epoch 17/50\n",
            " - 75s - loss: 0.2292 - accuracy: 0.9305 - val_loss: 0.3956 - val_accuracy: 0.8714\n",
            "\n",
            "Epoch 00017: val_loss did not improve from 0.27722\n",
            "Epoch 18/50\n"
          ],
          "name": "stdout"
        }
      ]
    },
    {
      "cell_type": "code",
      "metadata": {
        "id": "BRgraJbV4wB-",
        "colab_type": "code",
        "outputId": "eaa51fe4-d395-47c7-df36-c2cc1c82acf8",
        "colab": {
          "base_uri": "https://localhost:8080/",
          "height": 703
        }
      },
      "source": [
        "# 모델 확인\n",
        "print(model.summary())"
      ],
      "execution_count": 0,
      "outputs": [
        {
          "output_type": "stream",
          "text": [
            "Model: \"sequential_4\"\n",
            "_________________________________________________________________\n",
            "Layer (type)                 Output Shape              Param #   \n",
            "=================================================================\n",
            "conv2d_5 (Conv2D)            (None, 64, 64, 32)        896       \n",
            "_________________________________________________________________\n",
            "activation_5 (Activation)    (None, 64, 64, 32)        0         \n",
            "_________________________________________________________________\n",
            "max_pooling2d_3 (MaxPooling2 (None, 32, 32, 32)        0         \n",
            "_________________________________________________________________\n",
            "dropout_4 (Dropout)          (None, 32, 32, 32)        0         \n",
            "_________________________________________________________________\n",
            "conv2d_6 (Conv2D)            (None, 32, 32, 64)        18496     \n",
            "_________________________________________________________________\n",
            "activation_6 (Activation)    (None, 32, 32, 64)        0         \n",
            "_________________________________________________________________\n",
            "conv2d_7 (Conv2D)            (None, 30, 30, 64)        36928     \n",
            "_________________________________________________________________\n",
            "max_pooling2d_4 (MaxPooling2 (None, 15, 15, 64)        0         \n",
            "_________________________________________________________________\n",
            "dropout_5 (Dropout)          (None, 15, 15, 64)        0         \n",
            "_________________________________________________________________\n",
            "flatten_2 (Flatten)          (None, 14400)             0         \n",
            "_________________________________________________________________\n",
            "dense_2 (Dense)              (None, 512)               7373312   \n",
            "_________________________________________________________________\n",
            "activation_7 (Activation)    (None, 512)               0         \n",
            "_________________________________________________________________\n",
            "dropout_6 (Dropout)          (None, 512)               0         \n",
            "_________________________________________________________________\n",
            "dense_3 (Dense)              (None, 33)                16929     \n",
            "_________________________________________________________________\n",
            "activation_8 (Activation)    (None, 33)                0         \n",
            "=================================================================\n",
            "Total params: 7,446,561\n",
            "Trainable params: 7,446,561\n",
            "Non-trainable params: 0\n",
            "_________________________________________________________________\n",
            "None\n"
          ],
          "name": "stdout"
        }
      ]
    },
    {
      "cell_type": "code",
      "metadata": {
        "id": "Dklz1zEF4x4u",
        "colab_type": "code",
        "colab": {}
      },
      "source": [
        "# 학습 완료된 모델 저장\n",
        "hdf5_file = \"../0605plant_model.hdf5\"\n",
        "if os.path.exists(hdf5_file):\n",
        "    # 기존에 학습된 모델 불러들이기\n",
        "    model.load_weights(hdf5_file)\n",
        "else:\n",
        "    # 학습한 모델이 없으면 파일로 저장\n",
        "    model.fit(X_train, y_train, batch_size=32, nb_epoch=10)\n",
        "    model.save_weights(hdf5_file)"
      ],
      "execution_count": 0,
      "outputs": []
    }
  ]
}