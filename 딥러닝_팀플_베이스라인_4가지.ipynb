{
  "nbformat": 4,
  "nbformat_minor": 0,
  "metadata": {
    "colab": {
      "name": "딥러닝 팀플 베이스라인코드.ipynb",
      "provenance": [],
      "collapsed_sections": []
    },
    "kernelspec": {
      "name": "python3",
      "display_name": "Python 3"
    },
    "accelerator": "GPU"
  },
  "cells": [
    {
      "cell_type": "markdown",
      "metadata": {
        "id": "IoialRQZ2m9j",
        "colab_type": "text"
      },
      "source": [
        "## Deep learning team project"
      ]
    },
    {
      "cell_type": "code",
      "metadata": {
        "_cell_guid": "79c7e3d0-c299-4dcb-8224-4455121ee9b0",
        "_uuid": "d629ff2d2480ee46fbb7e2d37f6b5fab8052498a",
        "id": "IrFxmHGmQG4A",
        "colab_type": "code",
        "colab": {
          "base_uri": "https://localhost:8080/",
          "height": 70
        },
        "outputId": "0b3ff027-79df-47ae-9313-0eb1d3657faf"
      },
      "source": [
        "import numpy as np\n",
        "import pandas as pd\n",
        "import matplotlib.pyplot as plt\n",
        "%matplotlib inline\n",
        "import seaborn as sns\n",
        "import cv2\n",
        "from tqdm import tqdm\n",
        "from sklearn.metrics import confusion_matrix\n",
        "from sklearn.model_selection import train_test_split\n",
        "from keras.utils.np_utils import to_categorical\n",
        "from keras.models import Model,Sequential, Input, load_model\n",
        "from keras.layers import Dense, Dropout, Flatten, Conv2D, MaxPooling2D, BatchNormalization, AveragePooling2D, GlobalAveragePooling2D, Activation, Dropout, Dense\n",
        "from keras.optimizers import Adam\n",
        "from keras.preprocessing.image import ImageDataGenerator\n",
        "from keras.callbacks import ModelCheckpoint, ReduceLROnPlateau\n",
        "from keras.applications import DenseNet121"
      ],
      "execution_count": 2,
      "outputs": [
        {
          "output_type": "stream",
          "text": [
            "/usr/local/lib/python3.6/dist-packages/statsmodels/tools/_testing.py:19: FutureWarning: pandas.util.testing is deprecated. Use the functions in the public API at pandas.testing instead.\n",
            "  import pandas.util.testing as tm\n",
            "Using TensorFlow backend.\n"
          ],
          "name": "stderr"
        }
      ]
    },
    {
      "cell_type": "code",
      "metadata": {
        "id": "onHgMr0ELIB4",
        "colab_type": "code",
        "outputId": "12c3f042-4e0f-4455-ffe0-a238e20150b4",
        "colab": {
          "base_uri": "https://localhost:8080/",
          "height": 125
        }
      },
      "source": [
        "# gdrive에 mount\n",
        "from google.colab import drive\n",
        "drive.mount('/content/gdrive')\n",
        "# 경로 설정\n",
        "import os\n",
        "os.chdir('/content/gdrive/My Drive/Plant_leaf')"
      ],
      "execution_count": 3,
      "outputs": [
        {
          "output_type": "stream",
          "text": [
            "Go to this URL in a browser: https://accounts.google.com/o/oauth2/auth?client_id=947318989803-6bn6qk8qdgf4n4g3pfee6491hc0brc4i.apps.googleusercontent.com&redirect_uri=urn%3aietf%3awg%3aoauth%3a2.0%3aoob&response_type=code&scope=email%20https%3a%2f%2fwww.googleapis.com%2fauth%2fdocs.test%20https%3a%2f%2fwww.googleapis.com%2fauth%2fdrive%20https%3a%2f%2fwww.googleapis.com%2fauth%2fdrive.photos.readonly%20https%3a%2f%2fwww.googleapis.com%2fauth%2fpeopleapi.readonly\n",
            "\n",
            "Enter your authorization code:\n",
            "··········\n",
            "Mounted at /content/gdrive\n"
          ],
          "name": "stdout"
        }
      ]
    },
    {
      "cell_type": "code",
      "metadata": {
        "id": "mNw5OLIlQave",
        "colab_type": "code",
        "outputId": "91a21970-9cb8-4726-a058-e962df6b96c7",
        "colab": {
          "base_uri": "https://localhost:8080/",
          "height": 34
        }
      },
      "source": [
        "os.getcwd()"
      ],
      "execution_count": 4,
      "outputs": [
        {
          "output_type": "execute_result",
          "data": {
            "text/plain": [
              "'/content/gdrive/My Drive/Plant_leaf'"
            ]
          },
          "metadata": {
            "tags": []
          },
          "execution_count": 4
        }
      ]
    },
    {
      "cell_type": "code",
      "metadata": {
        "id": "WT9sp11W4U7B",
        "colab_type": "code",
        "outputId": "10ff73c7-cead-4a13-d697-fa83ed6f85be",
        "colab": {
          "base_uri": "https://localhost:8080/",
          "height": 34
        }
      },
      "source": [
        "# 이미지 크기 지정하기\n",
        "image_w = 64\n",
        "image_h = 64\n",
        "\n",
        "# 데이터 열기 \n",
        "X_orig= np.load(\"../전처리 후/no_repeat.npy\")\n",
        "Y_orig= np.load(\"../전처리 후/no_repeat_y.npy\")\n",
        "print('X_train shape:', X_orig.shape)"
      ],
      "execution_count": 5,
      "outputs": [
        {
          "output_type": "stream",
          "text": [
            "X_train shape: (40000, 64, 64, 3)\n"
          ],
          "name": "stdout"
        }
      ]
    },
    {
      "cell_type": "code",
      "metadata": {
        "id": "k30JRQ9Xh6o5",
        "colab_type": "code",
        "colab": {}
      },
      "source": [
        "X_orig=X_orig/255."
      ],
      "execution_count": 0,
      "outputs": []
    },
    {
      "cell_type": "code",
      "metadata": {
        "id": "E-wkgy7Ah1nm",
        "colab_type": "code",
        "colab": {
          "base_uri": "https://localhost:8080/",
          "height": 879
        },
        "outputId": "4adc549a-cc8c-41cc-c655-d10ccfbc90e9"
      },
      "source": [
        "X_orig[0]"
      ],
      "execution_count": 6,
      "outputs": [
        {
          "output_type": "execute_result",
          "data": {
            "text/plain": [
              "array([[[0.81568627, 0.70980392, 0.65490196],\n",
              "        [0.8       , 0.69411765, 0.63921569],\n",
              "        [0.8       , 0.69411765, 0.63921569],\n",
              "        ...,\n",
              "        [0.72941176, 0.63921569, 0.63137255],\n",
              "        [0.7372549 , 0.64705882, 0.63921569],\n",
              "        [0.73333333, 0.64313725, 0.63529412]],\n",
              "\n",
              "       [[0.80392157, 0.69803922, 0.64313725],\n",
              "        [0.81176471, 0.70588235, 0.65098039],\n",
              "        [0.81176471, 0.70588235, 0.65098039],\n",
              "        ...,\n",
              "        [0.7372549 , 0.64705882, 0.63921569],\n",
              "        [0.71764706, 0.62745098, 0.61960784],\n",
              "        [0.71372549, 0.62352941, 0.61568627]],\n",
              "\n",
              "       [[0.81176471, 0.70588235, 0.65098039],\n",
              "        [0.81176471, 0.70588235, 0.65098039],\n",
              "        [0.80784314, 0.70196078, 0.64705882],\n",
              "        ...,\n",
              "        [0.72156863, 0.62745098, 0.61960784],\n",
              "        [0.72941176, 0.63529412, 0.62745098],\n",
              "        [0.7254902 , 0.63529412, 0.62745098]],\n",
              "\n",
              "       ...,\n",
              "\n",
              "       [[0.54901961, 0.45098039, 0.43137255],\n",
              "        [0.58039216, 0.4627451 , 0.43921569],\n",
              "        [0.55686275, 0.45882353, 0.41960784],\n",
              "        ...,\n",
              "        [0.43529412, 0.31372549, 0.31764706],\n",
              "        [0.44313725, 0.32156863, 0.3254902 ],\n",
              "        [0.45490196, 0.33333333, 0.3372549 ]],\n",
              "\n",
              "       [[0.57254902, 0.46666667, 0.45882353],\n",
              "        [0.58431373, 0.47058824, 0.45098039],\n",
              "        [0.56470588, 0.45882353, 0.43137255],\n",
              "        ...,\n",
              "        [0.43921569, 0.31764706, 0.32156863],\n",
              "        [0.45490196, 0.33333333, 0.3372549 ],\n",
              "        [0.4745098 , 0.35294118, 0.35686275]],\n",
              "\n",
              "       [[0.56862745, 0.45098039, 0.44705882],\n",
              "        [0.56078431, 0.45490196, 0.44313725],\n",
              "        [0.57647059, 0.47058824, 0.45098039],\n",
              "        ...,\n",
              "        [0.45490196, 0.33333333, 0.3372549 ],\n",
              "        [0.47058824, 0.34901961, 0.35294118],\n",
              "        [0.44705882, 0.3254902 , 0.32941176]]])"
            ]
          },
          "metadata": {
            "tags": []
          },
          "execution_count": 6
        }
      ]
    },
    {
      "cell_type": "code",
      "metadata": {
        "id": "plubwsdWfS6H",
        "colab_type": "code",
        "colab": {
          "base_uri": "https://localhost:8080/",
          "height": 268
        },
        "outputId": "73d10fb4-f479-4e2b-98c3-e94017dffd84"
      },
      "source": [
        "# Image show\n",
        "import matplotlib.pyplot as plt\n",
        "\n",
        "#plt.rcParams['figure.figsize'] = (10, 10) # set figure size\n",
        "plt.imshow(X_orig[0])\n",
        "plt.show()"
      ],
      "execution_count": 7,
      "outputs": [
        {
          "output_type": "display_data",
          "data": {
            "image/png": "[encoded data removed]",
            "text/plain": [
              "<Figure size 432x288 with 1 Axes>"
            ]
          },
          "metadata": {
            "tags": [],
            "needs_background": "light"
          }
        }
      ]
    },
    {
      "cell_type": "code",
      "metadata": {
        "id": "gP5zukB042-8",
        "colab_type": "code",
        "colab": {}
      },
      "source": [
        "# 데이터 나누기\n",
        "X_train, X_test, y_train, y_test = train_test_split(X_orig, Y_orig, test_size=0.2, random_state=42, stratify=Y_orig)"
      ],
      "execution_count": 0,
      "outputs": []
    },
    {
      "cell_type": "code",
      "metadata": {
        "id": "pSgM7fHr5TuN",
        "colab_type": "code",
        "colab": {}
      },
      "source": [
        "del(X_orig, Y_orig)"
      ],
      "execution_count": 0,
      "outputs": []
    },
    {
      "cell_type": "code",
      "metadata": {
        "id": "gm0qzwmgkqJ_",
        "colab_type": "code",
        "colab": {
          "base_uri": "https://localhost:8080/",
          "height": 879
        },
        "outputId": "6d59814b-1904-4a86-8de1-fb5b17dc6d5c"
      },
      "source": [
        "X_train[0]"
      ],
      "execution_count": 10,
      "outputs": [
        {
          "output_type": "execute_result",
          "data": {
            "text/plain": [
              "array([[[0.57647059, 0.56078431, 0.60392157],\n",
              "        [0.54901961, 0.53333333, 0.57647059],\n",
              "        [0.54901961, 0.53333333, 0.57647059],\n",
              "        ...,\n",
              "        [0.44705882, 0.43137255, 0.47843137],\n",
              "        [0.47843137, 0.4627451 , 0.50588235],\n",
              "        [0.45098039, 0.43529412, 0.47843137]],\n",
              "\n",
              "       [[0.56078431, 0.54509804, 0.58823529],\n",
              "        [0.55686275, 0.54117647, 0.58431373],\n",
              "        [0.52156863, 0.50588235, 0.54901961],\n",
              "        ...,\n",
              "        [0.45882353, 0.44313725, 0.48627451],\n",
              "        [0.47843137, 0.4627451 , 0.50588235],\n",
              "        [0.4745098 , 0.45882353, 0.50196078]],\n",
              "\n",
              "       [[0.55686275, 0.54117647, 0.58823529],\n",
              "        [0.58431373, 0.56862745, 0.61176471],\n",
              "        [0.55686275, 0.54117647, 0.58431373],\n",
              "        ...,\n",
              "        [0.46666667, 0.45098039, 0.49411765],\n",
              "        [0.47058824, 0.45490196, 0.49803922],\n",
              "        [0.44313725, 0.42745098, 0.47058824]],\n",
              "\n",
              "       ...,\n",
              "\n",
              "       [[0.55294118, 0.54509804, 0.56862745],\n",
              "        [0.57647059, 0.56862745, 0.59215686],\n",
              "        [0.58431373, 0.57647059, 0.6       ],\n",
              "        ...,\n",
              "        [0.46666667, 0.4627451 , 0.50196078],\n",
              "        [0.44313725, 0.43921569, 0.47843137],\n",
              "        [0.44705882, 0.44313725, 0.48235294]],\n",
              "\n",
              "       [[0.55294118, 0.54509804, 0.56862745],\n",
              "        [0.6       , 0.59215686, 0.61568627],\n",
              "        [0.58431373, 0.57647059, 0.6       ],\n",
              "        ...,\n",
              "        [0.45490196, 0.45098039, 0.49019608],\n",
              "        [0.45490196, 0.45490196, 0.49411765],\n",
              "        [0.45882353, 0.45490196, 0.49411765]],\n",
              "\n",
              "       [[0.57254902, 0.56470588, 0.58823529],\n",
              "        [0.58039216, 0.57254902, 0.59607843],\n",
              "        [0.57254902, 0.56470588, 0.58823529],\n",
              "        ...,\n",
              "        [0.49019608, 0.48627451, 0.5254902 ],\n",
              "        [0.50196078, 0.49803922, 0.5372549 ],\n",
              "        [0.46666667, 0.4627451 , 0.50196078]]])"
            ]
          },
          "metadata": {
            "tags": []
          },
          "execution_count": 10
        }
      ]
    },
    {
      "cell_type": "code",
      "metadata": {
        "colab_type": "code",
        "outputId": "991bb3fe-4b9c-4e26-aa65-396da9cb943d",
        "id": "qQvLRr28lC87",
        "colab": {
          "base_uri": "https://localhost:8080/",
          "height": 268
        }
      },
      "source": [
        "plt.imshow(X_train[1])\n",
        "plt.show()"
      ],
      "execution_count": 11,
      "outputs": [
        {
          "output_type": "display_data",
          "data": {
            "image/png": "[encoded data removed]",
            "text/plain": [
              "<Figure size 432x288 with 1 Axes>"
            ]
          },
          "metadata": {
            "tags": [],
            "needs_background": "light"
          }
        }
      ]
    },
    {
      "cell_type": "markdown",
      "metadata": {
        "id": "WGgCzQpb8EH7",
        "colab_type": "text"
      },
      "source": [
        "* 모델 1"
      ]
    },
    {
      "cell_type": "code",
      "metadata": {
        "colab_type": "code",
        "id": "2wBVMWIIF-Cp",
        "colab": {}
      },
      "source": [
        "# 모델 구조 정의 \n",
        "model = Sequential()\n",
        "model.add(Conv2D(32, (3, 3), input_shape=X_train.shape[1:], padding='same', activation= 'relu'))\n",
        "model.add(MaxPooling2D(pool_size=(2, 2)))\n",
        "model.add(Dropout(0.25))\n",
        "\n",
        "model.add(Conv2D(64, (3, 3), padding='same', activation= 'relu'))\n",
        "model.add(MaxPooling2D(pool_size=(2, 2)))\n",
        "model.add(Dropout(0.25))\n",
        "\n",
        "model.add(Conv2D(64, (3, 3), padding = 'same', activation= 'relu'))\n",
        "model.add(MaxPooling2D(pool_size=(2, 2)))\n",
        "model.add(Dropout(0.25))\n",
        "\n",
        "# 전결합층\n",
        "model.add(Flatten())    # 벡터형태로 reshape\n",
        "model.add(Dense(512))   # 출력\n",
        "model.add(Activation('relu'))\n",
        "model.add(Dropout(0.5))\n",
        "model.add(Dense(33))\n",
        "model.add(Activation('softmax'))\n",
        "\n",
        "# 모델 구축하기\n",
        "model.compile(loss='categorical_crossentropy',   # 최적화 함수 지정\n",
        "    optimizer='rmsprop',\n",
        "    metrics=['accuracy'])"
      ],
      "execution_count": 0,
      "outputs": []
    },
    {
      "cell_type": "code",
      "metadata": {
        "colab_type": "code",
        "outputId": "6ad3cb8c-6c2f-445c-9cd7-b98e41f0bd71",
        "id": "WjoCEnX9HB8L",
        "colab": {
          "base_uri": "https://localhost:8080/",
          "height": 738
        }
      },
      "source": [
        "baseline_1= model.fit(X_train, y_train, epochs=20, batch_size=64, validation_data=(X_test, y_test))"
      ],
      "execution_count": 38,
      "outputs": [
        {
          "output_type": "stream",
          "text": [
            "Train on 32000 samples, validate on 8000 samples\n",
            "Epoch 1/20\n",
            "32000/32000 [==============================] - 8s 248us/step - loss: 1.8892 - accuracy: 0.4634 - val_loss: 0.9686 - val_accuracy: 0.7028\n",
            "Epoch 2/20\n",
            "32000/32000 [==============================] - 6s 199us/step - loss: 0.9423 - accuracy: 0.7085 - val_loss: 0.7280 - val_accuracy: 0.7709\n",
            "Epoch 3/20\n",
            "32000/32000 [==============================] - 6s 199us/step - loss: 0.6627 - accuracy: 0.7916 - val_loss: 0.3973 - val_accuracy: 0.8739\n",
            "Epoch 4/20\n",
            "32000/32000 [==============================] - 6s 197us/step - loss: 0.5251 - accuracy: 0.8323 - val_loss: 0.3369 - val_accuracy: 0.8888\n",
            "Epoch 5/20\n",
            "32000/32000 [==============================] - 6s 199us/step - loss: 0.4422 - accuracy: 0.8576 - val_loss: 0.2873 - val_accuracy: 0.9085\n",
            "Epoch 6/20\n",
            "32000/32000 [==============================] - 8s 242us/step - loss: 0.3811 - accuracy: 0.8784 - val_loss: 0.2397 - val_accuracy: 0.9252\n",
            "Epoch 7/20\n",
            "32000/32000 [==============================] - 8s 241us/step - loss: 0.3455 - accuracy: 0.8917 - val_loss: 0.2174 - val_accuracy: 0.9329\n",
            "Epoch 8/20\n",
            "32000/32000 [==============================] - 8s 240us/step - loss: 0.3141 - accuracy: 0.9006 - val_loss: 0.2586 - val_accuracy: 0.9150\n",
            "Epoch 9/20\n",
            "32000/32000 [==============================] - 8s 241us/step - loss: 0.3006 - accuracy: 0.9070 - val_loss: 0.2616 - val_accuracy: 0.9215\n",
            "Epoch 10/20\n",
            "32000/32000 [==============================] - 8s 242us/step - loss: 0.2847 - accuracy: 0.9119 - val_loss: 0.2319 - val_accuracy: 0.9309\n",
            "Epoch 11/20\n",
            "32000/32000 [==============================] - 8s 245us/step - loss: 0.2827 - accuracy: 0.9158 - val_loss: 0.2076 - val_accuracy: 0.9367\n",
            "Epoch 12/20\n",
            "32000/32000 [==============================] - 8s 241us/step - loss: 0.2752 - accuracy: 0.9154 - val_loss: 0.2393 - val_accuracy: 0.9276\n",
            "Epoch 13/20\n",
            "32000/32000 [==============================] - 8s 242us/step - loss: 0.2889 - accuracy: 0.9149 - val_loss: 0.3207 - val_accuracy: 0.9010\n",
            "Epoch 14/20\n",
            "32000/32000 [==============================] - 8s 240us/step - loss: 0.2825 - accuracy: 0.9168 - val_loss: 0.2526 - val_accuracy: 0.9249\n",
            "Epoch 15/20\n",
            "32000/32000 [==============================] - 8s 243us/step - loss: 0.2769 - accuracy: 0.9182 - val_loss: 0.2251 - val_accuracy: 0.9310\n",
            "Epoch 16/20\n",
            "32000/32000 [==============================] - 8s 242us/step - loss: 0.2855 - accuracy: 0.9170 - val_loss: 0.2550 - val_accuracy: 0.9250\n",
            "Epoch 17/20\n",
            "32000/32000 [==============================] - 8s 241us/step - loss: 0.2946 - accuracy: 0.9177 - val_loss: 0.2132 - val_accuracy: 0.9381\n",
            "Epoch 18/20\n",
            "32000/32000 [==============================] - 8s 242us/step - loss: 0.3003 - accuracy: 0.9178 - val_loss: 0.2169 - val_accuracy: 0.9340\n",
            "Epoch 19/20\n",
            "32000/32000 [==============================] - 8s 241us/step - loss: 0.3064 - accuracy: 0.9144 - val_loss: 0.2468 - val_accuracy: 0.9329\n",
            "Epoch 20/20\n",
            "32000/32000 [==============================] - 8s 239us/step - loss: 0.3138 - accuracy: 0.9148 - val_loss: 0.3592 - val_accuracy: 0.9005\n"
          ],
          "name": "stdout"
        }
      ]
    },
    {
      "cell_type": "code",
      "metadata": {
        "id": "ZQ8pFeEzGl2G",
        "colab_type": "code",
        "colab": {}
      },
      "source": [
        "# 모델 구조 정의 \n",
        "model = Sequential()\n",
        "model.add(Conv2D(32, (3, 3), input_shape=X_train.shape[1:], padding='same'))\n",
        "model.add(Activation('relu'))\n",
        "model.add(MaxPooling2D(pool_size=(2, 2)))\n",
        "model.add(Dropout(0.5))\n",
        "\n",
        "model.add(Conv2D(128, (3, 3), padding='same'))\n",
        "model.add(Activation('relu'))\n",
        "\n",
        "model.add(Conv2D(128, (3, 3)))\n",
        "model.add(MaxPooling2D(pool_size=(2, 2)))\n",
        "model.add(Dropout(0.5))\n",
        "\n",
        "# 전결합층\n",
        "model.add(Flatten())    # 벡터형태로 reshape\n",
        "model.add(Dense(512))   # 출력\n",
        "model.add(Activation('relu'))\n",
        "model.add(Dropout(0.5))\n",
        "model.add(Dense(33))\n",
        "model.add(Activation('softmax'))\n",
        "\n",
        "# 모델 구축하기\n",
        "model.compile(loss='categorical_crossentropy',   # 최적화 함수 지정\n",
        "    optimizer='rmsprop',\n",
        "    metrics=['accuracy'])"
      ],
      "execution_count": 0,
      "outputs": []
    },
    {
      "cell_type": "code",
      "metadata": {
        "id": "B0yPysWC8G2o",
        "colab_type": "code",
        "outputId": "d7fd47c6-d979-40e4-ec4c-44b4d20636f4",
        "colab": {
          "base_uri": "https://localhost:8080/",
          "height": 738
        }
      },
      "source": [
        "baseline_2= model.fit(X_train, y_train, epochs=20, batch_size=64, validation_data=(X_test, y_test))"
      ],
      "execution_count": 27,
      "outputs": [
        {
          "output_type": "stream",
          "text": [
            "Train on 32000 samples, validate on 8000 samples\n",
            "Epoch 1/20\n",
            "32000/32000 [==============================] - 11s 347us/step - loss: 1.8715 - accuracy: 0.4872 - val_loss: 1.2157 - val_accuracy: 0.6072\n",
            "Epoch 2/20\n",
            "32000/32000 [==============================] - 11s 340us/step - loss: 0.8337 - accuracy: 0.7397 - val_loss: 0.5921 - val_accuracy: 0.8061\n",
            "Epoch 3/20\n",
            "32000/32000 [==============================] - 11s 339us/step - loss: 0.6264 - accuracy: 0.8022 - val_loss: 0.5485 - val_accuracy: 0.8189\n",
            "Epoch 4/20\n",
            "32000/32000 [==============================] - 11s 340us/step - loss: 0.5145 - accuracy: 0.8370 - val_loss: 0.3889 - val_accuracy: 0.8752\n",
            "Epoch 5/20\n",
            "32000/32000 [==============================] - 11s 357us/step - loss: 0.4379 - accuracy: 0.8630 - val_loss: 0.4557 - val_accuracy: 0.8618\n",
            "Epoch 6/20\n",
            "32000/32000 [==============================] - 11s 356us/step - loss: 0.3981 - accuracy: 0.8776 - val_loss: 0.3963 - val_accuracy: 0.8870\n",
            "Epoch 7/20\n",
            "32000/32000 [==============================] - 11s 338us/step - loss: 0.3592 - accuracy: 0.8918 - val_loss: 0.4184 - val_accuracy: 0.8716\n",
            "Epoch 8/20\n",
            "32000/32000 [==============================] - 11s 338us/step - loss: 0.3376 - accuracy: 0.8990 - val_loss: 0.4500 - val_accuracy: 0.8744\n",
            "Epoch 9/20\n",
            "32000/32000 [==============================] - 11s 338us/step - loss: 0.3079 - accuracy: 0.9081 - val_loss: 0.6579 - val_accuracy: 0.8385\n",
            "Epoch 10/20\n",
            "32000/32000 [==============================] - 11s 341us/step - loss: 0.2926 - accuracy: 0.9129 - val_loss: 0.6047 - val_accuracy: 0.8479\n",
            "Epoch 11/20\n",
            "32000/32000 [==============================] - 11s 345us/step - loss: 0.2761 - accuracy: 0.9189 - val_loss: 0.6088 - val_accuracy: 0.8539\n",
            "Epoch 12/20\n",
            "32000/32000 [==============================] - 11s 337us/step - loss: 0.2621 - accuracy: 0.9253 - val_loss: 0.3906 - val_accuracy: 0.8964\n",
            "Epoch 13/20\n",
            "32000/32000 [==============================] - 11s 340us/step - loss: 0.2505 - accuracy: 0.9285 - val_loss: 0.4213 - val_accuracy: 0.8928\n",
            "Epoch 14/20\n",
            "32000/32000 [==============================] - 11s 340us/step - loss: 0.2577 - accuracy: 0.9299 - val_loss: 0.9576 - val_accuracy: 0.7940\n",
            "Epoch 15/20\n",
            "32000/32000 [==============================] - 11s 342us/step - loss: 0.2428 - accuracy: 0.9338 - val_loss: 0.9315 - val_accuracy: 0.8098\n",
            "Epoch 16/20\n",
            "32000/32000 [==============================] - 11s 343us/step - loss: 0.2461 - accuracy: 0.9362 - val_loss: 0.8574 - val_accuracy: 0.8223\n",
            "Epoch 17/20\n",
            "32000/32000 [==============================] - 11s 351us/step - loss: 0.2451 - accuracy: 0.9371 - val_loss: 0.4269 - val_accuracy: 0.9038\n",
            "Epoch 18/20\n",
            "32000/32000 [==============================] - 12s 364us/step - loss: 0.2486 - accuracy: 0.9371 - val_loss: 0.6673 - val_accuracy: 0.8714\n",
            "Epoch 19/20\n",
            "32000/32000 [==============================] - 11s 350us/step - loss: 0.2494 - accuracy: 0.9408 - val_loss: 0.5047 - val_accuracy: 0.8950\n",
            "Epoch 20/20\n",
            "32000/32000 [==============================] - 11s 337us/step - loss: 0.2296 - accuracy: 0.9437 - val_loss: 1.5499 - val_accuracy: 0.7775\n"
          ],
          "name": "stdout"
        }
      ]
    },
    {
      "cell_type": "markdown",
      "metadata": {
        "id": "IOZ7V-LiG8ba",
        "colab_type": "text"
      },
      "source": [
        "* 모델을 좀 키워봤더니 정확도도 낮고, 점점 오버피팅되네\n",
        "* 학습 속도는 한에폭당 2초정도 더걸림\n",
        "* baseline 1이던 2던 둘다 에폭을 늘리는건 의미가 없어보인다.."
      ]
    },
    {
      "cell_type": "code",
      "metadata": {
        "id": "c18NYq0mJm6u",
        "colab_type": "code",
        "colab": {
          "base_uri": "https://localhost:8080/",
          "height": 34
        },
        "outputId": "50f8e751-8a4b-4a49-ea72-c3588d1adf8d"
      },
      "source": [
        "X_train.shape"
      ],
      "execution_count": 41,
      "outputs": [
        {
          "output_type": "execute_result",
          "data": {
            "text/plain": [
              "(32000, 64, 64, 3)"
            ]
          },
          "metadata": {
            "tags": []
          },
          "execution_count": 41
        }
      ]
    },
    {
      "cell_type": "markdown",
      "metadata": {
        "id": "F920gq4xPTQb",
        "colab_type": "text"
      },
      "source": [
        "baseline_3, 4는 레이어를 4개로 늘려봄"
      ]
    },
    {
      "cell_type": "markdown",
      "metadata": {
        "id": "Us-B_Z5ELRix",
        "colab_type": "text"
      },
      "source": [
        "* 레이어 3개까지는 비슷했는데 4개로 늘리니까 좀 성능도 낮고 오버피팅됨"
      ]
    },
    {
      "cell_type": "code",
      "metadata": {
        "colab_type": "code",
        "outputId": "8aa26325-0362-40b9-8601-15e3c653bc26",
        "id": "I_c-5VwRIMTE",
        "colab": {
          "base_uri": "https://localhost:8080/",
          "height": 738
        }
      },
      "source": [
        "baseline_3= model.fit(X_train, y_train, epochs=20, batch_size=64, validation_data=(X_test, y_test))"
      ],
      "execution_count": 36,
      "outputs": [
        {
          "output_type": "stream",
          "text": [
            "Train on 32000 samples, validate on 8000 samples\n",
            "Epoch 1/20\n",
            "32000/32000 [==============================] - 8s 254us/step - loss: 2.5787 - accuracy: 0.2833 - val_loss: 1.8241 - val_accuracy: 0.4611\n",
            "Epoch 2/20\n",
            "32000/32000 [==============================] - 8s 249us/step - loss: 1.4808 - accuracy: 0.5504 - val_loss: 1.1438 - val_accuracy: 0.6852\n",
            "Epoch 3/20\n",
            "32000/32000 [==============================] - 8s 248us/step - loss: 1.0819 - accuracy: 0.6646 - val_loss: 0.7317 - val_accuracy: 0.7719\n",
            "Epoch 4/20\n",
            "32000/32000 [==============================] - 8s 245us/step - loss: 0.8891 - accuracy: 0.7226 - val_loss: 0.6756 - val_accuracy: 0.7959\n",
            "Epoch 5/20\n",
            "32000/32000 [==============================] - 8s 246us/step - loss: 0.7668 - accuracy: 0.7572 - val_loss: 0.5879 - val_accuracy: 0.8145\n",
            "Epoch 6/20\n",
            "32000/32000 [==============================] - 8s 246us/step - loss: 0.6848 - accuracy: 0.7834 - val_loss: 0.5131 - val_accuracy: 0.8313\n",
            "Epoch 7/20\n",
            "32000/32000 [==============================] - 8s 246us/step - loss: 0.6274 - accuracy: 0.8037 - val_loss: 0.5234 - val_accuracy: 0.8276\n",
            "Epoch 8/20\n",
            "32000/32000 [==============================] - 8s 245us/step - loss: 0.5844 - accuracy: 0.8180 - val_loss: 0.4970 - val_accuracy: 0.8306\n",
            "Epoch 9/20\n",
            "32000/32000 [==============================] - 8s 245us/step - loss: 0.5482 - accuracy: 0.8264 - val_loss: 0.5416 - val_accuracy: 0.8305\n",
            "Epoch 10/20\n",
            "32000/32000 [==============================] - 8s 248us/step - loss: 0.5225 - accuracy: 0.8350 - val_loss: 0.4435 - val_accuracy: 0.8546\n",
            "Epoch 11/20\n",
            "32000/32000 [==============================] - 8s 245us/step - loss: 0.4997 - accuracy: 0.8435 - val_loss: 0.6392 - val_accuracy: 0.7974\n",
            "Epoch 12/20\n",
            "32000/32000 [==============================] - 8s 245us/step - loss: 0.4739 - accuracy: 0.8526 - val_loss: 0.5056 - val_accuracy: 0.8414\n",
            "Epoch 13/20\n",
            "32000/32000 [==============================] - 8s 246us/step - loss: 0.4686 - accuracy: 0.8534 - val_loss: 0.3724 - val_accuracy: 0.8774\n",
            "Epoch 14/20\n",
            "32000/32000 [==============================] - 8s 249us/step - loss: 0.4553 - accuracy: 0.8599 - val_loss: 0.4037 - val_accuracy: 0.8727\n",
            "Epoch 15/20\n",
            "32000/32000 [==============================] - 8s 245us/step - loss: 0.4466 - accuracy: 0.8634 - val_loss: 0.3859 - val_accuracy: 0.8761\n",
            "Epoch 16/20\n",
            "32000/32000 [==============================] - 8s 245us/step - loss: 0.4456 - accuracy: 0.8638 - val_loss: 0.3318 - val_accuracy: 0.8994\n",
            "Epoch 17/20\n",
            "32000/32000 [==============================] - 8s 247us/step - loss: 0.4332 - accuracy: 0.8705 - val_loss: 0.3224 - val_accuracy: 0.9001\n",
            "Epoch 18/20\n",
            "32000/32000 [==============================] - 8s 248us/step - loss: 0.4366 - accuracy: 0.8692 - val_loss: 0.4976 - val_accuracy: 0.8441\n",
            "Epoch 19/20\n",
            "32000/32000 [==============================] - 8s 246us/step - loss: 0.4261 - accuracy: 0.8720 - val_loss: 0.4303 - val_accuracy: 0.8636\n",
            "Epoch 20/20\n",
            "32000/32000 [==============================] - 8s 247us/step - loss: 0.4226 - accuracy: 0.8724 - val_loss: 0.4937 - val_accuracy: 0.8491\n"
          ],
          "name": "stdout"
        }
      ]
    },
    {
      "cell_type": "code",
      "metadata": {
        "colab_type": "code",
        "id": "L18DytH4HXI5",
        "colab": {}
      },
      "source": [
        "# baseline_4 : 3이랑 똑같은데 dropout(0.25) 두개를 지워봄\n",
        "# 모델 구조 정의 \n",
        "model = Sequential()\n",
        "model.add(Conv2D(32, (3, 3), input_shape=X_train.shape[1:], padding='same', activation='relu'))\n",
        "model.add(MaxPooling2D(pool_size=(2, 2)))\n",
        "model.add(Dropout(0.25))\n",
        "\n",
        "model.add(Conv2D(64, (3, 3), padding='same',activation='relu'))\n",
        "model.add(MaxPooling2D(pool_size=(2, 2)))\n",
        "\n",
        "\n",
        "model.add(Conv2D(64, (3, 3), padding = 'same',activation='relu'))\n",
        "model.add(MaxPooling2D(pool_size=(2, 2)))\n",
        "\n",
        "\n",
        "model.add(Conv2D(128, (3, 3), padding = 'same',activation='relu'))\n",
        "model.add(MaxPooling2D(pool_size=(2, 2)))\n",
        "model.add(Dropout(0.5))\n",
        "\n",
        "model.add(Conv2D(64, (3, 3), padding = 'same',activation='relu'))\n",
        "model.add(MaxPooling2D(pool_size=(2, 2)))\n",
        "model.add(Dropout(0.25))\n",
        "\n",
        "# 전결합층\n",
        "model.add(Flatten())    # 벡터형태로 reshape\n",
        "model.add(Dense(512))   # 출력\n",
        "model.add(Activation('relu'))\n",
        "model.add(Dropout(0.5))\n",
        "model.add(Dense(33))\n",
        "model.add(Activation('softmax'))\n",
        "\n",
        "# 모델 구축하기\n",
        "model.compile(loss='categorical_crossentropy',   # 최적화 함수 지정\n",
        "    optimizer='rmsprop',\n",
        "    metrics=['accuracy'])"
      ],
      "execution_count": 0,
      "outputs": []
    },
    {
      "cell_type": "code",
      "metadata": {
        "id": "Gd-HR2jaN-sE",
        "colab_type": "code",
        "colab": {
          "base_uri": "https://localhost:8080/",
          "height": 738
        },
        "outputId": "b9a90aac-11e6-4a69-a7fe-15e45d6fbcda"
      },
      "source": [
        "baseline_4= model.fit(X_train, y_train, epochs=20, batch_size=64, validation_data=(X_test, y_test)) #baseline 3에서 두개의 층에서 Dropout)0.25)을 없애봄"
      ],
      "execution_count": 40,
      "outputs": [
        {
          "output_type": "stream",
          "text": [
            "Train on 32000 samples, validate on 8000 samples\n",
            "Epoch 1/20\n",
            "32000/32000 [==============================] - 8s 255us/step - loss: 2.5306 - accuracy: 0.2931 - val_loss: 1.4436 - val_accuracy: 0.5726\n",
            "Epoch 2/20\n",
            "32000/32000 [==============================] - 8s 243us/step - loss: 1.3651 - accuracy: 0.5805 - val_loss: 0.8671 - val_accuracy: 0.7331\n",
            "Epoch 3/20\n",
            "32000/32000 [==============================] - 8s 247us/step - loss: 0.9774 - accuracy: 0.6919 - val_loss: 0.6564 - val_accuracy: 0.7828\n",
            "Epoch 4/20\n",
            "32000/32000 [==============================] - 8s 246us/step - loss: 0.7911 - accuracy: 0.7497 - val_loss: 0.5529 - val_accuracy: 0.8189\n",
            "Epoch 5/20\n",
            "32000/32000 [==============================] - 8s 244us/step - loss: 0.6725 - accuracy: 0.7835 - val_loss: 0.4407 - val_accuracy: 0.8520\n",
            "Epoch 6/20\n",
            "32000/32000 [==============================] - 8s 244us/step - loss: 0.5967 - accuracy: 0.8086 - val_loss: 0.5303 - val_accuracy: 0.8311\n",
            "Epoch 7/20\n",
            "32000/32000 [==============================] - 8s 245us/step - loss: 0.5417 - accuracy: 0.8290 - val_loss: 0.3539 - val_accuracy: 0.8808\n",
            "Epoch 8/20\n",
            "32000/32000 [==============================] - 8s 246us/step - loss: 0.4947 - accuracy: 0.8430 - val_loss: 0.3581 - val_accuracy: 0.8884\n",
            "Epoch 9/20\n",
            "32000/32000 [==============================] - 8s 243us/step - loss: 0.4704 - accuracy: 0.8517 - val_loss: 0.3154 - val_accuracy: 0.8955\n",
            "Epoch 10/20\n",
            "32000/32000 [==============================] - 8s 244us/step - loss: 0.4469 - accuracy: 0.8572 - val_loss: 0.3103 - val_accuracy: 0.8970\n",
            "Epoch 11/20\n",
            "32000/32000 [==============================] - 8s 243us/step - loss: 0.4322 - accuracy: 0.8653 - val_loss: 0.3973 - val_accuracy: 0.8711\n",
            "Epoch 12/20\n",
            "32000/32000 [==============================] - 8s 245us/step - loss: 0.4296 - accuracy: 0.8667 - val_loss: 0.5656 - val_accuracy: 0.8140\n",
            "Epoch 13/20\n",
            "32000/32000 [==============================] - 8s 246us/step - loss: 0.4108 - accuracy: 0.8762 - val_loss: 0.2989 - val_accuracy: 0.9071\n",
            "Epoch 14/20\n",
            "32000/32000 [==============================] - 8s 244us/step - loss: 0.3963 - accuracy: 0.8789 - val_loss: 0.3129 - val_accuracy: 0.9040\n",
            "Epoch 15/20\n",
            "32000/32000 [==============================] - 8s 245us/step - loss: 0.3925 - accuracy: 0.8802 - val_loss: 0.2919 - val_accuracy: 0.9135\n",
            "Epoch 16/20\n",
            "32000/32000 [==============================] - 8s 244us/step - loss: 0.3969 - accuracy: 0.8809 - val_loss: 0.2861 - val_accuracy: 0.9094\n",
            "Epoch 17/20\n",
            "32000/32000 [==============================] - 8s 245us/step - loss: 0.4019 - accuracy: 0.8822 - val_loss: 0.3109 - val_accuracy: 0.9084\n",
            "Epoch 18/20\n",
            "32000/32000 [==============================] - 8s 245us/step - loss: 0.3823 - accuracy: 0.8882 - val_loss: 0.2741 - val_accuracy: 0.9159\n",
            "Epoch 19/20\n",
            "32000/32000 [==============================] - 8s 247us/step - loss: 0.3829 - accuracy: 0.8863 - val_loss: 0.3064 - val_accuracy: 0.9036\n",
            "Epoch 20/20\n",
            "32000/32000 [==============================] - 8s 255us/step - loss: 0.4030 - accuracy: 0.8855 - val_loss: 0.4833 - val_accuracy: 0.8606\n"
          ],
          "name": "stdout"
        }
      ]
    },
    {
      "cell_type": "markdown",
      "metadata": {
        "id": "PYTbfayKPkSH",
        "colab_type": "text"
      },
      "source": [
        "baseline 3이랑 4는 별차이 없네"
      ]
    },
    {
      "cell_type": "code",
      "metadata": {
        "id": "fcl9Tea7_1V-",
        "colab_type": "code",
        "colab": {}
      },
      "source": [
        "#모델 저장\n",
        "name='plant_0607_20epoch.h5'\n",
        "model.save(name)"
      ],
      "execution_count": 0,
      "outputs": []
    },
    {
      "cell_type": "code",
      "metadata": {
        "id": "6jEdOslM_3bz",
        "colab_type": "code",
        "outputId": "b7def2c5-680b-4c50-b975-b06e7c0561bf",
        "colab": {
          "base_uri": "https://localhost:8080/",
          "height": 703
        }
      },
      "source": [
        "# 모델 불러오기\n",
        "import keras\n",
        "new_model = keras.models.load_model(name)\n",
        "new_model.summary()\n",
        "\n",
        "loss,acc = new_model.evaluate(X_test,y_test, verbose=2)  #verbose는 one line per epoch\n",
        "print(\"복원된 모델의 정확도: {:5.2f}%\".format(100*acc))"
      ],
      "execution_count": 23,
      "outputs": [
        {
          "output_type": "stream",
          "text": [
            "Model: \"sequential_1\"\n",
            "_________________________________________________________________\n",
            "Layer (type)                 Output Shape              Param #   \n",
            "=================================================================\n",
            "conv2d_1 (Conv2D)            (None, 64, 64, 32)        896       \n",
            "_________________________________________________________________\n",
            "activation_1 (Activation)    (None, 64, 64, 32)        0         \n",
            "_________________________________________________________________\n",
            "max_pooling2d_1 (MaxPooling2 (None, 32, 32, 32)        0         \n",
            "_________________________________________________________________\n",
            "dropout_1 (Dropout)          (None, 32, 32, 32)        0         \n",
            "_________________________________________________________________\n",
            "conv2d_2 (Conv2D)            (None, 32, 32, 64)        18496     \n",
            "_________________________________________________________________\n",
            "activation_2 (Activation)    (None, 32, 32, 64)        0         \n",
            "_________________________________________________________________\n",
            "conv2d_3 (Conv2D)            (None, 30, 30, 64)        36928     \n",
            "_________________________________________________________________\n",
            "max_pooling2d_2 (MaxPooling2 (None, 15, 15, 64)        0         \n",
            "_________________________________________________________________\n",
            "dropout_2 (Dropout)          (None, 15, 15, 64)        0         \n",
            "_________________________________________________________________\n",
            "flatten_1 (Flatten)          (None, 14400)             0         \n",
            "_________________________________________________________________\n",
            "dense_1 (Dense)              (None, 512)               7373312   \n",
            "_________________________________________________________________\n",
            "activation_3 (Activation)    (None, 512)               0         \n",
            "_________________________________________________________________\n",
            "dropout_3 (Dropout)          (None, 512)               0         \n",
            "_________________________________________________________________\n",
            "dense_2 (Dense)              (None, 33)                16929     \n",
            "_________________________________________________________________\n",
            "activation_4 (Activation)    (None, 33)                0         \n",
            "=================================================================\n",
            "Total params: 7,446,561\n",
            "Trainable params: 7,446,561\n",
            "Non-trainable params: 0\n",
            "_________________________________________________________________\n",
            "복원된 모델의 정확도: 92.44%\n"
          ],
          "name": "stdout"
        }
      ]
    },
    {
      "cell_type": "code",
      "metadata": {
        "id": "kMuzEJP4QG4t",
        "colab_type": "code",
        "outputId": "e199dfa3-22d6-4890-d1d4-ec6e245750de",
        "colab": {
          "base_uri": "https://localhost:8080/",
          "height": 573
        }
      },
      "source": [
        "# accuracy plot \n",
        "plt.plot(baseline_1.history['accuracy'])\n",
        "plt.plot(baseline_1.history['val_accuracy'])\n",
        "plt.title('model accuracy')\n",
        "plt.ylabel('accuracy')\n",
        "plt.xlabel('epoch')\n",
        "plt.legend(['train', 'test'], loc='upper left')\n",
        "plt.show()\n",
        "\n",
        "# loss plot\n",
        "plt.plot(baseline_1.history['loss'])\n",
        "plt.plot(baseline_1.history['val_loss'])\n",
        "plt.title('model loss')\n",
        "plt.ylabel('loss')\n",
        "plt.xlabel('epoch')\n",
        "plt.legend(['train', 'test'], loc='upper left')\n",
        "plt.show()"
      ],
      "execution_count": 42,
      "outputs": [
        {
          "output_type": "display_data",
          "data": {
            "image/png": "[encoded data removed]",
            "text/plain": [
              "<Figure size 432x288 with 1 Axes>"
            ]
          },
          "metadata": {
            "tags": [],
            "needs_background": "light"
          }
        },
        {
          "output_type": "display_data",
          "data": {
            "image/png": "[encoded data removed]",
            "text/plain": [
              "<Figure size 432x288 with 1 Axes>"
            ]
          },
          "metadata": {
            "tags": [],
            "needs_background": "light"
          }
        }
      ]
    },
    {
      "cell_type": "code",
      "metadata": {
        "id": "ielj7ZkCWbFF",
        "colab_type": "code",
        "colab": {}
      },
      "source": [
        "#모델 저장 또 다른 방법 ???\n",
        "from tensorflow.keras.callbacks import ModelCheckpoint\n",
        "\n",
        "filepath = '/content/gdrive/My Drive/전처리 후/model.plant.{epoch:02d}.hdf5'\n",
        "modelckpt = ModelCheckpoint(filepath=filepath)"
      ],
      "execution_count": 0,
      "outputs": []
    },
    {
      "cell_type": "markdown",
      "metadata": {
        "id": "dZO4MF9wDiqL",
        "colab_type": "text"
      },
      "source": [
        "* 의문사항: 그리드서치 같은건... 데이터를 인풋으로 안넣는데 어떻게 찾는거지????\n",
        "* 레이어 수랑 그 안의 필터 갯수를 정하는 기준이 궁금함... 진짜 찐으로 랜덤으로 때려박는건가....\n",
        "* y 라벨 클라스(?) 같은거 카운트하는 방법 없나.....\n",
        "* 램 용량이 갑자기 2GB로 줄고.. 학습이 빨라졌는데 이유가 뭐지 ;; 불안함.. 정확도도 높아짐;;;; 무슨일.. (0607)\n"
      ]
    },
    {
      "cell_type": "code",
      "metadata": {
        "id": "Dklz1zEF4x4u",
        "colab_type": "code",
        "colab": {}
      },
      "source": [
        "# 학습 완료된 모델 저장\n",
        "hdf5_file = \"../0605plant_model.hdf5\"\n",
        "if os.path.exists(hdf5_file):\n",
        "    # 기존에 학습된 모델 불러들이기\n",
        "    model.load_weights(hdf5_file)\n",
        "else:\n",
        "    # 학습한 모델이 없으면 파일로 저장\n",
        "    model.fit(X_train, y_train, batch_size=32, nb_epoch=10)\n",
        "    model.save_weights(hdf5_file)"
      ],
      "execution_count": 0,
      "outputs": []
    }
  ]
}